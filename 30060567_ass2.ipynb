{
 "cells": [
  {
   "cell_type": "markdown",
   "metadata": {},
   "source": [
    "# FIT 5196 Assessment 2: Data Cleaning"
   ]
  },
  {
   "cell_type": "markdown",
   "metadata": {},
   "source": [
    "#### Student Name: Surbhi Sanjay Peshwe\n",
    "#### Student Id: 30060567"
   ]
  },
  {
   "cell_type": "markdown",
   "metadata": {},
   "source": [
    " Date: 4-10-2018 "
   ]
  },
  {
   "cell_type": "markdown",
   "metadata": {},
   "source": [
    "Environment: Python 2.7.11 and Jupyter Notebook\n",
    "Libraries used:\n",
    "* pandas \n",
    "* numpy\n",
    "* matplotlib (for plotting)\n",
    "* GridSearchCV\n",
    "* neighbors\n",
    "\n",
    "## 1. Introduction\n",
    "This analysis extract data from the given dataset as csv file. Data is extracted by reading the input file '30060567.csv' , finding the errors in the datasets and then fixing it by various methods.\n",
    "\n",
    "The dataset is about delivering packages using drones in Victoria, Australia. \n",
    "***write about data cleaning***\n",
    "This data set contains the following variable:\n",
    "* Id - Unique id for the delivery\n",
    "* Drone Type - Types of Drone (takeOff, OnRoute, Landing) \n",
    "* Post Type - a boolean variable indicates weather \n",
    "* Package weight - weight of the package\n",
    "* Origin region - region for the origin of the delivery\n",
    "* Destination region - region for the destination of the delivery\n",
    "* Origin Latitude - Latitude of the origin\n",
    "* Origin Longitude - Longitude of the origin\n",
    "* Destination Latitude - Latitude of the destination\n",
    "* Destination Longitude - Longitude of the destination\n",
    "* Distance - Distance of the Journey\n",
    "* Departure date - Date of the departure\n",
    "* Departure time - Time of the departure\n",
    "* Travel time - Travel time of the journey\n",
    "* Delivery time - Time of the delivery\n",
    "* Delivery price - Delivery fare"
   ]
  },
  {
   "cell_type": "markdown",
   "metadata": {},
   "source": [
    "## 2. Import Libraries"
   ]
  },
  {
   "cell_type": "code",
   "execution_count": 1,
   "metadata": {},
   "outputs": [],
   "source": [
    "#Importing libraries\n",
    "import pandas as pd\n",
    "import numpy as np\n",
    "import re\n",
    "from sklearn.model_selection import GridSearchCV\n",
    "from sklearn import neighbors\n",
    "#Visualisation\n",
    "import matplotlib.pyplot as plt\n",
    "%matplotlib inline\n",
    "import seaborn as sns\n",
    "\n"
   ]
  },
  {
   "cell_type": "markdown",
   "metadata": {},
   "source": [
    "## 3. Examing and Loading Data"
   ]
  },
  {
   "cell_type": "markdown",
   "metadata": {},
   "source": [
    "The file 30060567.csv contains 36602 rows and 16 columns where it provides an information of how packets are deliver using Drone. In order to clean this dataset, first we need to check the errors in it and then fix it accordingly.\n",
    "Initially, we can check the relations between column by graphical and non-graphical EDA."
   ]
  },
  {
   "cell_type": "markdown",
   "metadata": {},
   "source": [
    "#### 3.1 Initial loading csv file\n",
    "The data has been loaded and stored in Pandas DataFrame. "
   ]
  },
  {
   "cell_type": "code",
   "execution_count": 2,
   "metadata": {},
   "outputs": [],
   "source": [
    "#reading file\n",
    "main_df = pd.read_csv('30060567.csv')\n"
   ]
  },
  {
   "cell_type": "markdown",
   "metadata": {},
   "source": [
    "#### 3.2 Examine the dataset\n"
   ]
  },
  {
   "cell_type": "code",
   "execution_count": 3,
   "metadata": {},
   "outputs": [
    {
     "name": "stdout",
     "output_type": "stream",
     "text": [
      "(36602, 16)\n"
     ]
    },
    {
     "data": {
      "text/html": [
       "<div>\n",
       "<style scoped>\n",
       "    .dataframe tbody tr th:only-of-type {\n",
       "        vertical-align: middle;\n",
       "    }\n",
       "\n",
       "    .dataframe tbody tr th {\n",
       "        vertical-align: top;\n",
       "    }\n",
       "\n",
       "    .dataframe thead th {\n",
       "        text-align: right;\n",
       "    }\n",
       "</style>\n",
       "<table border=\"1\" class=\"dataframe\">\n",
       "  <thead>\n",
       "    <tr style=\"text-align: right;\">\n",
       "      <th></th>\n",
       "      <th>Id</th>\n",
       "      <th>Drone Type</th>\n",
       "      <th>Post Type</th>\n",
       "      <th>Package Weight</th>\n",
       "      <th>Origin Region</th>\n",
       "      <th>Destination Region</th>\n",
       "      <th>Origin Latitude</th>\n",
       "      <th>Origin Longitude</th>\n",
       "      <th>Destination Latitude</th>\n",
       "      <th>Destination Longitude</th>\n",
       "      <th>Journey Distance</th>\n",
       "      <th>Departure Date</th>\n",
       "      <th>Departure Time</th>\n",
       "      <th>Travel Time</th>\n",
       "      <th>Delivery Time</th>\n",
       "      <th>Delivery Fare</th>\n",
       "    </tr>\n",
       "  </thead>\n",
       "  <tbody>\n",
       "    <tr>\n",
       "      <th>0</th>\n",
       "      <td>ID1834785454</td>\n",
       "      <td>1.0</td>\n",
       "      <td>0.0</td>\n",
       "      <td>16.293</td>\n",
       "      <td>2.0</td>\n",
       "      <td>27.0</td>\n",
       "      <td>-38.360810</td>\n",
       "      <td>147.323854</td>\n",
       "      <td>-36.764111</td>\n",
       "      <td>143.027329</td>\n",
       "      <td>418.66</td>\n",
       "      <td>2018-07-04</td>\n",
       "      <td>20:57:17</td>\n",
       "      <td>411.85</td>\n",
       "      <td>3:49:08</td>\n",
       "      <td>114.14</td>\n",
       "    </tr>\n",
       "    <tr>\n",
       "      <th>1</th>\n",
       "      <td>ID1737270123</td>\n",
       "      <td>1.0</td>\n",
       "      <td>0.0</td>\n",
       "      <td>41.582</td>\n",
       "      <td>47.0</td>\n",
       "      <td>1.0</td>\n",
       "      <td>-38.262187</td>\n",
       "      <td>144.969571</td>\n",
       "      <td>-37.496778</td>\n",
       "      <td>145.506006</td>\n",
       "      <td>97.37</td>\n",
       "      <td>2018-07-10</td>\n",
       "      <td>07:44:31</td>\n",
       "      <td>100.92</td>\n",
       "      <td>9:25:26</td>\n",
       "      <td>76.94</td>\n",
       "    </tr>\n",
       "    <tr>\n",
       "      <th>2</th>\n",
       "      <td>ID1959080078</td>\n",
       "      <td>2.0</td>\n",
       "      <td>0.0</td>\n",
       "      <td>23.518</td>\n",
       "      <td>24.0</td>\n",
       "      <td>38.0</td>\n",
       "      <td>-37.233290</td>\n",
       "      <td>146.160671</td>\n",
       "      <td>-37.665601</td>\n",
       "      <td>143.381099</td>\n",
       "      <td>250.30</td>\n",
       "      <td>2018-01-09</td>\n",
       "      <td>11:55:50</td>\n",
       "      <td>224.54</td>\n",
       "      <td>15:40:22</td>\n",
       "      <td>119.74</td>\n",
       "    </tr>\n",
       "    <tr>\n",
       "      <th>3</th>\n",
       "      <td>ID1590889569</td>\n",
       "      <td>2.0</td>\n",
       "      <td>0.0</td>\n",
       "      <td>12.991</td>\n",
       "      <td>21.0</td>\n",
       "      <td>31.0</td>\n",
       "      <td>-36.680832</td>\n",
       "      <td>144.968532</td>\n",
       "      <td>-37.193321</td>\n",
       "      <td>148.374020</td>\n",
       "      <td>308.31</td>\n",
       "      <td>2018-05-13</td>\n",
       "      <td>19:27:02</td>\n",
       "      <td>274.98</td>\n",
       "      <td>0:02:00</td>\n",
       "      <td>133.86</td>\n",
       "    </tr>\n",
       "    <tr>\n",
       "      <th>4</th>\n",
       "      <td>ID5694828340</td>\n",
       "      <td>2.0</td>\n",
       "      <td>1.0</td>\n",
       "      <td>43.715</td>\n",
       "      <td>13.0</td>\n",
       "      <td>35.0</td>\n",
       "      <td>-37.412662</td>\n",
       "      <td>144.468331</td>\n",
       "      <td>-38.995723</td>\n",
       "      <td>148.077381</td>\n",
       "      <td>361.51</td>\n",
       "      <td>2018-05-06</td>\n",
       "      <td>23:51:34</td>\n",
       "      <td>321.24</td>\n",
       "      <td>5:12:48</td>\n",
       "      <td>188.93</td>\n",
       "    </tr>\n",
       "  </tbody>\n",
       "</table>\n",
       "</div>"
      ],
      "text/plain": [
       "             Id  Drone Type  Post Type  Package Weight  Origin Region  \\\n",
       "0  ID1834785454         1.0        0.0          16.293            2.0   \n",
       "1  ID1737270123         1.0        0.0          41.582           47.0   \n",
       "2  ID1959080078         2.0        0.0          23.518           24.0   \n",
       "3  ID1590889569         2.0        0.0          12.991           21.0   \n",
       "4  ID5694828340         2.0        1.0          43.715           13.0   \n",
       "\n",
       "   Destination Region  Origin Latitude  Origin Longitude  \\\n",
       "0                27.0       -38.360810        147.323854   \n",
       "1                 1.0       -38.262187        144.969571   \n",
       "2                38.0       -37.233290        146.160671   \n",
       "3                31.0       -36.680832        144.968532   \n",
       "4                35.0       -37.412662        144.468331   \n",
       "\n",
       "   Destination Latitude  Destination Longitude  Journey Distance  \\\n",
       "0            -36.764111             143.027329            418.66   \n",
       "1            -37.496778             145.506006             97.37   \n",
       "2            -37.665601             143.381099            250.30   \n",
       "3            -37.193321             148.374020            308.31   \n",
       "4            -38.995723             148.077381            361.51   \n",
       "\n",
       "  Departure Date Departure Time  Travel Time Delivery Time  Delivery Fare  \n",
       "0     2018-07-04       20:57:17       411.85       3:49:08         114.14  \n",
       "1     2018-07-10       07:44:31       100.92       9:25:26          76.94  \n",
       "2     2018-01-09       11:55:50       224.54      15:40:22         119.74  \n",
       "3     2018-05-13       19:27:02       274.98       0:02:00         133.86  \n",
       "4     2018-05-06       23:51:34       321.24       5:12:48         188.93  "
      ]
     },
     "execution_count": 3,
     "metadata": {},
     "output_type": "execute_result"
    }
   ],
   "source": [
    "#number of rows and columns\n",
    "print(main_df.shape)\n",
    "#reading top 5 rows\n",
    "main_df.head()"
   ]
  },
  {
   "cell_type": "markdown",
   "metadata": {},
   "source": [
    "We've got a sense of the variables, their class type, and the first few observations of each by observing the data. We know that we are working with 36602 observations of 16 variables. \n",
    "\n",
    "From the above observation, we examined that categorical variables and numerical variables.\n",
    "* Categorical Variables : Drone Type, Post Type, Origin region, Destination Region\n",
    "* Numerical Variables : Id, Package Weight, Origin Latitude, Origin Longitude, Destination Latitude, Destination Longitude,Journey Distance,Departure Date,Departure Time,Travel Time,Delivery Time,Delivery Fare"
   ]
  },
  {
   "cell_type": "code",
   "execution_count": 4,
   "metadata": {},
   "outputs": [
    {
     "name": "stdout",
     "output_type": "stream",
     "text": [
      "<class 'pandas.core.frame.DataFrame'>\n",
      "RangeIndex: 36602 entries, 0 to 36601\n",
      "Data columns (total 16 columns):\n",
      "Id                       36580 non-null object\n",
      "Drone Type               36592 non-null float64\n",
      "Post Type                36582 non-null float64\n",
      "Package Weight           36602 non-null float64\n",
      "Origin Region            36592 non-null float64\n",
      "Destination Region       36592 non-null float64\n",
      "Origin Latitude          36602 non-null float64\n",
      "Origin Longitude         36602 non-null float64\n",
      "Destination Latitude     36602 non-null float64\n",
      "Destination Longitude    36602 non-null float64\n",
      "Journey Distance         36602 non-null float64\n",
      "Departure Date           36602 non-null object\n",
      "Departure Time           36602 non-null object\n",
      "Travel Time              36562 non-null float64\n",
      "Delivery Time            36602 non-null object\n",
      "Delivery Fare            36574 non-null float64\n",
      "dtypes: float64(12), object(4)\n",
      "memory usage: 4.5+ MB\n"
     ]
    }
   ],
   "source": [
    "main_df.info()"
   ]
  },
  {
   "cell_type": "markdown",
   "metadata": {},
   "source": [
    "Here, we can see that there are few entries missing in columns like ID,Drone Type,Post Type,Origin Region , Destination Region, Travel time and Delivery fare. As the data contents numeric values it is observed that  Id, Departure Time, Departure Date and Delivery fare column data type is object which means it is generic type stored as string."
   ]
  },
  {
   "cell_type": "code",
   "execution_count": 5,
   "metadata": {},
   "outputs": [
    {
     "data": {
      "text/plain": [
       "Id                       22\n",
       "Drone Type               10\n",
       "Post Type                20\n",
       "Package Weight            0\n",
       "Origin Region            10\n",
       "Destination Region       10\n",
       "Origin Latitude           0\n",
       "Origin Longitude          0\n",
       "Destination Latitude      0\n",
       "Destination Longitude     0\n",
       "Journey Distance          0\n",
       "Departure Date            0\n",
       "Departure Time            0\n",
       "Travel Time              40\n",
       "Delivery Time             0\n",
       "Delivery Fare            28\n",
       "dtype: int64"
      ]
     },
     "execution_count": 5,
     "metadata": {},
     "output_type": "execute_result"
    }
   ],
   "source": [
    "main_df.isnull().sum()"
   ]
  },
  {
   "cell_type": "markdown",
   "metadata": {},
   "source": [
    "It is expected to have uniques IDs for each packet. But as we can observe that there are 22 IDs missing and few IDs are also repeated therefore it needs to be investigate the data further. There are missing values in few columns which needs to be fixed further."
   ]
  },
  {
   "cell_type": "markdown",
   "metadata": {},
   "source": [
    "By calculating summary statistics on data we can easily spot the outliers."
   ]
  },
  {
   "cell_type": "code",
   "execution_count": 6,
   "metadata": {},
   "outputs": [
    {
     "data": {
      "text/html": [
       "<div>\n",
       "<style scoped>\n",
       "    .dataframe tbody tr th:only-of-type {\n",
       "        vertical-align: middle;\n",
       "    }\n",
       "\n",
       "    .dataframe tbody tr th {\n",
       "        vertical-align: top;\n",
       "    }\n",
       "\n",
       "    .dataframe thead th {\n",
       "        text-align: right;\n",
       "    }\n",
       "</style>\n",
       "<table border=\"1\" class=\"dataframe\">\n",
       "  <thead>\n",
       "    <tr style=\"text-align: right;\">\n",
       "      <th></th>\n",
       "      <th>Drone Type</th>\n",
       "      <th>Post Type</th>\n",
       "      <th>Package Weight</th>\n",
       "      <th>Origin Region</th>\n",
       "      <th>Destination Region</th>\n",
       "      <th>Origin Latitude</th>\n",
       "      <th>Origin Longitude</th>\n",
       "      <th>Destination Latitude</th>\n",
       "      <th>Destination Longitude</th>\n",
       "      <th>Journey Distance</th>\n",
       "      <th>Travel Time</th>\n",
       "      <th>Delivery Fare</th>\n",
       "    </tr>\n",
       "  </thead>\n",
       "  <tbody>\n",
       "    <tr>\n",
       "      <th>count</th>\n",
       "      <td>36592.000000</td>\n",
       "      <td>36582.000000</td>\n",
       "      <td>36602.000000</td>\n",
       "      <td>36592.000000</td>\n",
       "      <td>36592.000000</td>\n",
       "      <td>36602.000000</td>\n",
       "      <td>36602.000000</td>\n",
       "      <td>36602.000000</td>\n",
       "      <td>36602.000000</td>\n",
       "      <td>36602.000000</td>\n",
       "      <td>36562.000000</td>\n",
       "      <td>36574.000000</td>\n",
       "    </tr>\n",
       "    <tr>\n",
       "      <th>mean</th>\n",
       "      <td>1.700016</td>\n",
       "      <td>0.297933</td>\n",
       "      <td>24.850294</td>\n",
       "      <td>24.027000</td>\n",
       "      <td>23.971059</td>\n",
       "      <td>-37.710602</td>\n",
       "      <td>145.447744</td>\n",
       "      <td>-37.723218</td>\n",
       "      <td>145.421745</td>\n",
       "      <td>218.531150</td>\n",
       "      <td>206.472243</td>\n",
       "      <td>135.115361</td>\n",
       "    </tr>\n",
       "    <tr>\n",
       "      <th>std</th>\n",
       "      <td>0.781647</td>\n",
       "      <td>0.457356</td>\n",
       "      <td>11.575835</td>\n",
       "      <td>13.562306</td>\n",
       "      <td>13.550737</td>\n",
       "      <td>1.931299</td>\n",
       "      <td>7.027570</td>\n",
       "      <td>1.928005</td>\n",
       "      <td>7.028434</td>\n",
       "      <td>113.551569</td>\n",
       "      <td>104.637483</td>\n",
       "      <td>61.495978</td>\n",
       "    </tr>\n",
       "    <tr>\n",
       "      <th>min</th>\n",
       "      <td>1.000000</td>\n",
       "      <td>0.000000</td>\n",
       "      <td>5.001000</td>\n",
       "      <td>1.000000</td>\n",
       "      <td>1.000000</td>\n",
       "      <td>-39.006892</td>\n",
       "      <td>-148.293477</td>\n",
       "      <td>-39.006892</td>\n",
       "      <td>-148.446778</td>\n",
       "      <td>0.359000</td>\n",
       "      <td>7.040000</td>\n",
       "      <td>60.690000</td>\n",
       "    </tr>\n",
       "    <tr>\n",
       "      <th>25%</th>\n",
       "      <td>1.000000</td>\n",
       "      <td>0.000000</td>\n",
       "      <td>14.822000</td>\n",
       "      <td>12.000000</td>\n",
       "      <td>12.000000</td>\n",
       "      <td>-38.459106</td>\n",
       "      <td>144.160208</td>\n",
       "      <td>-38.466281</td>\n",
       "      <td>144.146264</td>\n",
       "      <td>132.096250</td>\n",
       "      <td>126.700000</td>\n",
       "      <td>103.890000</td>\n",
       "    </tr>\n",
       "    <tr>\n",
       "      <th>50%</th>\n",
       "      <td>1.000000</td>\n",
       "      <td>0.000000</td>\n",
       "      <td>24.891000</td>\n",
       "      <td>24.000000</td>\n",
       "      <td>24.000000</td>\n",
       "      <td>-37.767106</td>\n",
       "      <td>145.561869</td>\n",
       "      <td>-37.787735</td>\n",
       "      <td>145.545867</td>\n",
       "      <td>207.238500</td>\n",
       "      <td>195.535000</td>\n",
       "      <td>128.505000</td>\n",
       "    </tr>\n",
       "    <tr>\n",
       "      <th>75%</th>\n",
       "      <td>2.000000</td>\n",
       "      <td>1.000000</td>\n",
       "      <td>34.713750</td>\n",
       "      <td>36.000000</td>\n",
       "      <td>36.000000</td>\n",
       "      <td>-37.068456</td>\n",
       "      <td>147.143618</td>\n",
       "      <td>-37.086099</td>\n",
       "      <td>147.073969</td>\n",
       "      <td>292.004500</td>\n",
       "      <td>274.267500</td>\n",
       "      <td>154.837500</td>\n",
       "    </tr>\n",
       "    <tr>\n",
       "      <th>max</th>\n",
       "      <td>3.000000</td>\n",
       "      <td>1.000000</td>\n",
       "      <td>53.999000</td>\n",
       "      <td>47.000000</td>\n",
       "      <td>47.000000</td>\n",
       "      <td>38.952681</td>\n",
       "      <td>148.450644</td>\n",
       "      <td>38.547109</td>\n",
       "      <td>148.450644</td>\n",
       "      <td>552.688000</td>\n",
       "      <td>541.550000</td>\n",
       "      <td>1234.760000</td>\n",
       "    </tr>\n",
       "  </tbody>\n",
       "</table>\n",
       "</div>"
      ],
      "text/plain": [
       "         Drone Type     Post Type  Package Weight  Origin Region  \\\n",
       "count  36592.000000  36582.000000    36602.000000   36592.000000   \n",
       "mean       1.700016      0.297933       24.850294      24.027000   \n",
       "std        0.781647      0.457356       11.575835      13.562306   \n",
       "min        1.000000      0.000000        5.001000       1.000000   \n",
       "25%        1.000000      0.000000       14.822000      12.000000   \n",
       "50%        1.000000      0.000000       24.891000      24.000000   \n",
       "75%        2.000000      1.000000       34.713750      36.000000   \n",
       "max        3.000000      1.000000       53.999000      47.000000   \n",
       "\n",
       "       Destination Region  Origin Latitude  Origin Longitude  \\\n",
       "count        36592.000000     36602.000000      36602.000000   \n",
       "mean            23.971059       -37.710602        145.447744   \n",
       "std             13.550737         1.931299          7.027570   \n",
       "min              1.000000       -39.006892       -148.293477   \n",
       "25%             12.000000       -38.459106        144.160208   \n",
       "50%             24.000000       -37.767106        145.561869   \n",
       "75%             36.000000       -37.068456        147.143618   \n",
       "max             47.000000        38.952681        148.450644   \n",
       "\n",
       "       Destination Latitude  Destination Longitude  Journey Distance  \\\n",
       "count          36602.000000           36602.000000      36602.000000   \n",
       "mean             -37.723218             145.421745        218.531150   \n",
       "std                1.928005               7.028434        113.551569   \n",
       "min              -39.006892            -148.446778          0.359000   \n",
       "25%              -38.466281             144.146264        132.096250   \n",
       "50%              -37.787735             145.545867        207.238500   \n",
       "75%              -37.086099             147.073969        292.004500   \n",
       "max               38.547109             148.450644        552.688000   \n",
       "\n",
       "        Travel Time  Delivery Fare  \n",
       "count  36562.000000   36574.000000  \n",
       "mean     206.472243     135.115361  \n",
       "std      104.637483      61.495978  \n",
       "min        7.040000      60.690000  \n",
       "25%      126.700000     103.890000  \n",
       "50%      195.535000     128.505000  \n",
       "75%      274.267500     154.837500  \n",
       "max      541.550000    1234.760000  "
      ]
     },
     "execution_count": 6,
     "metadata": {},
     "output_type": "execute_result"
    }
   ],
   "source": [
    "main_df.describe()"
   ]
  },
  {
   "cell_type": "markdown",
   "metadata": {},
   "source": [
    "Generating descriptive statistics that summarize the central tendency, dispersion and shape of a dataset’s distribution, excluding NaN values.\n",
    "The observation tells us that \n",
    "* Total samples are 36580.\n",
    "* Drone Type is a categorical feature with 1, 2 and 3 values.\n",
    "* Post Type is a categorical feature with 0 and 1 values.\n",
    "* There are maximum 47 origin and destination regions where 10 values.\n",
    "* There are negative longitude values in \"Origin Longitude\" and \"Destination Longitude\" column.\n",
    "* The minimum Journey Distance is 0.359km.\n",
    "* Fares varied significantly from 75% to maximum. It shows that their are outliers in \"Delivery Fare\" column.\n",
    "* Some missing values exist in the \"Drone Type\",\"Post Type\",\"Package Weight\",\"Origin Region\",\"Destination Region\",\"Travel Time\",\"Delivery Fare\" column."
   ]
  },
  {
   "cell_type": "markdown",
   "metadata": {},
   "source": [
    "It can be observed that Delivery Fare column consists outliers. The maximum value is 1234.760000 whereas the median is 128.505000."
   ]
  },
  {
   "cell_type": "code",
   "execution_count": 7,
   "metadata": {},
   "outputs": [
    {
     "data": {
      "text/html": [
       "<div>\n",
       "<style scoped>\n",
       "    .dataframe tbody tr th:only-of-type {\n",
       "        vertical-align: middle;\n",
       "    }\n",
       "\n",
       "    .dataframe tbody tr th {\n",
       "        vertical-align: top;\n",
       "    }\n",
       "\n",
       "    .dataframe thead th {\n",
       "        text-align: right;\n",
       "    }\n",
       "</style>\n",
       "<table border=\"1\" class=\"dataframe\">\n",
       "  <thead>\n",
       "    <tr style=\"text-align: right;\">\n",
       "      <th></th>\n",
       "      <th>Drone Type</th>\n",
       "      <th>Post Type</th>\n",
       "      <th>Package Weight</th>\n",
       "      <th>Origin Region</th>\n",
       "      <th>Destination Region</th>\n",
       "      <th>Origin Latitude</th>\n",
       "      <th>Origin Longitude</th>\n",
       "      <th>Destination Latitude</th>\n",
       "      <th>Destination Longitude</th>\n",
       "      <th>Journey Distance</th>\n",
       "      <th>Travel Time</th>\n",
       "      <th>Delivery Fare</th>\n",
       "    </tr>\n",
       "  </thead>\n",
       "  <tbody>\n",
       "    <tr>\n",
       "      <th>Drone Type</th>\n",
       "      <td>1.000000</td>\n",
       "      <td>0.001050</td>\n",
       "      <td>0.002037</td>\n",
       "      <td>0.008435</td>\n",
       "      <td>0.001165</td>\n",
       "      <td>-0.011286</td>\n",
       "      <td>0.006402</td>\n",
       "      <td>0.013361</td>\n",
       "      <td>-0.010442</td>\n",
       "      <td>-0.002577</td>\n",
       "      <td>-0.110702</td>\n",
       "      <td>0.412096</td>\n",
       "    </tr>\n",
       "    <tr>\n",
       "      <th>Post Type</th>\n",
       "      <td>0.001050</td>\n",
       "      <td>1.000000</td>\n",
       "      <td>-0.004508</td>\n",
       "      <td>0.001702</td>\n",
       "      <td>-0.003032</td>\n",
       "      <td>0.003875</td>\n",
       "      <td>-0.004684</td>\n",
       "      <td>-0.007523</td>\n",
       "      <td>0.005116</td>\n",
       "      <td>-0.009862</td>\n",
       "      <td>-0.010368</td>\n",
       "      <td>0.275430</td>\n",
       "    </tr>\n",
       "    <tr>\n",
       "      <th>Package Weight</th>\n",
       "      <td>0.002037</td>\n",
       "      <td>-0.004508</td>\n",
       "      <td>1.000000</td>\n",
       "      <td>0.000486</td>\n",
       "      <td>-0.004707</td>\n",
       "      <td>-0.001727</td>\n",
       "      <td>0.001570</td>\n",
       "      <td>0.008636</td>\n",
       "      <td>-0.005979</td>\n",
       "      <td>0.005049</td>\n",
       "      <td>0.004935</td>\n",
       "      <td>0.186030</td>\n",
       "    </tr>\n",
       "    <tr>\n",
       "      <th>Origin Region</th>\n",
       "      <td>0.008435</td>\n",
       "      <td>0.001702</td>\n",
       "      <td>0.000486</td>\n",
       "      <td>1.000000</td>\n",
       "      <td>-0.007592</td>\n",
       "      <td>-0.066454</td>\n",
       "      <td>-0.000132</td>\n",
       "      <td>0.007882</td>\n",
       "      <td>-0.007482</td>\n",
       "      <td>0.099052</td>\n",
       "      <td>0.096986</td>\n",
       "      <td>0.029256</td>\n",
       "    </tr>\n",
       "    <tr>\n",
       "      <th>Destination Region</th>\n",
       "      <td>0.001165</td>\n",
       "      <td>-0.003032</td>\n",
       "      <td>-0.004707</td>\n",
       "      <td>-0.007592</td>\n",
       "      <td>1.000000</td>\n",
       "      <td>0.001790</td>\n",
       "      <td>-0.000493</td>\n",
       "      <td>-0.069055</td>\n",
       "      <td>-0.001517</td>\n",
       "      <td>0.098003</td>\n",
       "      <td>0.097390</td>\n",
       "      <td>0.017921</td>\n",
       "    </tr>\n",
       "    <tr>\n",
       "      <th>Origin Latitude</th>\n",
       "      <td>-0.011286</td>\n",
       "      <td>0.003875</td>\n",
       "      <td>-0.001727</td>\n",
       "      <td>-0.066454</td>\n",
       "      <td>0.001790</td>\n",
       "      <td>1.000000</td>\n",
       "      <td>-0.882228</td>\n",
       "      <td>0.002027</td>\n",
       "      <td>-0.000253</td>\n",
       "      <td>0.014444</td>\n",
       "      <td>0.016037</td>\n",
       "      <td>-0.004961</td>\n",
       "    </tr>\n",
       "    <tr>\n",
       "      <th>Origin Longitude</th>\n",
       "      <td>0.006402</td>\n",
       "      <td>-0.004684</td>\n",
       "      <td>0.001570</td>\n",
       "      <td>-0.000132</td>\n",
       "      <td>-0.000493</td>\n",
       "      <td>-0.882228</td>\n",
       "      <td>1.000000</td>\n",
       "      <td>-0.002909</td>\n",
       "      <td>0.000982</td>\n",
       "      <td>-0.004493</td>\n",
       "      <td>-0.005775</td>\n",
       "      <td>0.001277</td>\n",
       "    </tr>\n",
       "    <tr>\n",
       "      <th>Destination Latitude</th>\n",
       "      <td>0.013361</td>\n",
       "      <td>-0.007523</td>\n",
       "      <td>0.008636</td>\n",
       "      <td>0.007882</td>\n",
       "      <td>-0.069055</td>\n",
       "      <td>0.002027</td>\n",
       "      <td>-0.002909</td>\n",
       "      <td>1.000000</td>\n",
       "      <td>-0.881723</td>\n",
       "      <td>-0.001720</td>\n",
       "      <td>-0.003400</td>\n",
       "      <td>0.000048</td>\n",
       "    </tr>\n",
       "    <tr>\n",
       "      <th>Destination Longitude</th>\n",
       "      <td>-0.010442</td>\n",
       "      <td>0.005116</td>\n",
       "      <td>-0.005979</td>\n",
       "      <td>-0.007482</td>\n",
       "      <td>-0.001517</td>\n",
       "      <td>-0.000253</td>\n",
       "      <td>0.000982</td>\n",
       "      <td>-0.881723</td>\n",
       "      <td>1.000000</td>\n",
       "      <td>0.008122</td>\n",
       "      <td>0.008977</td>\n",
       "      <td>0.001612</td>\n",
       "    </tr>\n",
       "    <tr>\n",
       "      <th>Journey Distance</th>\n",
       "      <td>-0.002577</td>\n",
       "      <td>-0.009862</td>\n",
       "      <td>0.005049</td>\n",
       "      <td>0.099052</td>\n",
       "      <td>0.098003</td>\n",
       "      <td>0.014444</td>\n",
       "      <td>-0.004493</td>\n",
       "      <td>-0.001720</td>\n",
       "      <td>0.008122</td>\n",
       "      <td>1.000000</td>\n",
       "      <td>0.991783</td>\n",
       "      <td>0.184492</td>\n",
       "    </tr>\n",
       "    <tr>\n",
       "      <th>Travel Time</th>\n",
       "      <td>-0.110702</td>\n",
       "      <td>-0.010368</td>\n",
       "      <td>0.004935</td>\n",
       "      <td>0.096986</td>\n",
       "      <td>0.097390</td>\n",
       "      <td>0.016037</td>\n",
       "      <td>-0.005775</td>\n",
       "      <td>-0.003400</td>\n",
       "      <td>0.008977</td>\n",
       "      <td>0.991783</td>\n",
       "      <td>1.000000</td>\n",
       "      <td>0.138732</td>\n",
       "    </tr>\n",
       "    <tr>\n",
       "      <th>Delivery Fare</th>\n",
       "      <td>0.412096</td>\n",
       "      <td>0.275430</td>\n",
       "      <td>0.186030</td>\n",
       "      <td>0.029256</td>\n",
       "      <td>0.017921</td>\n",
       "      <td>-0.004961</td>\n",
       "      <td>0.001277</td>\n",
       "      <td>0.000048</td>\n",
       "      <td>0.001612</td>\n",
       "      <td>0.184492</td>\n",
       "      <td>0.138732</td>\n",
       "      <td>1.000000</td>\n",
       "    </tr>\n",
       "  </tbody>\n",
       "</table>\n",
       "</div>"
      ],
      "text/plain": [
       "                       Drone Type  Post Type  Package Weight  Origin Region  \\\n",
       "Drone Type               1.000000   0.001050        0.002037       0.008435   \n",
       "Post Type                0.001050   1.000000       -0.004508       0.001702   \n",
       "Package Weight           0.002037  -0.004508        1.000000       0.000486   \n",
       "Origin Region            0.008435   0.001702        0.000486       1.000000   \n",
       "Destination Region       0.001165  -0.003032       -0.004707      -0.007592   \n",
       "Origin Latitude         -0.011286   0.003875       -0.001727      -0.066454   \n",
       "Origin Longitude         0.006402  -0.004684        0.001570      -0.000132   \n",
       "Destination Latitude     0.013361  -0.007523        0.008636       0.007882   \n",
       "Destination Longitude   -0.010442   0.005116       -0.005979      -0.007482   \n",
       "Journey Distance        -0.002577  -0.009862        0.005049       0.099052   \n",
       "Travel Time             -0.110702  -0.010368        0.004935       0.096986   \n",
       "Delivery Fare            0.412096   0.275430        0.186030       0.029256   \n",
       "\n",
       "                       Destination Region  Origin Latitude  Origin Longitude  \\\n",
       "Drone Type                       0.001165        -0.011286          0.006402   \n",
       "Post Type                       -0.003032         0.003875         -0.004684   \n",
       "Package Weight                  -0.004707        -0.001727          0.001570   \n",
       "Origin Region                   -0.007592        -0.066454         -0.000132   \n",
       "Destination Region               1.000000         0.001790         -0.000493   \n",
       "Origin Latitude                  0.001790         1.000000         -0.882228   \n",
       "Origin Longitude                -0.000493        -0.882228          1.000000   \n",
       "Destination Latitude            -0.069055         0.002027         -0.002909   \n",
       "Destination Longitude           -0.001517        -0.000253          0.000982   \n",
       "Journey Distance                 0.098003         0.014444         -0.004493   \n",
       "Travel Time                      0.097390         0.016037         -0.005775   \n",
       "Delivery Fare                    0.017921        -0.004961          0.001277   \n",
       "\n",
       "                       Destination Latitude  Destination Longitude  \\\n",
       "Drone Type                         0.013361              -0.010442   \n",
       "Post Type                         -0.007523               0.005116   \n",
       "Package Weight                     0.008636              -0.005979   \n",
       "Origin Region                      0.007882              -0.007482   \n",
       "Destination Region                -0.069055              -0.001517   \n",
       "Origin Latitude                    0.002027              -0.000253   \n",
       "Origin Longitude                  -0.002909               0.000982   \n",
       "Destination Latitude               1.000000              -0.881723   \n",
       "Destination Longitude             -0.881723               1.000000   \n",
       "Journey Distance                  -0.001720               0.008122   \n",
       "Travel Time                       -0.003400               0.008977   \n",
       "Delivery Fare                      0.000048               0.001612   \n",
       "\n",
       "                       Journey Distance  Travel Time  Delivery Fare  \n",
       "Drone Type                    -0.002577    -0.110702       0.412096  \n",
       "Post Type                     -0.009862    -0.010368       0.275430  \n",
       "Package Weight                 0.005049     0.004935       0.186030  \n",
       "Origin Region                  0.099052     0.096986       0.029256  \n",
       "Destination Region             0.098003     0.097390       0.017921  \n",
       "Origin Latitude                0.014444     0.016037      -0.004961  \n",
       "Origin Longitude              -0.004493    -0.005775       0.001277  \n",
       "Destination Latitude          -0.001720    -0.003400       0.000048  \n",
       "Destination Longitude          0.008122     0.008977       0.001612  \n",
       "Journey Distance               1.000000     0.991783       0.184492  \n",
       "Travel Time                    0.991783     1.000000       0.138732  \n",
       "Delivery Fare                  0.184492     0.138732       1.000000  "
      ]
     },
     "execution_count": 7,
     "metadata": {},
     "output_type": "execute_result"
    }
   ],
   "source": [
    "#checking the correlation between columns of dataset\n",
    "main_df.corr()"
   ]
  },
  {
   "cell_type": "code",
   "execution_count": 8,
   "metadata": {
    "scrolled": true
   },
   "outputs": [
    {
     "data": {
      "text/plain": [
       "<matplotlib.axes._subplots.AxesSubplot at 0xebd5eb8>"
      ]
     },
     "execution_count": 8,
     "metadata": {},
     "output_type": "execute_result"
    },
    {
     "data": {
      "image/png": "[encoded data removed]",
      "text/plain": [
       "<Figure size 1080x720 with 2 Axes>"
      ]
     },
     "metadata": {},
     "output_type": "display_data"
    }
   ],
   "source": [
    "#Plotting graphical correlation between columns\n",
    "plt.rcParams['figure.figsize']= 15,10\n",
    "sns.set_style('whitegrid')\n",
    "sns.set(color_codes=True)\n",
    "\n",
    "sns.heatmap(main_df.corr(), annot =True)"
   ]
  },
  {
   "cell_type": "markdown",
   "metadata": {},
   "source": [
    "The heat map shows that the Drone Type are negatively correlated with Travel Time. The journey distance and travel time are positively correlated with each other. "
   ]
  },
  {
   "cell_type": "code",
   "execution_count": 9,
   "metadata": {},
   "outputs": [
    {
     "data": {
      "text/html": [
       "<div>\n",
       "<style scoped>\n",
       "    .dataframe tbody tr th:only-of-type {\n",
       "        vertical-align: middle;\n",
       "    }\n",
       "\n",
       "    .dataframe tbody tr th {\n",
       "        vertical-align: top;\n",
       "    }\n",
       "\n",
       "    .dataframe thead th {\n",
       "        text-align: right;\n",
       "    }\n",
       "</style>\n",
       "<table border=\"1\" class=\"dataframe\">\n",
       "  <thead>\n",
       "    <tr style=\"text-align: right;\">\n",
       "      <th></th>\n",
       "      <th>Id</th>\n",
       "      <th>Departure Date</th>\n",
       "      <th>Departure Time</th>\n",
       "      <th>Delivery Time</th>\n",
       "    </tr>\n",
       "  </thead>\n",
       "  <tbody>\n",
       "    <tr>\n",
       "      <th>count</th>\n",
       "      <td>36580</td>\n",
       "      <td>36602</td>\n",
       "      <td>36602</td>\n",
       "      <td>36602</td>\n",
       "    </tr>\n",
       "    <tr>\n",
       "      <th>unique</th>\n",
       "      <td>36542</td>\n",
       "      <td>269</td>\n",
       "      <td>29832</td>\n",
       "      <td>29748</td>\n",
       "    </tr>\n",
       "    <tr>\n",
       "      <th>top</th>\n",
       "      <td>ID1413368149</td>\n",
       "      <td>2018-02-28</td>\n",
       "      <td>09:51:47</td>\n",
       "      <td>3:19:39</td>\n",
       "    </tr>\n",
       "    <tr>\n",
       "      <th>freq</th>\n",
       "      <td>2</td>\n",
       "      <td>224</td>\n",
       "      <td>7</td>\n",
       "      <td>6</td>\n",
       "    </tr>\n",
       "  </tbody>\n",
       "</table>\n",
       "</div>"
      ],
      "text/plain": [
       "                  Id Departure Date Departure Time Delivery Time\n",
       "count          36580          36602          36602         36602\n",
       "unique         36542            269          29832         29748\n",
       "top     ID1413368149     2018-02-28       09:51:47       3:19:39\n",
       "freq               2            224              7             6"
      ]
     },
     "execution_count": 9,
     "metadata": {},
     "output_type": "execute_result"
    }
   ],
   "source": [
    "#Descriptive statistics for columns with object datatype\n",
    "main_df.describe(include=['O'])"
   ]
  },
  {
   "cell_type": "markdown",
   "metadata": {},
   "source": [
    "From the above table, we can observe that :\n",
    "* Id are not unique across the datset. There are 38 (36580 - 36542) duplicate IDs which appeared twice in dat set.\n",
    "* There are missing values in IDs."
   ]
  },
  {
   "cell_type": "code",
   "execution_count": 10,
   "metadata": {},
   "outputs": [
    {
     "data": {
      "text/plain": [
       "<matplotlib.axes._subplots.AxesSubplot at 0xe9a0198>"
      ]
     },
     "execution_count": 10,
     "metadata": {},
     "output_type": "execute_result"
    },
    {
     "data": {
      "image/png": "[encoded data removed]",
      "text/plain": [
       "<Figure size 1080x720 with 1 Axes>"
      ]
     },
     "metadata": {},
     "output_type": "display_data"
    }
   ],
   "source": [
    "main_df.boxplot()"
   ]
  },
  {
   "cell_type": "markdown",
   "metadata": {},
   "source": [
    "The above boxplot helps use to visualise the outliers in the dataset through each column. As observed delivery fare column has the outliers ranging from 200 to above 1200 which tells that Delivery column must be fixed by removing the outliers present in it."
   ]
  },
  {
   "cell_type": "markdown",
   "metadata": {},
   "source": [
    "### 4. Identifying Anomalies"
   ]
  },
  {
   "cell_type": "markdown",
   "metadata": {},
   "source": [
    "After analysising the dataset, I have found the syntactical and semantic anomalies and they are as follows:\n",
    "* Syntactical Anomalies : Departure Date, Departure time, Delivery time, Origin Latitude , Origin Longitude, Destination Latitude, Destination Longitude.\n",
    "* Semantic Anomalies: Post type, Drone Type , Id , Origin Region, Destination Region, Journey distance, Travel Time."
   ]
  },
  {
   "cell_type": "markdown",
   "metadata": {},
   "source": [
    "#### 4.1: ID column\n",
    "In the datset, IDs should be unique as specified, but we have found an error in Id column by there are 22 missing values \n",
    "and 38 duplicate Id which need to be fixed. "
   ]
  },
  {
   "cell_type": "code",
   "execution_count": 11,
   "metadata": {},
   "outputs": [
    {
     "data": {
      "text/plain": [
       "NaN             22\n",
       "ID1188036398     2\n",
       "ID1886293632     2\n",
       "ID1852336779     2\n",
       "ID1793563091     2\n",
       "ID1191734100     2\n",
       "ID5901653379     2\n",
       "ID1256357508     2\n",
       "ID1316204931     2\n",
       "ID5857862460     2\n",
       "ID1557022514     2\n",
       "ID1810551572     2\n",
       "ID1828425470     2\n",
       "ID5112435502     2\n",
       "ID1800298976     2\n",
       "ID5561795077     2\n",
       "ID1919260200     2\n",
       "ID1355483588     2\n",
       "ID1364050553     2\n",
       "ID1990915307     2\n",
       "ID1764154590     2\n",
       "ID1642265037     2\n",
       "ID1627252691     2\n",
       "ID5692195072     2\n",
       "ID1547270099     2\n",
       "ID1187402609     2\n",
       "ID5214462835     2\n",
       "ID1595558126     2\n",
       "ID1411992435     2\n",
       "ID1875344441     2\n",
       "                ..\n",
       "ID1869383152     1\n",
       "ID1478272568     1\n",
       "ID5245768181     1\n",
       "ID1761066209     1\n",
       "ID5560849739     1\n",
       "ID1462433406     1\n",
       "ID1759372072     1\n",
       "ID1470272527     1\n",
       "ID1379905319     1\n",
       "ID1397315320     1\n",
       "ID1609131879     1\n",
       "ID1367126248     1\n",
       "ID5654794223     1\n",
       "ID1870716656     1\n",
       "ID1360330130     1\n",
       "ID5423874736     1\n",
       "ID5700541948     1\n",
       "ID5945771616     1\n",
       "ID1504852100     1\n",
       "ID1724939005     1\n",
       "ID1810351508     1\n",
       "ID5692488178     1\n",
       "ID1611521010     1\n",
       "ID1237422779     1\n",
       "ID1974468695     1\n",
       "ID5850655646     1\n",
       "ID1120274574     1\n",
       "ID5436089045     1\n",
       "ID1888882590     1\n",
       "ID1852172159     1\n",
       "Name: Id, Length: 36543, dtype: int64"
      ]
     },
     "execution_count": 11,
     "metadata": {},
     "output_type": "execute_result"
    }
   ],
   "source": [
    "#frequency count of ID's\n",
    "#using dropna=False , it also counts the missing values\n",
    "#there are 38 duplicate ID's\n",
    "main_df.Id.value_counts(dropna = False)"
   ]
  },
  {
   "cell_type": "markdown",
   "metadata": {},
   "source": [
    "#### 4.2. Post Type Column\n",
    "In the dataset, after observing the pattern of the Post Type it is related with ID column and they are correlated with each other. It is found that Post Type 0 is mostlyfor the ID s starting with 1 and Post Type 1 is for IDs starting with 5. \n",
    "There are 20 missing values in the PostType column and it has found that few  values are 0 for IDs starting with 5 and 1 for IDs starting with 1."
   ]
  },
  {
   "cell_type": "code",
   "execution_count": 12,
   "metadata": {},
   "outputs": [
    {
     "data": {
      "text/html": [
       "<div>\n",
       "<style scoped>\n",
       "    .dataframe tbody tr th:only-of-type {\n",
       "        vertical-align: middle;\n",
       "    }\n",
       "\n",
       "    .dataframe tbody tr th {\n",
       "        vertical-align: top;\n",
       "    }\n",
       "\n",
       "    .dataframe thead th {\n",
       "        text-align: right;\n",
       "    }\n",
       "</style>\n",
       "<table border=\"1\" class=\"dataframe\">\n",
       "  <thead>\n",
       "    <tr style=\"text-align: right;\">\n",
       "      <th></th>\n",
       "      <th>Id</th>\n",
       "      <th>Post Type</th>\n",
       "    </tr>\n",
       "  </thead>\n",
       "  <tbody>\n",
       "    <tr>\n",
       "      <th>0</th>\n",
       "      <td>ID1834785454</td>\n",
       "      <td>0.0</td>\n",
       "    </tr>\n",
       "    <tr>\n",
       "      <th>1</th>\n",
       "      <td>ID1737270123</td>\n",
       "      <td>0.0</td>\n",
       "    </tr>\n",
       "    <tr>\n",
       "      <th>2</th>\n",
       "      <td>ID1959080078</td>\n",
       "      <td>0.0</td>\n",
       "    </tr>\n",
       "    <tr>\n",
       "      <th>3</th>\n",
       "      <td>ID1590889569</td>\n",
       "      <td>0.0</td>\n",
       "    </tr>\n",
       "    <tr>\n",
       "      <th>4</th>\n",
       "      <td>ID5694828340</td>\n",
       "      <td>1.0</td>\n",
       "    </tr>\n",
       "    <tr>\n",
       "      <th>5</th>\n",
       "      <td>ID1947075361</td>\n",
       "      <td>0.0</td>\n",
       "    </tr>\n",
       "    <tr>\n",
       "      <th>6</th>\n",
       "      <td>ID1461388630</td>\n",
       "      <td>0.0</td>\n",
       "    </tr>\n",
       "    <tr>\n",
       "      <th>7</th>\n",
       "      <td>ID1476029874</td>\n",
       "      <td>0.0</td>\n",
       "    </tr>\n",
       "    <tr>\n",
       "      <th>8</th>\n",
       "      <td>ID5466286066</td>\n",
       "      <td>1.0</td>\n",
       "    </tr>\n",
       "    <tr>\n",
       "      <th>9</th>\n",
       "      <td>ID1464928552</td>\n",
       "      <td>0.0</td>\n",
       "    </tr>\n",
       "    <tr>\n",
       "      <th>10</th>\n",
       "      <td>ID5734545991</td>\n",
       "      <td>1.0</td>\n",
       "    </tr>\n",
       "    <tr>\n",
       "      <th>11</th>\n",
       "      <td>ID1363804632</td>\n",
       "      <td>0.0</td>\n",
       "    </tr>\n",
       "    <tr>\n",
       "      <th>12</th>\n",
       "      <td>ID1498799535</td>\n",
       "      <td>0.0</td>\n",
       "    </tr>\n",
       "    <tr>\n",
       "      <th>13</th>\n",
       "      <td>ID1456089851</td>\n",
       "      <td>0.0</td>\n",
       "    </tr>\n",
       "    <tr>\n",
       "      <th>14</th>\n",
       "      <td>ID5233923098</td>\n",
       "      <td>1.0</td>\n",
       "    </tr>\n",
       "    <tr>\n",
       "      <th>15</th>\n",
       "      <td>ID1413037145</td>\n",
       "      <td>0.0</td>\n",
       "    </tr>\n",
       "    <tr>\n",
       "      <th>16</th>\n",
       "      <td>ID1631098598</td>\n",
       "      <td>0.0</td>\n",
       "    </tr>\n",
       "    <tr>\n",
       "      <th>17</th>\n",
       "      <td>ID1235135391</td>\n",
       "      <td>0.0</td>\n",
       "    </tr>\n",
       "    <tr>\n",
       "      <th>18</th>\n",
       "      <td>ID1957313553</td>\n",
       "      <td>0.0</td>\n",
       "    </tr>\n",
       "    <tr>\n",
       "      <th>19</th>\n",
       "      <td>ID1871284763</td>\n",
       "      <td>0.0</td>\n",
       "    </tr>\n",
       "    <tr>\n",
       "      <th>20</th>\n",
       "      <td>ID1557774012</td>\n",
       "      <td>0.0</td>\n",
       "    </tr>\n",
       "    <tr>\n",
       "      <th>21</th>\n",
       "      <td>ID1665998026</td>\n",
       "      <td>0.0</td>\n",
       "    </tr>\n",
       "    <tr>\n",
       "      <th>22</th>\n",
       "      <td>ID1750705476</td>\n",
       "      <td>0.0</td>\n",
       "    </tr>\n",
       "    <tr>\n",
       "      <th>23</th>\n",
       "      <td>ID5593905898</td>\n",
       "      <td>1.0</td>\n",
       "    </tr>\n",
       "    <tr>\n",
       "      <th>24</th>\n",
       "      <td>ID1985731835</td>\n",
       "      <td>0.0</td>\n",
       "    </tr>\n",
       "    <tr>\n",
       "      <th>25</th>\n",
       "      <td>ID1231243708</td>\n",
       "      <td>0.0</td>\n",
       "    </tr>\n",
       "    <tr>\n",
       "      <th>26</th>\n",
       "      <td>ID1373149919</td>\n",
       "      <td>0.0</td>\n",
       "    </tr>\n",
       "    <tr>\n",
       "      <th>27</th>\n",
       "      <td>ID1663051364</td>\n",
       "      <td>0.0</td>\n",
       "    </tr>\n",
       "    <tr>\n",
       "      <th>28</th>\n",
       "      <td>ID5514312941</td>\n",
       "      <td>1.0</td>\n",
       "    </tr>\n",
       "    <tr>\n",
       "      <th>29</th>\n",
       "      <td>ID1951821209</td>\n",
       "      <td>0.0</td>\n",
       "    </tr>\n",
       "    <tr>\n",
       "      <th>...</th>\n",
       "      <td>...</td>\n",
       "      <td>...</td>\n",
       "    </tr>\n",
       "    <tr>\n",
       "      <th>36572</th>\n",
       "      <td>ID1899473309</td>\n",
       "      <td>0.0</td>\n",
       "    </tr>\n",
       "    <tr>\n",
       "      <th>36573</th>\n",
       "      <td>NaN</td>\n",
       "      <td>0.0</td>\n",
       "    </tr>\n",
       "    <tr>\n",
       "      <th>36574</th>\n",
       "      <td>ID1852336779</td>\n",
       "      <td>0.0</td>\n",
       "    </tr>\n",
       "    <tr>\n",
       "      <th>36575</th>\n",
       "      <td>ID1595558126</td>\n",
       "      <td>0.0</td>\n",
       "    </tr>\n",
       "    <tr>\n",
       "      <th>36576</th>\n",
       "      <td>ID1364050553</td>\n",
       "      <td>0.0</td>\n",
       "    </tr>\n",
       "    <tr>\n",
       "      <th>36577</th>\n",
       "      <td>ID5112435502</td>\n",
       "      <td>1.0</td>\n",
       "    </tr>\n",
       "    <tr>\n",
       "      <th>36578</th>\n",
       "      <td>ID1886293632</td>\n",
       "      <td>0.0</td>\n",
       "    </tr>\n",
       "    <tr>\n",
       "      <th>36579</th>\n",
       "      <td>ID1187402609</td>\n",
       "      <td>0.0</td>\n",
       "    </tr>\n",
       "    <tr>\n",
       "      <th>36580</th>\n",
       "      <td>ID1191734100</td>\n",
       "      <td>0.0</td>\n",
       "    </tr>\n",
       "    <tr>\n",
       "      <th>36581</th>\n",
       "      <td>ID1990915307</td>\n",
       "      <td>0.0</td>\n",
       "    </tr>\n",
       "    <tr>\n",
       "      <th>36582</th>\n",
       "      <td>NaN</td>\n",
       "      <td>0.0</td>\n",
       "    </tr>\n",
       "    <tr>\n",
       "      <th>36583</th>\n",
       "      <td>ID1256357508</td>\n",
       "      <td>0.0</td>\n",
       "    </tr>\n",
       "    <tr>\n",
       "      <th>36584</th>\n",
       "      <td>ID1225737967</td>\n",
       "      <td>0.0</td>\n",
       "    </tr>\n",
       "    <tr>\n",
       "      <th>36585</th>\n",
       "      <td>ID1919260200</td>\n",
       "      <td>0.0</td>\n",
       "    </tr>\n",
       "    <tr>\n",
       "      <th>36586</th>\n",
       "      <td>NaN</td>\n",
       "      <td>0.0</td>\n",
       "    </tr>\n",
       "    <tr>\n",
       "      <th>36587</th>\n",
       "      <td>ID5692195072</td>\n",
       "      <td>1.0</td>\n",
       "    </tr>\n",
       "    <tr>\n",
       "      <th>36588</th>\n",
       "      <td>NaN</td>\n",
       "      <td>1.0</td>\n",
       "    </tr>\n",
       "    <tr>\n",
       "      <th>36589</th>\n",
       "      <td>ID1828425470</td>\n",
       "      <td>0.0</td>\n",
       "    </tr>\n",
       "    <tr>\n",
       "      <th>36590</th>\n",
       "      <td>ID1810551572</td>\n",
       "      <td>0.0</td>\n",
       "    </tr>\n",
       "    <tr>\n",
       "      <th>36591</th>\n",
       "      <td>ID1583798201</td>\n",
       "      <td>0.0</td>\n",
       "    </tr>\n",
       "    <tr>\n",
       "      <th>36592</th>\n",
       "      <td>ID1188036398</td>\n",
       "      <td>0.0</td>\n",
       "    </tr>\n",
       "    <tr>\n",
       "      <th>36593</th>\n",
       "      <td>ID1684640252</td>\n",
       "      <td>0.0</td>\n",
       "    </tr>\n",
       "    <tr>\n",
       "      <th>36594</th>\n",
       "      <td>NaN</td>\n",
       "      <td>1.0</td>\n",
       "    </tr>\n",
       "    <tr>\n",
       "      <th>36595</th>\n",
       "      <td>NaN</td>\n",
       "      <td>1.0</td>\n",
       "    </tr>\n",
       "    <tr>\n",
       "      <th>36596</th>\n",
       "      <td>NaN</td>\n",
       "      <td>0.0</td>\n",
       "    </tr>\n",
       "    <tr>\n",
       "      <th>36597</th>\n",
       "      <td>ID1800298976</td>\n",
       "      <td>0.0</td>\n",
       "    </tr>\n",
       "    <tr>\n",
       "      <th>36598</th>\n",
       "      <td>ID1627252691</td>\n",
       "      <td>0.0</td>\n",
       "    </tr>\n",
       "    <tr>\n",
       "      <th>36599</th>\n",
       "      <td>NaN</td>\n",
       "      <td>0.0</td>\n",
       "    </tr>\n",
       "    <tr>\n",
       "      <th>36600</th>\n",
       "      <td>ID5561795077</td>\n",
       "      <td>1.0</td>\n",
       "    </tr>\n",
       "    <tr>\n",
       "      <th>36601</th>\n",
       "      <td>ID1793563091</td>\n",
       "      <td>0.0</td>\n",
       "    </tr>\n",
       "  </tbody>\n",
       "</table>\n",
       "<p>36602 rows × 2 columns</p>\n",
       "</div>"
      ],
      "text/plain": [
       "                 Id  Post Type\n",
       "0      ID1834785454        0.0\n",
       "1      ID1737270123        0.0\n",
       "2      ID1959080078        0.0\n",
       "3      ID1590889569        0.0\n",
       "4      ID5694828340        1.0\n",
       "5      ID1947075361        0.0\n",
       "6      ID1461388630        0.0\n",
       "7      ID1476029874        0.0\n",
       "8      ID5466286066        1.0\n",
       "9      ID1464928552        0.0\n",
       "10     ID5734545991        1.0\n",
       "11     ID1363804632        0.0\n",
       "12     ID1498799535        0.0\n",
       "13     ID1456089851        0.0\n",
       "14     ID5233923098        1.0\n",
       "15     ID1413037145        0.0\n",
       "16     ID1631098598        0.0\n",
       "17     ID1235135391        0.0\n",
       "18     ID1957313553        0.0\n",
       "19     ID1871284763        0.0\n",
       "20     ID1557774012        0.0\n",
       "21     ID1665998026        0.0\n",
       "22     ID1750705476        0.0\n",
       "23     ID5593905898        1.0\n",
       "24     ID1985731835        0.0\n",
       "25     ID1231243708        0.0\n",
       "26     ID1373149919        0.0\n",
       "27     ID1663051364        0.0\n",
       "28     ID5514312941        1.0\n",
       "29     ID1951821209        0.0\n",
       "...             ...        ...\n",
       "36572  ID1899473309        0.0\n",
       "36573           NaN        0.0\n",
       "36574  ID1852336779        0.0\n",
       "36575  ID1595558126        0.0\n",
       "36576  ID1364050553        0.0\n",
       "36577  ID5112435502        1.0\n",
       "36578  ID1886293632        0.0\n",
       "36579  ID1187402609        0.0\n",
       "36580  ID1191734100        0.0\n",
       "36581  ID1990915307        0.0\n",
       "36582           NaN        0.0\n",
       "36583  ID1256357508        0.0\n",
       "36584  ID1225737967        0.0\n",
       "36585  ID1919260200        0.0\n",
       "36586           NaN        0.0\n",
       "36587  ID5692195072        1.0\n",
       "36588           NaN        1.0\n",
       "36589  ID1828425470        0.0\n",
       "36590  ID1810551572        0.0\n",
       "36591  ID1583798201        0.0\n",
       "36592  ID1188036398        0.0\n",
       "36593  ID1684640252        0.0\n",
       "36594           NaN        1.0\n",
       "36595           NaN        1.0\n",
       "36596           NaN        0.0\n",
       "36597  ID1800298976        0.0\n",
       "36598  ID1627252691        0.0\n",
       "36599           NaN        0.0\n",
       "36600  ID5561795077        1.0\n",
       "36601  ID1793563091        0.0\n",
       "\n",
       "[36602 rows x 2 columns]"
      ]
     },
     "execution_count": 12,
     "metadata": {},
     "output_type": "execute_result"
    }
   ],
   "source": [
    "#Observe the pattern\n",
    "check_pt = main_df.filter(['Id','Post Type'],axis=1)\n",
    "check_pt"
   ]
  },
  {
   "cell_type": "markdown",
   "metadata": {},
   "source": [
    "#### 4.3: Origin Region and Destination Region\n",
    "In the dataset, there are 10 values missing in both the column Origin Region and Destination Region. These missing  values can be fixed through Origin and Destination Latitude-Longitudes. As a region has a specific coordinates i.e latitude-longitude, we need to identify the missing region numbers from the corresponding coordinates/latitude-longitude."
   ]
  },
  {
   "cell_type": "code",
   "execution_count": 13,
   "metadata": {},
   "outputs": [
    {
     "name": "stdout",
     "output_type": "stream",
     "text": [
      "(10, 10)\n"
     ]
    }
   ],
   "source": [
    "#checking origin region and destination region missing values\n",
    "check_or = main_df['Origin Region'].isnull().sum()\n",
    "check_dr = main_df['Destination Region'].isnull().sum()\n",
    "print(check_or,check_dr)"
   ]
  },
  {
   "cell_type": "markdown",
   "metadata": {},
   "source": [
    "#### 4.4: Longitude-Latitude"
   ]
  },
  {
   "cell_type": "markdown",
   "metadata": {},
   "source": [
    "In the dataset, there is no missing values in origin and destination latitude-longitude. After visualising these coordinates on map, as we are provided with the data for Victoria State which lies in southern and eastern hemisphere. Geographically as Victoria lies below equator, latitudes of Victoria must be negative values and the longitudes must be positive values.\n",
    "Accordinly, we need to check that latitudes must be negative and longitudes must be postive."
   ]
  },
  {
   "cell_type": "code",
   "execution_count": 14,
   "metadata": {},
   "outputs": [
    {
     "name": "stdout",
     "output_type": "stream",
     "text": [
      "There are positive values\n"
     ]
    }
   ],
   "source": [
    "# Checking for the negative values in the Origin Latitude column.\n",
    "check_olat = (list(main_df['Origin Latitude']))\n",
    "if all(i < 0 for i in check_olat):\n",
    "    print('Values are negative')\n",
    "else:\n",
    "    print('There are positive values')"
   ]
  },
  {
   "cell_type": "code",
   "execution_count": 15,
   "metadata": {},
   "outputs": [
    {
     "name": "stdout",
     "output_type": "stream",
     "text": [
      "There are negative values\n"
     ]
    }
   ],
   "source": [
    "# Checking for the negative values in the Origin Longitude column.\n",
    "check_olon = (list(main_df['Origin Longitude']))\n",
    "if all(i > 0 for i in check_olon):\n",
    "    print('Values are positive')\n",
    "else:\n",
    "    print('There are negative values')"
   ]
  },
  {
   "cell_type": "code",
   "execution_count": 16,
   "metadata": {},
   "outputs": [
    {
     "name": "stdout",
     "output_type": "stream",
     "text": [
      "There are positive values\n"
     ]
    }
   ],
   "source": [
    "# Checking for the negative values in the Destination Latitude column.\n",
    "check_dlat = (list(main_df['Destination Latitude']))\n",
    "if all(i < 0 for i in check_dlat):\n",
    "    print('Values are negative')\n",
    "else:\n",
    "    print('There are positive values')"
   ]
  },
  {
   "cell_type": "code",
   "execution_count": 17,
   "metadata": {},
   "outputs": [
    {
     "name": "stdout",
     "output_type": "stream",
     "text": [
      "There are negative values\n"
     ]
    }
   ],
   "source": [
    "# Checking for the negative values in the Destination Latitude column.\n",
    "check_dlon = (list(main_df['Destination Longitude']))\n",
    "if all(i < 0 for i in check_dlon):\n",
    "    print('Values are positive')\n",
    "else:\n",
    "    print('There are negative values')"
   ]
  },
  {
   "cell_type": "markdown",
   "metadata": {},
   "source": [
    "#### 4.5: Journey Distance\n",
    "Journey Distance column can to be verified using origin and destination latitudes-longitudes. As we are provided with the origin coordinates and destination coordinates, we can check the distance between two points on sphere given their latitude-longitude by using Haversine Formula. The Haversine Formula uses the latitude-longitude of two points and radius of the earth."
   ]
  },
  {
   "cell_type": "markdown",
   "metadata": {},
   "source": [
    "#### 4.6. Departure Date "
   ]
  },
  {
   "cell_type": "markdown",
   "metadata": {},
   "source": [
    "As departure datae is not correlated with any other column therefore it needs to be checked within itself. There are no missing values in departure date. Later invalid dates were checked and it was found that there are invalid dates which need to be fixed in proper format so that they turns out to be valid."
   ]
  },
  {
   "cell_type": "code",
   "execution_count": 18,
   "metadata": {},
   "outputs": [
    {
     "name": "stdout",
     "output_type": "stream",
     "text": [
      "2018-24-07\n",
      "2018-26-05\n",
      "2018-18-07\n",
      "2018-13-07\n",
      "2018-18-04\n",
      "2018-06-31\n",
      "2018-06-31\n",
      "2018-04-31\n",
      "2018-17-06\n",
      "2018-21-04\n",
      "2018-20-04\n",
      "2018-17-04\n",
      "2018-18-02\n",
      "2018-14-05\n",
      "2018-14-05\n",
      "2018-26-03\n",
      "2018-14-07\n",
      "2018-06-31\n",
      "2018-04-31\n",
      "2018-02-30\n",
      "2018-04-31\n",
      "2018-04-31\n",
      "2018-04-31\n",
      "2018-19-05\n",
      "2018-25-05\n",
      "2018-13-06\n",
      "2018-24-07\n",
      "2018-15-01\n",
      "2018-18-06\n",
      "2018-22-03\n",
      "2018-15-04\n",
      "2018-24-01\n",
      "2018-02-30\n",
      "2018-06-31\n",
      "2018-20-04\n",
      "2018-13-07\n",
      "2018-19-03\n",
      "2018-06-31\n",
      "2018-02-30\n",
      "2018-02-30\n",
      "2018-04-31\n",
      "2018-02-30\n",
      "2018-06-31\n",
      "2018-20-01\n",
      "2018-22-03\n",
      "2018-22-05\n",
      "2018-22-04\n",
      "2018-18-06\n",
      "2018-22-03\n",
      "2018-15-05\n",
      "2018-28-05\n",
      "2018-20-01\n",
      "2018-04-31\n",
      "2018-24-06\n",
      "2018-04-31\n",
      "2018-04-31\n",
      "2018-20-06\n",
      "2018-22-03\n",
      "2018-16-06\n",
      "2018-02-30\n",
      "2018-15-04\n",
      "2018-04-31\n",
      "2018-06-31\n",
      "2018-02-30\n",
      "2018-25-06\n",
      "2018-21-03\n",
      "2018-19-05\n",
      "2018-23-02\n",
      "2018-24-03\n",
      "2018-21-01\n",
      "2018-04-31\n",
      "2018-24-01\n",
      "2018-02-30\n",
      "2018-04-31\n",
      "2018-04-31\n",
      "2018-06-31\n",
      "2018-04-31\n",
      "2018-06-31\n",
      "2018-06-31\n",
      "2018-06-31\n",
      "2018-23-07\n",
      "2018-21-07\n",
      "2018-23-01\n",
      "2018-14-07\n",
      "2018-28-02\n",
      "2018-19-03\n",
      "2018-17-07\n",
      "2018-26-03\n",
      "2018-17-01\n",
      "2018-02-30\n",
      "2018-02-30\n",
      "2018-06-31\n",
      "2018-04-31\n",
      "2018-27-01\n",
      "2018-15-06\n",
      "2018-18-05\n",
      "2018-24-05\n",
      "2018-22-04\n",
      "2018-16-05\n",
      "2018-04-31\n",
      "2018-02-30\n",
      "2018-06-31\n",
      "2018-06-31\n",
      "2018-02-30\n",
      "2018-06-31\n",
      "2018-24-02\n",
      "2018-22-02\n",
      "2018-15-04\n",
      "2018-18-05\n",
      "2018-25-02\n",
      "2018-20-04\n",
      "2018-04-31\n",
      "2018-06-31\n",
      "2018-06-31\n",
      "2018-06-31\n",
      "2018-15-05\n",
      "2018-06-31\n",
      "2018-14-02\n",
      "2018-21-07\n",
      "2018-21-05\n",
      "2018-25-01\n",
      "2018-04-31\n",
      "2018-27-02\n",
      "2018-25-02\n",
      "2018-02-30\n",
      "2018-02-30\n",
      "2018-28-04\n",
      "2018-14-07\n",
      "2018-22-04\n",
      "2018-17-04\n",
      "2018-06-31\n",
      "2018-25-01\n",
      "2018-06-31\n",
      "2018-04-31\n",
      "2018-02-30\n",
      "2018-06-31\n",
      "2018-06-31\n",
      "2018-04-31\n",
      "2018-02-30\n",
      "2018-06-31\n",
      "2018-06-31\n",
      "2018-04-31\n",
      "2018-04-31\n",
      "2018-24-04\n",
      "2018-04-31\n",
      "2018-24-04\n",
      "2018-14-05\n",
      "2018-06-31\n",
      "2018-02-30\n",
      "2018-02-30\n",
      "2018-06-31\n",
      "2018-04-31\n",
      "2018-06-31\n",
      "2018-15-03\n",
      "2018-18-04\n",
      "2018-14-07\n",
      "2018-13-02\n",
      "2018-22-04\n",
      "2018-14-03\n",
      "2018-16-02\n",
      "2018-04-31\n",
      "2018-04-31\n",
      "2018-02-30\n",
      "2018-06-31\n",
      "2018-02-30\n",
      "2018-13-02\n",
      "2018-18-04\n",
      "2018-15-03\n",
      "2018-27-04\n",
      "2018-20-03\n",
      "2018-23-06\n",
      "2018-19-02\n",
      "2018-02-30\n",
      "2018-06-31\n",
      "2018-04-31\n",
      "2018-04-31\n",
      "2018-04-31\n",
      "2018-22-07\n",
      "2018-06-31\n",
      "2018-19-02\n",
      "2018-20-02\n",
      "2018-27-05\n",
      "2018-17-04\n",
      "2018-28-02\n",
      "2018-24-04\n",
      "2018-28-05\n",
      "2018-06-31\n",
      "2018-02-30\n",
      "2018-02-30\n",
      "2018-06-31\n",
      "2018-18-02\n",
      "2018-02-30\n",
      "2018-23-06\n",
      "2018-23-06\n",
      "2018-16-05\n",
      "2018-17-02\n",
      "2018-21-05\n",
      "2018-21-05\n",
      "2018-02-30\n",
      "2018-06-31\n",
      "2018-06-31\n",
      "2018-02-30\n",
      "2018-06-31\n",
      "2018-02-30\n",
      "2018-02-30\n",
      "2018-04-31\n",
      "2018-24-03\n",
      "2018-21-07\n",
      "2018-02-30\n",
      "2018-17-01\n",
      "2018-27-05\n",
      "2018-14-02\n",
      "2018-28-07\n",
      "2018-02-30\n",
      "2018-02-30\n",
      "2018-02-30\n",
      "2018-04-31\n",
      "2018-06-31\n"
     ]
    }
   ],
   "source": [
    "import datetime\n",
    "\n",
    "def check_date_validation(year, month, day=1):\n",
    "    correct_date = None\n",
    "    try:\n",
    "        datetime.datetime(year=year, month=month, day=day)\n",
    "        correct_date = True\n",
    "    except ValueError:\n",
    "        correct_date = False\n",
    "    return correct_date\n",
    "\n",
    "# checking the incorrect date.\n",
    "k=0\n",
    "for i in main_df.values:\n",
    "    try:\n",
    "        if check_date_validation(int(main_df['Departure Date'][k].split('-')[0]),int(main_df['Departure Date'][k].split('-')[1]),int(main_df['Departure Date'][k].split('-')[2])) == False:\n",
    "             print(i[11])\n",
    "        k+=1\n",
    "    except IndexError:\n",
    "        continue"
   ]
  },
  {
   "cell_type": "markdown",
   "metadata": {},
   "source": [
    "#### 4.7: Departure and Delivery Time\n",
    "In these Time column there are no missing values so to check whether these column has any error it has check whether they are exceeding the time limit or not. Below we have checked that there is no number limit exceeding. Therefore we can conclude time is correct. As these are time columns we need to check format of thesecolumn as they need to be proper formatted. "
   ]
  },
  {
   "cell_type": "markdown",
   "metadata": {},
   "source": [
    "## 5. Fixing the Errors"
   ]
  },
  {
   "cell_type": "markdown",
   "metadata": {},
   "source": []
  },
  {
   "cell_type": "markdown",
   "metadata": {},
   "source": [
    "### 5.1: Fixing Post Type column"
   ]
  },
  {
   "cell_type": "markdown",
   "metadata": {},
   "source": [
    "As mentioned aboved after the analysing the dataset, Post Type with 0 value was observed mainly with Id starting with 1 and Post Type with value 1 where observed with Id starting with 5. Using this pattern, missing values were filled and incorrect value were replaced with correct values by regular expression on the pattern. Based on the index value of Ids, the correct value was imputed corresponding to that ID. Later the column was verified by checking the null values and length of the column."
   ]
  },
  {
   "cell_type": "code",
   "execution_count": 19,
   "metadata": {
    "scrolled": true
   },
   "outputs": [
    {
     "data": {
      "text/plain": [
       "20"
      ]
     },
     "execution_count": 19,
     "metadata": {},
     "output_type": "execute_result"
    }
   ],
   "source": [
    "#Checking the sum of missing values of Post Type column\n",
    "main_df['Post Type'].isnull().sum()"
   ]
  },
  {
   "cell_type": "code",
   "execution_count": 20,
   "metadata": {},
   "outputs": [
    {
     "data": {
      "text/html": [
       "<div>\n",
       "<style scoped>\n",
       "    .dataframe tbody tr th:only-of-type {\n",
       "        vertical-align: middle;\n",
       "    }\n",
       "\n",
       "    .dataframe tbody tr th {\n",
       "        vertical-align: top;\n",
       "    }\n",
       "\n",
       "    .dataframe thead th {\n",
       "        text-align: right;\n",
       "    }\n",
       "</style>\n",
       "<table border=\"1\" class=\"dataframe\">\n",
       "  <thead>\n",
       "    <tr style=\"text-align: right;\">\n",
       "      <th></th>\n",
       "      <th>Id</th>\n",
       "      <th>Drone Type</th>\n",
       "      <th>Post Type</th>\n",
       "      <th>Package Weight</th>\n",
       "      <th>Origin Region</th>\n",
       "      <th>Destination Region</th>\n",
       "      <th>Origin Latitude</th>\n",
       "      <th>Origin Longitude</th>\n",
       "      <th>Destination Latitude</th>\n",
       "      <th>Destination Longitude</th>\n",
       "      <th>Journey Distance</th>\n",
       "      <th>Departure Date</th>\n",
       "      <th>Departure Time</th>\n",
       "      <th>Travel Time</th>\n",
       "      <th>Delivery Time</th>\n",
       "      <th>Delivery Fare</th>\n",
       "    </tr>\n",
       "  </thead>\n",
       "  <tbody>\n",
       "    <tr>\n",
       "      <th>2183</th>\n",
       "      <td>ID1285112413</td>\n",
       "      <td>1.0</td>\n",
       "      <td>NaN</td>\n",
       "      <td>29.888</td>\n",
       "      <td>33.0</td>\n",
       "      <td>15.0</td>\n",
       "      <td>-38.081305</td>\n",
       "      <td>142.846253</td>\n",
       "      <td>-37.112920</td>\n",
       "      <td>143.847879</td>\n",
       "      <td>139.370</td>\n",
       "      <td>2018-07-24</td>\n",
       "      <td>13:38:09</td>\n",
       "      <td>141.57</td>\n",
       "      <td>15:59:43</td>\n",
       "      <td>86.58</td>\n",
       "    </tr>\n",
       "    <tr>\n",
       "      <th>4202</th>\n",
       "      <td>ID5730617122</td>\n",
       "      <td>1.0</td>\n",
       "      <td>NaN</td>\n",
       "      <td>25.749</td>\n",
       "      <td>45.0</td>\n",
       "      <td>18.0</td>\n",
       "      <td>-37.606190</td>\n",
       "      <td>148.075583</td>\n",
       "      <td>-37.411082</td>\n",
       "      <td>146.799460</td>\n",
       "      <td>114.759</td>\n",
       "      <td>2018-06-27</td>\n",
       "      <td>05:25:10</td>\n",
       "      <td>117.75</td>\n",
       "      <td>7:22:55</td>\n",
       "      <td>138.00</td>\n",
       "    </tr>\n",
       "    <tr>\n",
       "      <th>4215</th>\n",
       "      <td>ID1726432043</td>\n",
       "      <td>2.0</td>\n",
       "      <td>NaN</td>\n",
       "      <td>51.712</td>\n",
       "      <td>47.0</td>\n",
       "      <td>7.0</td>\n",
       "      <td>-38.358050</td>\n",
       "      <td>144.852968</td>\n",
       "      <td>-38.043837</td>\n",
       "      <td>145.487699</td>\n",
       "      <td>65.623</td>\n",
       "      <td>2018-07-10</td>\n",
       "      <td>09:17:53</td>\n",
       "      <td>63.95</td>\n",
       "      <td>10:21:50</td>\n",
       "      <td>241.36</td>\n",
       "    </tr>\n",
       "    <tr>\n",
       "      <th>4239</th>\n",
       "      <td>ID1679756915</td>\n",
       "      <td>3.0</td>\n",
       "      <td>NaN</td>\n",
       "      <td>21.290</td>\n",
       "      <td>33.0</td>\n",
       "      <td>10.0</td>\n",
       "      <td>-38.071641</td>\n",
       "      <td>142.812838</td>\n",
       "      <td>-37.019799</td>\n",
       "      <td>147.338986</td>\n",
       "      <td>416.230</td>\n",
       "      <td>2018-06-02</td>\n",
       "      <td>05:05:25</td>\n",
       "      <td>358.57</td>\n",
       "      <td>11:03:59</td>\n",
       "      <td>185.81</td>\n",
       "    </tr>\n",
       "    <tr>\n",
       "      <th>12391</th>\n",
       "      <td>ID1803324636</td>\n",
       "      <td>1.0</td>\n",
       "      <td>NaN</td>\n",
       "      <td>6.108</td>\n",
       "      <td>38.0</td>\n",
       "      <td>12.0</td>\n",
       "      <td>-37.696716</td>\n",
       "      <td>143.388226</td>\n",
       "      <td>-38.036518</td>\n",
       "      <td>146.732404</td>\n",
       "      <td>296.288</td>\n",
       "      <td>2018-01-14</td>\n",
       "      <td>17:44:08</td>\n",
       "      <td>293.42</td>\n",
       "      <td>22:37:33</td>\n",
       "      <td>99.35</td>\n",
       "    </tr>\n",
       "  </tbody>\n",
       "</table>\n",
       "</div>"
      ],
      "text/plain": [
       "                 Id  Drone Type  Post Type  Package Weight  Origin Region  \\\n",
       "2183   ID1285112413         1.0        NaN          29.888           33.0   \n",
       "4202   ID5730617122         1.0        NaN          25.749           45.0   \n",
       "4215   ID1726432043         2.0        NaN          51.712           47.0   \n",
       "4239   ID1679756915         3.0        NaN          21.290           33.0   \n",
       "12391  ID1803324636         1.0        NaN           6.108           38.0   \n",
       "\n",
       "       Destination Region  Origin Latitude  Origin Longitude  \\\n",
       "2183                 15.0       -38.081305        142.846253   \n",
       "4202                 18.0       -37.606190        148.075583   \n",
       "4215                  7.0       -38.358050        144.852968   \n",
       "4239                 10.0       -38.071641        142.812838   \n",
       "12391                12.0       -37.696716        143.388226   \n",
       "\n",
       "       Destination Latitude  Destination Longitude  Journey Distance  \\\n",
       "2183             -37.112920             143.847879           139.370   \n",
       "4202             -37.411082             146.799460           114.759   \n",
       "4215             -38.043837             145.487699            65.623   \n",
       "4239             -37.019799             147.338986           416.230   \n",
       "12391            -38.036518             146.732404           296.288   \n",
       "\n",
       "      Departure Date Departure Time  Travel Time Delivery Time  Delivery Fare  \n",
       "2183      2018-07-24       13:38:09       141.57      15:59:43          86.58  \n",
       "4202      2018-06-27       05:25:10       117.75       7:22:55         138.00  \n",
       "4215      2018-07-10       09:17:53        63.95      10:21:50         241.36  \n",
       "4239      2018-06-02       05:05:25       358.57      11:03:59         185.81  \n",
       "12391     2018-01-14       17:44:08       293.42      22:37:33          99.35  "
      ]
     },
     "execution_count": 20,
     "metadata": {},
     "output_type": "execute_result"
    }
   ],
   "source": [
    "#Reading the rows of Post Type missing value\n",
    "main_df[main_df['Post Type'].isnull()].head()\n"
   ]
  },
  {
   "cell_type": "code",
   "execution_count": 21,
   "metadata": {},
   "outputs": [
    {
     "name": "stderr",
     "output_type": "stream",
     "text": [
      "C:\\Users\\spes0001\\AppData\\Local\\Continuum\\anaconda2\\lib\\site-packages\\pandas\\core\\indexing.py:189: SettingWithCopyWarning: \n",
      "A value is trying to be set on a copy of a slice from a DataFrame\n",
      "\n",
      "See the caveats in the documentation: http://pandas.pydata.org/pandas-docs/stable/indexing.html#indexing-view-versus-copy\n",
      "  self._setitem_with_indexer(indexer, value)\n"
     ]
    }
   ],
   "source": [
    "#Collect the missing value index in a list\n",
    "Post_type_null = main_df[main_df['Post Type'].isnull()].index.tolist()\n",
    "\n",
    "#Fixing the Post Type column using regular expression\n",
    "first_id = re.compile(r'ID1.*')\n",
    "second_id = re.compile(r'ID5.*')\n",
    "for index in Post_type_null:\n",
    "    if first_id.match(main_df['Id'].iloc[index]):\n",
    "        main_df['Post Type'].iloc[index] = 0\n",
    "    if second_id.match(main_df['Id'].iloc[index]):\n",
    "        main_df['Post Type'].iloc[index] = 1 "
   ]
  },
  {
   "cell_type": "code",
   "execution_count": 22,
   "metadata": {},
   "outputs": [
    {
     "data": {
      "text/plain": [
       "0"
      ]
     },
     "execution_count": 22,
     "metadata": {},
     "output_type": "execute_result"
    }
   ],
   "source": [
    "#Verifying the post type column\n",
    "main_df['Post Type'].isnull().sum()"
   ]
  },
  {
   "cell_type": "code",
   "execution_count": 23,
   "metadata": {},
   "outputs": [
    {
     "data": {
      "text/plain": [
       "36602"
      ]
     },
     "execution_count": 23,
     "metadata": {},
     "output_type": "execute_result"
    }
   ],
   "source": [
    "#Verifying the length of post type column in dataframe\n",
    "len(main_df['Post Type'])"
   ]
  },
  {
   "cell_type": "markdown",
   "metadata": {},
   "source": [
    "Finally the Post Type column missing values are imputed and the errors are fixed. "
   ]
  },
  {
   "cell_type": "markdown",
   "metadata": {},
   "source": [
    "### 5.2: Fixing Package Weight "
   ]
  },
  {
   "cell_type": "markdown",
   "metadata": {},
   "source": [
    "Looking at the package weight column, it has been observed that Package Weight column is not correlated with any other column. It is an independent column and not dependent for fixing error on any other column. Since it is a weight of packet, it cannot be negative. Therefore just to check if there is any error in the column, we checking if there is any negative value."
   ]
  },
  {
   "cell_type": "code",
   "execution_count": 24,
   "metadata": {},
   "outputs": [
    {
     "data": {
      "text/plain": [
       "0"
      ]
     },
     "execution_count": 24,
     "metadata": {},
     "output_type": "execute_result"
    }
   ],
   "source": [
    "# Checking the missing value \n",
    "main_df['Package Weight'].isnull().sum()"
   ]
  },
  {
   "cell_type": "code",
   "execution_count": 25,
   "metadata": {},
   "outputs": [
    {
     "name": "stdout",
     "output_type": "stream",
     "text": [
      "Values are positive\n"
     ]
    }
   ],
   "source": [
    "# Checking for the negative values in the column.\n",
    "check_pw = (list(main_df['Package Weight']))\n",
    "if all(i > 0 for i in check_pw):\n",
    "    print('Values are positive')\n",
    "else:\n",
    "    print('There are negative values')"
   ]
  },
  {
   "cell_type": "markdown",
   "metadata": {},
   "source": [
    "From above analysis and verification, it is concluded that there is no error in package weight column."
   ]
  },
  {
   "cell_type": "markdown",
   "metadata": {},
   "source": [
    "### 5.3: Fix Latitudes and Longitudes"
   ]
  },
  {
   "cell_type": "markdown",
   "metadata": {},
   "source": [
    "As mentioned above, the latitudes of Victoria State mustbe negative and longitudes must be positive. by visualisation we can analyse it using BaseMap.  The given dataset points lies in the southern hemisphere of globe. The latitude and logitude are fixed by multiplying the positive values in latitudes with -1 and the negative values of longitude with -1. After multiplication, all values of latitude columns becomes negative and all values of longitude columns become positve. "
   ]
  },
  {
   "cell_type": "code",
   "execution_count": 26,
   "metadata": {},
   "outputs": [],
   "source": [
    "d_lat = main_df['Destination Latitude'].values\n",
    "d_lon = main_df['Destination Longitude'].values\n"
   ]
  },
  {
   "cell_type": "code",
   "execution_count": 27,
   "metadata": {},
   "outputs": [
    {
     "name": "stderr",
     "output_type": "stream",
     "text": [
      "C:\\Users\\spes0001\\AppData\\Local\\Continuum\\anaconda2\\lib\\site-packages\\mpl_toolkits\\basemap\\__init__.py:1708: MatplotlibDeprecationWarning: The axesPatch function was deprecated in version 2.1. Use Axes.patch instead.\n",
      "  limb = ax.axesPatch\n",
      "C:\\Users\\spes0001\\AppData\\Local\\Continuum\\anaconda2\\lib\\site-packages\\mpl_toolkits\\basemap\\__init__.py:1711: MatplotlibDeprecationWarning: The axesPatch function was deprecated in version 2.1. Use Axes.patch instead.\n",
      "  if limb is not ax.axesPatch:\n"
     ]
    },
    {
     "data": {
      "text/plain": [
       "<matplotlib.collections.PathCollection at 0x1329cf60>"
      ]
     },
     "execution_count": 27,
     "metadata": {},
     "output_type": "execute_result"
    },
    {
     "data": {
      "image/png": "[encoded data removed]",
      "text/plain": [
       "<Figure size 864x576 with 1 Axes>"
      ]
     },
     "metadata": {},
     "output_type": "display_data"
    }
   ],
   "source": [
    "from mpl_toolkits.basemap import Basemap\n",
    "fig = plt.figure(num=None, figsize=(12, 8) )\n",
    "m = Basemap(projection='merc',llcrnrlat=-80,urcrnrlat=80,llcrnrlon=-180,urcrnrlon=180,resolution='c')\n",
    "m.drawcoastlines()\n",
    "m.fillcontinents(color='tan',lake_color='lightblue')\n",
    "# draw parallels and meridians.\n",
    "m.drawparallels(np.arange(-90.,91.,30.),labels=[True,True,False,False],dashes=[2,2])\n",
    "m.drawmeridians(np.arange(-180.,181.,60.),labels=[False,False,False,True],dashes=[2,2])\n",
    "m.drawmapboundary(fill_color='lightblue')\n",
    "m.scatter(d_lon,d_lat,latlon=True)\n"
   ]
  },
  {
   "cell_type": "code",
   "execution_count": 28,
   "metadata": {},
   "outputs": [
    {
     "data": {
      "text/plain": [
       "<matplotlib.collections.PathCollection at 0x14bfdac8>"
      ]
     },
     "execution_count": 28,
     "metadata": {},
     "output_type": "execute_result"
    },
    {
     "data": {
      "image/png": "[encoded data removed]",
      "text/plain": [
       "<Figure size 720x720 with 1 Axes>"
      ]
     },
     "metadata": {},
     "output_type": "display_data"
    }
   ],
   "source": [
    "#Plotting basemap\n",
    "\n",
    "fig = plt.figure(figsize=(10,10))\n",
    "a = Basemap(projection='lcc',resolution='h',lat_0=-34.5,lon_0=144,width=9E6,height=7.2E6)\n",
    "a.drawcoastlines(color='gray')\n",
    "a.drawcountries(color='gray')\n",
    "a.drawstates(color='gray')\n",
    "a.scatter(d_lon,d_lat,latlon=True)"
   ]
  },
  {
   "cell_type": "markdown",
   "metadata": {},
   "source": [
    "Here is the scatterplot which show the points before fixing latitude and longitude columns. It can be observed that the scales of scatterplot out of range which indicates that we need to fix the columns."
   ]
  },
  {
   "cell_type": "code",
   "execution_count": 29,
   "metadata": {},
   "outputs": [
    {
     "data": {
      "text/plain": [
       "<matplotlib.collections.PathCollection at 0x17baa588>"
      ]
     },
     "execution_count": 29,
     "metadata": {},
     "output_type": "execute_result"
    },
    {
     "data": {
      "image/png": "[encoded data removed]",
      "text/plain": [
       "<Figure size 1080x720 with 1 Axes>"
      ]
     },
     "metadata": {},
     "output_type": "display_data"
    }
   ],
   "source": [
    "#plotting before fixing latitude longitude of origin region\n",
    "plt.scatter(main_df['Origin Longitude'],main_df['Origin Latitude'])"
   ]
  },
  {
   "cell_type": "code",
   "execution_count": 30,
   "metadata": {},
   "outputs": [],
   "source": [
    "# Fixing origin and destination latitude and longitude.\n",
    "main_df['Origin Latitude'] = np.where((main_df['Origin Latitude']>0),main_df['Origin Latitude']*-1,main_df['Origin Latitude'])\n",
    "main_df['Destination Latitude'] = np.where((main_df['Destination Latitude']>0),main_df['Destination Latitude']*-1,main_df['Destination Latitude'])\n",
    "main_df['Origin Longitude'] = np.where((main_df['Origin Longitude']<0),main_df['Origin Longitude']*-1,main_df['Origin Longitude'])\n",
    "main_df['Destination Longitude'] = np.where((main_df['Destination Longitude']<0),main_df['Destination Longitude']*-1,main_df['Destination Longitude'])"
   ]
  },
  {
   "cell_type": "code",
   "execution_count": 31,
   "metadata": {},
   "outputs": [
    {
     "data": {
      "text/plain": [
       "<matplotlib.collections.PathCollection at 0x17847710>"
      ]
     },
     "execution_count": 31,
     "metadata": {},
     "output_type": "execute_result"
    },
    {
     "data": {
      "image/png": "[encoded data removed]",
      "text/plain": [
       "<Figure size 1080x720 with 1 Axes>"
      ]
     },
     "metadata": {},
     "output_type": "display_data"
    }
   ],
   "source": [
    "#plotting after fixing latitude longitude of origin region\n",
    "plt.scatter(main_df['Origin Longitude'],main_df['Origin Latitude'])"
   ]
  },
  {
   "cell_type": "markdown",
   "metadata": {},
   "source": [
    "Here the Origin Latitude, Origin Longitude, Destination Latitude, Destination Longitude columns are fixed. From the scatterplot above it is verified that the latitude-longitudes of origin and destination are fixed as the scale of x-axis and y-axis lies in Victoria State itself."
   ]
  },
  {
   "cell_type": "markdown",
   "metadata": {},
   "source": [
    "### 5.4: Fixing Origin Region "
   ]
  },
  {
   "cell_type": "markdown",
   "metadata": {},
   "source": [
    "The Origin Region is fixed by using KNN clustering algorithm where we calculate distance between points. Here we are using regressor which gives the nearest value of the k nearest neighbors. By using this value, the missing values are been imputed\n",
    "KNN algorithm calculates the average of the origin region of the Knearest neighbours where in the training dataset are in x-traing it is origin latitude and origin longitude and y-train is origin region."
   ]
  },
  {
   "cell_type": "code",
   "execution_count": 32,
   "metadata": {},
   "outputs": [
    {
     "data": {
      "text/html": [
       "<div>\n",
       "<style scoped>\n",
       "    .dataframe tbody tr th:only-of-type {\n",
       "        vertical-align: middle;\n",
       "    }\n",
       "\n",
       "    .dataframe tbody tr th {\n",
       "        vertical-align: top;\n",
       "    }\n",
       "\n",
       "    .dataframe thead th {\n",
       "        text-align: right;\n",
       "    }\n",
       "</style>\n",
       "<table border=\"1\" class=\"dataframe\">\n",
       "  <thead>\n",
       "    <tr style=\"text-align: right;\">\n",
       "      <th></th>\n",
       "      <th>Origin Region</th>\n",
       "      <th>Origin Longitude</th>\n",
       "      <th>Origin Latitude</th>\n",
       "    </tr>\n",
       "  </thead>\n",
       "  <tbody>\n",
       "    <tr>\n",
       "      <th>0</th>\n",
       "      <td>2.0</td>\n",
       "      <td>147.323854</td>\n",
       "      <td>-38.360810</td>\n",
       "    </tr>\n",
       "    <tr>\n",
       "      <th>1</th>\n",
       "      <td>47.0</td>\n",
       "      <td>144.969571</td>\n",
       "      <td>-38.262187</td>\n",
       "    </tr>\n",
       "    <tr>\n",
       "      <th>2</th>\n",
       "      <td>24.0</td>\n",
       "      <td>146.160671</td>\n",
       "      <td>-37.233290</td>\n",
       "    </tr>\n",
       "    <tr>\n",
       "      <th>3</th>\n",
       "      <td>21.0</td>\n",
       "      <td>144.968532</td>\n",
       "      <td>-36.680832</td>\n",
       "    </tr>\n",
       "    <tr>\n",
       "      <th>4</th>\n",
       "      <td>13.0</td>\n",
       "      <td>144.468331</td>\n",
       "      <td>-37.412662</td>\n",
       "    </tr>\n",
       "  </tbody>\n",
       "</table>\n",
       "</div>"
      ],
      "text/plain": [
       "   Origin Region  Origin Longitude  Origin Latitude\n",
       "0            2.0        147.323854       -38.360810\n",
       "1           47.0        144.969571       -38.262187\n",
       "2           24.0        146.160671       -37.233290\n",
       "3           21.0        144.968532       -36.680832\n",
       "4           13.0        144.468331       -37.412662"
      ]
     },
     "execution_count": 32,
     "metadata": {},
     "output_type": "execute_result"
    }
   ],
   "source": [
    "#Creating new dataframe with only origin region, Origin Latitude and origin longitude\n",
    "fix_or = main_df.filter(['Origin Region' ,'Origin Longitude', 'Origin Latitude'],axis=1)\n",
    "fix_or.head()"
   ]
  },
  {
   "cell_type": "code",
   "execution_count": 33,
   "metadata": {},
   "outputs": [
    {
     "data": {
      "text/html": [
       "<div>\n",
       "<style scoped>\n",
       "    .dataframe tbody tr th:only-of-type {\n",
       "        vertical-align: middle;\n",
       "    }\n",
       "\n",
       "    .dataframe tbody tr th {\n",
       "        vertical-align: top;\n",
       "    }\n",
       "\n",
       "    .dataframe thead th {\n",
       "        text-align: right;\n",
       "    }\n",
       "</style>\n",
       "<table border=\"1\" class=\"dataframe\">\n",
       "  <thead>\n",
       "    <tr style=\"text-align: right;\">\n",
       "      <th></th>\n",
       "      <th>Origin Region</th>\n",
       "      <th>Origin Longitude</th>\n",
       "      <th>Origin Latitude</th>\n",
       "    </tr>\n",
       "  </thead>\n",
       "  <tbody>\n",
       "    <tr>\n",
       "      <th>6</th>\n",
       "      <td>NaN</td>\n",
       "      <td>146.666435</td>\n",
       "      <td>-37.840775</td>\n",
       "    </tr>\n",
       "    <tr>\n",
       "      <th>69</th>\n",
       "      <td>NaN</td>\n",
       "      <td>144.850069</td>\n",
       "      <td>-38.420526</td>\n",
       "    </tr>\n",
       "    <tr>\n",
       "      <th>4116</th>\n",
       "      <td>NaN</td>\n",
       "      <td>147.975226</td>\n",
       "      <td>-38.909002</td>\n",
       "    </tr>\n",
       "    <tr>\n",
       "      <th>8209</th>\n",
       "      <td>NaN</td>\n",
       "      <td>145.584291</td>\n",
       "      <td>-38.959583</td>\n",
       "    </tr>\n",
       "    <tr>\n",
       "      <th>10276</th>\n",
       "      <td>NaN</td>\n",
       "      <td>144.251021</td>\n",
       "      <td>-38.940755</td>\n",
       "    </tr>\n",
       "    <tr>\n",
       "      <th>16423</th>\n",
       "      <td>NaN</td>\n",
       "      <td>146.671909</td>\n",
       "      <td>-37.957321</td>\n",
       "    </tr>\n",
       "    <tr>\n",
       "      <th>24610</th>\n",
       "      <td>NaN</td>\n",
       "      <td>148.273071</td>\n",
       "      <td>-36.996141</td>\n",
       "    </tr>\n",
       "    <tr>\n",
       "      <th>32772</th>\n",
       "      <td>NaN</td>\n",
       "      <td>143.089288</td>\n",
       "      <td>-38.366568</td>\n",
       "    </tr>\n",
       "    <tr>\n",
       "      <th>32801</th>\n",
       "      <td>NaN</td>\n",
       "      <td>143.426841</td>\n",
       "      <td>-38.511028</td>\n",
       "    </tr>\n",
       "    <tr>\n",
       "      <th>34840</th>\n",
       "      <td>NaN</td>\n",
       "      <td>147.341796</td>\n",
       "      <td>-37.556390</td>\n",
       "    </tr>\n",
       "  </tbody>\n",
       "</table>\n",
       "</div>"
      ],
      "text/plain": [
       "       Origin Region  Origin Longitude  Origin Latitude\n",
       "6                NaN        146.666435       -37.840775\n",
       "69               NaN        144.850069       -38.420526\n",
       "4116             NaN        147.975226       -38.909002\n",
       "8209             NaN        145.584291       -38.959583\n",
       "10276            NaN        144.251021       -38.940755\n",
       "16423            NaN        146.671909       -37.957321\n",
       "24610            NaN        148.273071       -36.996141\n",
       "32772            NaN        143.089288       -38.366568\n",
       "32801            NaN        143.426841       -38.511028\n",
       "34840            NaN        147.341796       -37.556390"
      ]
     },
     "execution_count": 33,
     "metadata": {},
     "output_type": "execute_result"
    }
   ],
   "source": [
    "fix_or_null = fix_or[fix_or['Origin Region'].isnull()]\n",
    "fix_or_null"
   ]
  },
  {
   "cell_type": "code",
   "execution_count": 34,
   "metadata": {},
   "outputs": [],
   "source": [
    "#Removing the NAN from the Id column\n",
    "fix_or.dropna(axis=0,inplace=True)"
   ]
  },
  {
   "cell_type": "code",
   "execution_count": 35,
   "metadata": {},
   "outputs": [],
   "source": [
    "#creating new datframe which consists only orgin latitude-longitudes\n",
    "fix_or_nulldrop =fix_or_null .filter(['Origin Longitude', 'Origin Latitude'],axis=1)"
   ]
  },
  {
   "cell_type": "code",
   "execution_count": 36,
   "metadata": {},
   "outputs": [
    {
     "data": {
      "text/plain": [
       "0"
      ]
     },
     "execution_count": 36,
     "metadata": {},
     "output_type": "execute_result"
    }
   ],
   "source": [
    "#checking null values\n",
    "fix_or['Origin Region'].isnull().sum()"
   ]
  },
  {
   "cell_type": "code",
   "execution_count": 37,
   "metadata": {},
   "outputs": [],
   "source": [
    "#creating train datset\n",
    "x_train = fix_or.drop('Origin Region', axis=1)\n",
    "y_train = fix_or['Origin Region']"
   ]
  },
  {
   "cell_type": "code",
   "execution_count": 38,
   "metadata": {},
   "outputs": [
    {
     "data": {
      "text/plain": [
       "{'n_neighbors': 8}"
      ]
     },
     "execution_count": 38,
     "metadata": {},
     "output_type": "execute_result"
    }
   ],
   "source": [
    "#fitting model \n",
    "params = {'n_neighbors':[2,3,4,5,6,7,8,9]}\n",
    "\n",
    "knn = neighbors.KNeighborsRegressor()\n",
    "\n",
    "model = GridSearchCV(knn, params, cv=5)\n",
    "model.fit(x_train,y_train)\n",
    "model.best_params_"
   ]
  },
  {
   "cell_type": "code",
   "execution_count": 39,
   "metadata": {},
   "outputs": [
    {
     "data": {
      "text/plain": [
       "array([12., 47., 35., 44., 30., 12., 31., 40., 28., 22.])"
      ]
     },
     "execution_count": 39,
     "metadata": {},
     "output_type": "execute_result"
    }
   ],
   "source": [
    "#predicting on the test set \n",
    "predict = model.predict(fix_or_nulldrop)\n",
    "predict"
   ]
  },
  {
   "cell_type": "code",
   "execution_count": 40,
   "metadata": {},
   "outputs": [],
   "source": [
    "#Imputing missing values of Origin Region\n",
    "main_df.loc[[6],'Origin Region'] = [12.0]\n",
    "main_df.loc[[69],'Origin Region'] = [47.0]\n",
    "main_df.loc[[4116],'Origin Region'] = [35.0]\n",
    "main_df.loc[[8209],'Origin Region'] = [44.0]\n",
    "main_df.loc[[10276],'Origin Region'] = [30.0]\n",
    "main_df.loc[[16423],'Origin Region'] = [12.0]\n",
    "main_df.loc[[24610],'Origin Region'] = [31.0]\n",
    "main_df.loc[[32772],'Origin Region'] = [40.0]\n",
    "main_df.loc[[32801],'Origin Region'] = [28.0]\n",
    "main_df.loc[[34840],'Origin Region'] = [22.0]\n"
   ]
  },
  {
   "cell_type": "markdown",
   "metadata": {},
   "source": [
    "From the above process after creating and predicting model, Origin Regions missing values are filled."
   ]
  },
  {
   "cell_type": "code",
   "execution_count": 41,
   "metadata": {},
   "outputs": [
    {
     "data": {
      "text/plain": [
       "<seaborn.axisgrid.FacetGrid at 0x17898898>"
      ]
     },
     "execution_count": 41,
     "metadata": {},
     "output_type": "execute_result"
    },
    {
     "data": {
      "text/plain": [
       "<Figure size 3600x3600 with 0 Axes>"
      ]
     },
     "metadata": {},
     "output_type": "display_data"
    },
    {
     "data": {
      "image/png": "[encoded data removed]",
      "text/plain": [
       "<Figure size 425.5x360 with 1 Axes>"
      ]
     },
     "metadata": {},
     "output_type": "display_data"
    }
   ],
   "source": [
    "#Plot the origin region and destination region \n",
    "import seaborn as sns\n",
    "plt.figure(figsize=(50,50))\n",
    "color_list = [\"purple\",\"green\",\"blue\",\"pink\",\"brown\",\"red\",\"light blue\",\"teal\",\"orange\",\"light green\",\"magenta\",\"yellow\",\"hot pink\",\"light brown\",\"pale green\",\"peach\",\"olive green\",\"dark pink\",\"turquoise\",\"lavender\",\"dark blue\",\"tan\",\"cyan\",\"aqua\",\"forest green\",\"mauve\",\"dark purple\",\"bright green\",\"maroon\",\"olive\",\"salmon\",\"beige\",\"royal blue\",\"navy blue\",\"lilac\",\"black\",\"hot pink\",\"light brown\",\"pale green\",\"peach\",\"olive green\",\"dark pink\",\"cool grey\",\"canary\",\"booger green\",\"muted pink\",\"hazel\",\"dark royal blue\",\"golden\",\"pale lilac\"]\n",
    "current_palette = sns.xkcd_palette(color_list)\n",
    "sns.lmplot( x=\"Origin Latitude\", y=\"Origin Longitude\", data=main_df, fit_reg=False, hue='Origin Region' ,legend=True, palette=current_palette)"
   ]
  },
  {
   "cell_type": "markdown",
   "metadata": {},
   "source": [
    "After imputing the values in the origin region column and then plotting it, we can observe that there are other colour dots in the large chunk which shows that there are few errors in origin region where the values are incorrect because of which the other region point is placed in the another region."
   ]
  },
  {
   "cell_type": "markdown",
   "metadata": {},
   "source": [
    "### 5.5: Fixing Destination Region"
   ]
  },
  {
   "cell_type": "markdown",
   "metadata": {},
   "source": [
    "The Destination Region is fixed by using KNN clustering algorithm where we calculate distance between points. Here we are using regressor which gives the nearest value of the k nearest neighbors.By using this value, the missing values are been imputed\n",
    "KNN algorithm calculates the average of the origin region of the Knearest neighbours where in the training dataset are in x-traing it is origin latitude and origin longitude and y-train is origin region."
   ]
  },
  {
   "cell_type": "code",
   "execution_count": 42,
   "metadata": {},
   "outputs": [],
   "source": [
    "#Creating new dataframe with only Destination region, Destination Latitude and Destination longitude\n",
    "fix_dr = main_df.filter(['Destination Region' ,'Destination Longitude', 'Destination Latitude'],axis=1)\n"
   ]
  },
  {
   "cell_type": "code",
   "execution_count": 43,
   "metadata": {},
   "outputs": [
    {
     "data": {
      "text/html": [
       "<div>\n",
       "<style scoped>\n",
       "    .dataframe tbody tr th:only-of-type {\n",
       "        vertical-align: middle;\n",
       "    }\n",
       "\n",
       "    .dataframe tbody tr th {\n",
       "        vertical-align: top;\n",
       "    }\n",
       "\n",
       "    .dataframe thead th {\n",
       "        text-align: right;\n",
       "    }\n",
       "</style>\n",
       "<table border=\"1\" class=\"dataframe\">\n",
       "  <thead>\n",
       "    <tr style=\"text-align: right;\">\n",
       "      <th></th>\n",
       "      <th>Destination Region</th>\n",
       "      <th>Destination Longitude</th>\n",
       "      <th>Destination Latitude</th>\n",
       "    </tr>\n",
       "  </thead>\n",
       "  <tbody>\n",
       "    <tr>\n",
       "      <th>4160</th>\n",
       "      <td>NaN</td>\n",
       "      <td>143.619164</td>\n",
       "      <td>-38.384264</td>\n",
       "    </tr>\n",
       "    <tr>\n",
       "      <th>6188</th>\n",
       "      <td>NaN</td>\n",
       "      <td>145.893422</td>\n",
       "      <td>-36.532711</td>\n",
       "    </tr>\n",
       "    <tr>\n",
       "      <th>8257</th>\n",
       "      <td>NaN</td>\n",
       "      <td>142.822478</td>\n",
       "      <td>-38.192731</td>\n",
       "    </tr>\n",
       "    <tr>\n",
       "      <th>10288</th>\n",
       "      <td>NaN</td>\n",
       "      <td>146.924220</td>\n",
       "      <td>-36.640759</td>\n",
       "    </tr>\n",
       "    <tr>\n",
       "      <th>12347</th>\n",
       "      <td>NaN</td>\n",
       "      <td>148.312089</td>\n",
       "      <td>-36.771802</td>\n",
       "    </tr>\n",
       "    <tr>\n",
       "      <th>16441</th>\n",
       "      <td>NaN</td>\n",
       "      <td>148.221964</td>\n",
       "      <td>-38.955886</td>\n",
       "    </tr>\n",
       "    <tr>\n",
       "      <th>22574</th>\n",
       "      <td>NaN</td>\n",
       "      <td>147.242681</td>\n",
       "      <td>-38.330354</td>\n",
       "    </tr>\n",
       "    <tr>\n",
       "      <th>28735</th>\n",
       "      <td>NaN</td>\n",
       "      <td>145.555811</td>\n",
       "      <td>-38.982515</td>\n",
       "    </tr>\n",
       "    <tr>\n",
       "      <th>32813</th>\n",
       "      <td>NaN</td>\n",
       "      <td>144.222344</td>\n",
       "      <td>-37.643673</td>\n",
       "    </tr>\n",
       "    <tr>\n",
       "      <th>34882</th>\n",
       "      <td>NaN</td>\n",
       "      <td>143.188475</td>\n",
       "      <td>-38.523288</td>\n",
       "    </tr>\n",
       "  </tbody>\n",
       "</table>\n",
       "</div>"
      ],
      "text/plain": [
       "       Destination Region  Destination Longitude  Destination Latitude\n",
       "4160                  NaN             143.619164            -38.384264\n",
       "6188                  NaN             145.893422            -36.532711\n",
       "8257                  NaN             142.822478            -38.192731\n",
       "10288                 NaN             146.924220            -36.640759\n",
       "12347                 NaN             148.312089            -36.771802\n",
       "16441                 NaN             148.221964            -38.955886\n",
       "22574                 NaN             147.242681            -38.330354\n",
       "28735                 NaN             145.555811            -38.982515\n",
       "32813                 NaN             144.222344            -37.643673\n",
       "34882                 NaN             143.188475            -38.523288"
      ]
     },
     "execution_count": 43,
     "metadata": {},
     "output_type": "execute_result"
    }
   ],
   "source": [
    "#creating a dataframe which consists only missing values of destination region with their corresponding values\n",
    "dest = fix_dr[fix_dr['Destination Region'].isnull()]\n",
    "dest"
   ]
  },
  {
   "cell_type": "code",
   "execution_count": 44,
   "metadata": {},
   "outputs": [],
   "source": [
    "#Removing the NAN from the Destination Region column\n",
    "fix_dr.dropna(axis=0,inplace=True)"
   ]
  },
  {
   "cell_type": "code",
   "execution_count": 45,
   "metadata": {},
   "outputs": [],
   "source": [
    "#Creating new dataframe with only  Destination Latitude and Destination longitude\n",
    "dest_new = dest.filter(['Destination Longitude', 'Destination Latitude'],axis=1)\n"
   ]
  },
  {
   "cell_type": "code",
   "execution_count": 46,
   "metadata": {},
   "outputs": [
    {
     "data": {
      "text/plain": [
       "0"
      ]
     },
     "execution_count": 46,
     "metadata": {},
     "output_type": "execute_result"
    }
   ],
   "source": [
    "#checking null values of Destination Region\n",
    "fix_dr['Destination Region'].isnull().sum()"
   ]
  },
  {
   "cell_type": "code",
   "execution_count": 47,
   "metadata": {},
   "outputs": [],
   "source": [
    "#creating train datset\n",
    "x_traindest = fix_dr.drop('Destination Region', axis=1)\n",
    "y_traindest = fix_dr['Destination Region']"
   ]
  },
  {
   "cell_type": "code",
   "execution_count": 48,
   "metadata": {},
   "outputs": [
    {
     "data": {
      "text/plain": [
       "{'n_neighbors': 8}"
      ]
     },
     "execution_count": 48,
     "metadata": {},
     "output_type": "execute_result"
    }
   ],
   "source": [
    "#fitting a model\n",
    "params1 = {'n_neighbors':[2,3,4,5,6,7,8,9]}\n",
    "\n",
    "knn1 = neighbors.KNeighborsRegressor()\n",
    "\n",
    "model1 = GridSearchCV(knn, params, cv=5)\n",
    "model1.fit(x_train,y_train)\n",
    "model1.best_params_"
   ]
  },
  {
   "cell_type": "code",
   "execution_count": 49,
   "metadata": {
    "scrolled": true
   },
   "outputs": [
    {
     "data": {
      "text/plain": [
       "array([28.,  6., 33., 43., 42., 35.,  2., 44.,  3., 40.])"
      ]
     },
     "execution_count": 49,
     "metadata": {},
     "output_type": "execute_result"
    }
   ],
   "source": [
    "#predicting on the test set \n",
    "predict1 = model.predict(dest_new)\n",
    "predict1\n"
   ]
  },
  {
   "cell_type": "code",
   "execution_count": 50,
   "metadata": {},
   "outputs": [],
   "source": [
    "#Imputing missing values of Destination Region\n",
    "main_df.loc[[4160],'Destination Region'] = [28.0]\n",
    "main_df.loc[[6188],'Destination Region'] = [6.0]\n",
    "main_df.loc[[8257],'Destination Region'] = [33.0]\n",
    "main_df.loc[[10288],'Destination Region'] = [43.0]\n",
    "main_df.loc[[12347],'Destination Region'] = [42.0]\n",
    "main_df.loc[[16441],'Destination Region'] = [35.0]\n",
    "main_df.loc[[22574],'Destination Region'] = [2.0]\n",
    "main_df.loc[[28735],'Destination Region'] = [44.0]\n",
    "main_df.loc[[32813],'Destination Region'] = [3.0]\n",
    "main_df.loc[[34882],'Destination Region'] = [40.0]"
   ]
  },
  {
   "cell_type": "markdown",
   "metadata": {},
   "source": [
    "From the above process after creating and predicting model, Destination Regions missing values are filled."
   ]
  },
  {
   "cell_type": "code",
   "execution_count": 51,
   "metadata": {},
   "outputs": [
    {
     "data": {
      "text/plain": [
       "<seaborn.axisgrid.FacetGrid at 0x152376a0>"
      ]
     },
     "execution_count": 51,
     "metadata": {},
     "output_type": "execute_result"
    },
    {
     "data": {
      "text/plain": [
       "<Figure size 3600x3600 with 0 Axes>"
      ]
     },
     "metadata": {},
     "output_type": "display_data"
    },
    {
     "data": {
      "image/png": "[encoded data removed]",
      "text/plain": [
       "<Figure size 447.375x360 with 1 Axes>"
      ]
     },
     "metadata": {},
     "output_type": "display_data"
    }
   ],
   "source": [
    "#Plot the origin region and destination region \n",
    "import seaborn as sns\n",
    "plt.figure(figsize=(50,50))\n",
    "color_list = [\"purple\",\"green\",\"blue\",\"pink\",\"brown\",\"red\",\"light blue\",\"teal\",\"orange\",\"light green\",\"magenta\",\"yellow\",\"hot pink\",\"light brown\",\"pale green\",\"peach\",\"olive green\",\"dark pink\",\"turquoise\",\"lavender\",\"dark blue\",\"tan\",\"cyan\",\"aqua\",\"forest green\",\"mauve\",\"dark purple\",\"bright green\",\"maroon\",\"olive\",\"salmon\",\"beige\",\"royal blue\",\"navy blue\",\"lilac\",\"black\",\"hot pink\",\"light brown\",\"pale green\",\"peach\",\"olive green\",\"dark pink\",\"cool grey\",\"canary\",\"booger green\",\"muted pink\",\"hazel\",\"dark royal blue\",\"golden\",\"pale lilac\"]\n",
    "current_palette = sns.xkcd_palette(color_list)\n",
    "sns.lmplot( x=\"Destination Latitude\", y=\"Destination Longitude\", data=main_df, fit_reg=False, hue='Destination Region' ,legend=True, palette=current_palette)"
   ]
  },
  {
   "cell_type": "markdown",
   "metadata": {},
   "source": [
    "After imputing the values in the destination region column and then plotting it, we can observe that there are other colour dots in the large chunk which shows that there are few errors in origin region where the values are incorrect because of which the other region point is placed in the another region."
   ]
  },
  {
   "cell_type": "markdown",
   "metadata": {},
   "source": [
    "### 5.6: Fixing Journey Distance Column"
   ]
  },
  {
   "cell_type": "markdown",
   "metadata": {},
   "source": [
    "Journey Distance column needs to be verified using origin and destination latitudes-longitudes. As we are provided with the origin coordinates and destination coordinates, we can check the distance between two points on sphere given their latitude-longitude by using Haversine Formula. The Haversine Formula uses the latitude-longitude of two points and radius of the earth.\n",
    "Since origin latitude and origin longitude are fixed now further now we can check if Journey Distance column dataset is correct or have some errors. Using haversine Formula we can check the distance travelled by drone from origin region and destination region."
   ]
  },
  {
   "cell_type": "code",
   "execution_count": 52,
   "metadata": {},
   "outputs": [],
   "source": [
    "# Checking Journey Distance via latitude and longitude.\n",
    "\n",
    "from math import radians, cos, sin, asin, sqrt,atan2\n",
    "def haversine(lon1, lat1, lon2, lat2):\n",
    "    \"\"\"\n",
    "    Calculate the great circle distance between two points \n",
    "    on the earth (specified in decimal degrees)\n",
    "    \"\"\"\n",
    "    # convert decimal degrees to radians \n",
    "    lon1, lat1, lon2, lat2 = map(radians, [lon1, lat1, lon2, lat2])\n",
    "    # haversine formula \n",
    "    dlon = lon2 - lon1 \n",
    "    dlat = lat2 - lat1 \n",
    "    a = sin(dlat/2)**2 + cos(lat1) * cos(lat2) * sin(dlon/2)**2\n",
    "    c = 2 * atan2(sqrt(a), sqrt(1-a))\n",
    "    \n",
    "    km = 6378 * c\n",
    "    return km\n",
    "df1 = main_df[\"Origin Longitude\"]\n",
    "df2 = main_df[\"Origin Latitude\"]\n",
    "df3 = main_df[\"Destination Longitude\"]\n",
    "df4 = main_df[\"Destination Latitude\"]\n",
    "i=0\n",
    "new_jd = []\n",
    "for idx,val in enumerate(df1):\n",
    "    new_jd.append(haversine(df1[idx], df2[idx],df3[idx],df4[idx]))"
   ]
  },
  {
   "cell_type": "code",
   "execution_count": 53,
   "metadata": {},
   "outputs": [
    {
     "data": {
      "text/plain": [
       "0        418.660032\n",
       "1         97.370189\n",
       "2        250.299910\n",
       "3        308.309599\n",
       "4        361.509730\n",
       "5         80.716718\n",
       "6        211.579932\n",
       "7        237.940275\n",
       "8        132.729189\n",
       "9        186.676940\n",
       "10       117.609903\n",
       "11       122.664520\n",
       "12       334.700444\n",
       "13        58.577724\n",
       "14       364.160217\n",
       "15       212.462851\n",
       "16       333.207315\n",
       "17        74.998089\n",
       "18       143.020636\n",
       "19       301.196989\n",
       "20        90.133948\n",
       "21       268.448308\n",
       "22       163.345677\n",
       "23        52.950153\n",
       "24       483.503762\n",
       "25       472.284093\n",
       "26       190.572117\n",
       "27       245.875647\n",
       "28       227.585824\n",
       "29       274.096751\n",
       "            ...    \n",
       "36572     94.422922\n",
       "36573     53.476264\n",
       "36574    428.421736\n",
       "36575    139.059181\n",
       "36576    482.751172\n",
       "36577    421.367643\n",
       "36578     13.332242\n",
       "36579    183.269648\n",
       "36580    468.922846\n",
       "36581    464.127065\n",
       "36582    446.411601\n",
       "36583     60.046245\n",
       "36584    280.878595\n",
       "36585    326.035910\n",
       "36586    211.735832\n",
       "36587    141.935532\n",
       "36588    288.077469\n",
       "36589    252.259281\n",
       "36590    105.640596\n",
       "36591    472.870207\n",
       "36592    141.625052\n",
       "36593     13.742073\n",
       "36594     64.039790\n",
       "36595    166.060315\n",
       "36596    188.952075\n",
       "36597    212.100976\n",
       "36598    356.764308\n",
       "36599    234.693089\n",
       "36600    261.849139\n",
       "36601    239.940886\n",
       "Name: Journey Distance, Length: 36602, dtype: float64"
      ]
     },
     "execution_count": 53,
     "metadata": {},
     "output_type": "execute_result"
    }
   ],
   "source": [
    "# new journeydistance column\n",
    "main_df['Journey Distance'] = new_jd\n",
    "main_df['Journey Distance']"
   ]
  },
  {
   "cell_type": "markdown",
   "metadata": {},
   "source": [
    "Haversine formula is implemented when there are coordinates of two points on sphere is given.Here using this sceneario on earth as sphere and coordintes as the latitude-longitude, the distance between two points are calculated and used for further fixing the other columns of the dataset. The journey distance is replaced by new journey distance. "
   ]
  },
  {
   "cell_type": "code",
   "execution_count": 54,
   "metadata": {
    "scrolled": true
   },
   "outputs": [
    {
     "data": {
      "image/png": "[encoded data removed]",
      "text/plain": [
       "<Figure size 1080x720 with 1 Axes>"
      ]
     },
     "metadata": {},
     "output_type": "display_data"
    }
   ],
   "source": [
    "#plotting scatterplot between delivery fare and journey distance\n",
    "main_df.plot(x='Delivery Fare', y='Journey Distance', style='o')  \n",
    "plt.title('Delivery Fare vs Journey Distance')  \n",
    "plt.xlabel('Journey Distance')  \n",
    "plt.ylabel('Delivery Fare')  \n",
    "plt.show()  "
   ]
  },
  {
   "cell_type": "markdown",
   "metadata": {},
   "source": [
    "Here I have plotted scatterplot for my understanding to check how the relation is going on. After fixing journey distance it is linearly postive but is not related with delivery fare. This is because yet Delivery fare has error values in it. There is a weak relatin between these two column."
   ]
  },
  {
   "cell_type": "markdown",
   "metadata": {},
   "source": [
    "### 5.7: Fixing Travel Time "
   ]
  },
  {
   "cell_type": "markdown",
   "metadata": {},
   "source": [
    "Travel Time is dependent on Journey Distance column. Once Journey Distance is fixed then Travel Time can be fixed. Checking if there are errors in Travel Time by plotting Journey Distance with Travel Time. Since the  Journey distance and Travel Time are highly correlated with each other having 0.99 correlation value , we plot a linear regression between these two column to impute the travel time missing value. \n",
    "\n",
    "Here I have created a dataframe consisting of two columns journey distance and travel time and later made a copy of it. Then from original dataframe the missing values are dropped and the performance of these models are checked were one is complete and other doesnot have missing values. Then Train a linear regression model and predict the Travel Time \n"
   ]
  },
  {
   "cell_type": "code",
   "execution_count": 55,
   "metadata": {},
   "outputs": [
    {
     "data": {
      "text/html": [
       "<div>\n",
       "<style scoped>\n",
       "    .dataframe tbody tr th:only-of-type {\n",
       "        vertical-align: middle;\n",
       "    }\n",
       "\n",
       "    .dataframe tbody tr th {\n",
       "        vertical-align: top;\n",
       "    }\n",
       "\n",
       "    .dataframe thead th {\n",
       "        text-align: right;\n",
       "    }\n",
       "</style>\n",
       "<table border=\"1\" class=\"dataframe\">\n",
       "  <thead>\n",
       "    <tr style=\"text-align: right;\">\n",
       "      <th></th>\n",
       "      <th>Journey Distance</th>\n",
       "      <th>Travel Time</th>\n",
       "    </tr>\n",
       "  </thead>\n",
       "  <tbody>\n",
       "    <tr>\n",
       "      <th>0</th>\n",
       "      <td>418.660032</td>\n",
       "      <td>411.85</td>\n",
       "    </tr>\n",
       "    <tr>\n",
       "      <th>1</th>\n",
       "      <td>97.370189</td>\n",
       "      <td>100.92</td>\n",
       "    </tr>\n",
       "    <tr>\n",
       "      <th>2</th>\n",
       "      <td>250.299910</td>\n",
       "      <td>224.54</td>\n",
       "    </tr>\n",
       "    <tr>\n",
       "      <th>3</th>\n",
       "      <td>308.309599</td>\n",
       "      <td>274.98</td>\n",
       "    </tr>\n",
       "    <tr>\n",
       "      <th>4</th>\n",
       "      <td>361.509730</td>\n",
       "      <td>321.24</td>\n",
       "    </tr>\n",
       "  </tbody>\n",
       "</table>\n",
       "</div>"
      ],
      "text/plain": [
       "   Journey Distance  Travel Time\n",
       "0        418.660032       411.85\n",
       "1         97.370189       100.92\n",
       "2        250.299910       224.54\n",
       "3        308.309599       274.98\n",
       "4        361.509730       321.24"
      ]
     },
     "execution_count": 55,
     "metadata": {},
     "output_type": "execute_result"
    }
   ],
   "source": [
    "#Creating new dataframe with only Journey distance and Travel Time\n",
    "fix_tt = main_df.filter(['Journey Distance','Travel Time'],axis=1)\n",
    "fix_tt.head()"
   ]
  },
  {
   "cell_type": "code",
   "execution_count": 56,
   "metadata": {},
   "outputs": [
    {
     "data": {
      "text/plain": [
       "Journey Distance     0\n",
       "Travel Time         40\n",
       "dtype: int64"
      ]
     },
     "execution_count": 56,
     "metadata": {},
     "output_type": "execute_result"
    }
   ],
   "source": [
    "#calculating sum of missing values\n",
    "fix_tt.isnull().sum()"
   ]
  },
  {
   "cell_type": "code",
   "execution_count": 57,
   "metadata": {},
   "outputs": [
    {
     "data": {
      "text/html": [
       "<div>\n",
       "<style scoped>\n",
       "    .dataframe tbody tr th:only-of-type {\n",
       "        vertical-align: middle;\n",
       "    }\n",
       "\n",
       "    .dataframe tbody tr th {\n",
       "        vertical-align: top;\n",
       "    }\n",
       "\n",
       "    .dataframe thead th {\n",
       "        text-align: right;\n",
       "    }\n",
       "</style>\n",
       "<table border=\"1\" class=\"dataframe\">\n",
       "  <thead>\n",
       "    <tr style=\"text-align: right;\">\n",
       "      <th></th>\n",
       "      <th>Journey Distance</th>\n",
       "      <th>Travel Time</th>\n",
       "    </tr>\n",
       "  </thead>\n",
       "  <tbody>\n",
       "    <tr>\n",
       "      <th>0</th>\n",
       "      <td>418.660032</td>\n",
       "      <td>411.85</td>\n",
       "    </tr>\n",
       "    <tr>\n",
       "      <th>1</th>\n",
       "      <td>97.370189</td>\n",
       "      <td>100.92</td>\n",
       "    </tr>\n",
       "    <tr>\n",
       "      <th>2</th>\n",
       "      <td>250.299910</td>\n",
       "      <td>224.54</td>\n",
       "    </tr>\n",
       "    <tr>\n",
       "      <th>3</th>\n",
       "      <td>308.309599</td>\n",
       "      <td>274.98</td>\n",
       "    </tr>\n",
       "    <tr>\n",
       "      <th>4</th>\n",
       "      <td>361.509730</td>\n",
       "      <td>321.24</td>\n",
       "    </tr>\n",
       "  </tbody>\n",
       "</table>\n",
       "</div>"
      ],
      "text/plain": [
       "   Journey Distance  Travel Time\n",
       "0        418.660032       411.85\n",
       "1         97.370189       100.92\n",
       "2        250.299910       224.54\n",
       "3        308.309599       274.98\n",
       "4        361.509730       321.24"
      ]
     },
     "execution_count": 57,
     "metadata": {},
     "output_type": "execute_result"
    }
   ],
   "source": [
    "#creating copy\n",
    "fix_tt2 = fix_tt.copy()\n",
    "fix_tt2.head()"
   ]
  },
  {
   "cell_type": "code",
   "execution_count": 58,
   "metadata": {},
   "outputs": [],
   "source": [
    "#dropping Travel Time\n",
    "fix_tt2.dropna(subset=['Travel Time'],axis=0,inplace=True)"
   ]
  },
  {
   "cell_type": "code",
   "execution_count": 59,
   "metadata": {},
   "outputs": [
    {
     "data": {
      "text/html": [
       "<div>\n",
       "<style scoped>\n",
       "    .dataframe tbody tr th:only-of-type {\n",
       "        vertical-align: middle;\n",
       "    }\n",
       "\n",
       "    .dataframe tbody tr th {\n",
       "        vertical-align: top;\n",
       "    }\n",
       "\n",
       "    .dataframe thead th {\n",
       "        text-align: right;\n",
       "    }\n",
       "</style>\n",
       "<table border=\"1\" class=\"dataframe\">\n",
       "  <thead>\n",
       "    <tr style=\"text-align: right;\">\n",
       "      <th></th>\n",
       "      <th>Journey Distance</th>\n",
       "      <th>Travel Time</th>\n",
       "    </tr>\n",
       "  </thead>\n",
       "  <tbody>\n",
       "    <tr>\n",
       "      <th>0</th>\n",
       "      <td>418.660032</td>\n",
       "      <td>411.85</td>\n",
       "    </tr>\n",
       "    <tr>\n",
       "      <th>1</th>\n",
       "      <td>97.370189</td>\n",
       "      <td>100.92</td>\n",
       "    </tr>\n",
       "    <tr>\n",
       "      <th>2</th>\n",
       "      <td>250.299910</td>\n",
       "      <td>224.54</td>\n",
       "    </tr>\n",
       "    <tr>\n",
       "      <th>3</th>\n",
       "      <td>308.309599</td>\n",
       "      <td>274.98</td>\n",
       "    </tr>\n",
       "    <tr>\n",
       "      <th>4</th>\n",
       "      <td>361.509730</td>\n",
       "      <td>321.24</td>\n",
       "    </tr>\n",
       "    <tr>\n",
       "      <th>5</th>\n",
       "      <td>80.716718</td>\n",
       "      <td>75.04</td>\n",
       "    </tr>\n",
       "    <tr>\n",
       "      <th>6</th>\n",
       "      <td>211.579932</td>\n",
       "      <td>211.45</td>\n",
       "    </tr>\n",
       "    <tr>\n",
       "      <th>7</th>\n",
       "      <td>237.940275</td>\n",
       "      <td>207.91</td>\n",
       "    </tr>\n",
       "    <tr>\n",
       "      <th>8</th>\n",
       "      <td>132.729189</td>\n",
       "      <td>119.00</td>\n",
       "    </tr>\n",
       "    <tr>\n",
       "      <th>9</th>\n",
       "      <td>186.676940</td>\n",
       "      <td>169.21</td>\n",
       "    </tr>\n",
       "    <tr>\n",
       "      <th>10</th>\n",
       "      <td>117.609903</td>\n",
       "      <td>120.51</td>\n",
       "    </tr>\n",
       "    <tr>\n",
       "      <th>11</th>\n",
       "      <td>122.664520</td>\n",
       "      <td>125.40</td>\n",
       "    </tr>\n",
       "    <tr>\n",
       "      <th>12</th>\n",
       "      <td>334.700444</td>\n",
       "      <td>297.93</td>\n",
       "    </tr>\n",
       "    <tr>\n",
       "      <th>13</th>\n",
       "      <td>58.577724</td>\n",
       "      <td>63.38</td>\n",
       "    </tr>\n",
       "    <tr>\n",
       "      <th>14</th>\n",
       "      <td>364.160217</td>\n",
       "      <td>314.57</td>\n",
       "    </tr>\n",
       "    <tr>\n",
       "      <th>15</th>\n",
       "      <td>212.462851</td>\n",
       "      <td>191.63</td>\n",
       "    </tr>\n",
       "    <tr>\n",
       "      <th>16</th>\n",
       "      <td>333.207315</td>\n",
       "      <td>288.41</td>\n",
       "    </tr>\n",
       "    <tr>\n",
       "      <th>17</th>\n",
       "      <td>74.998089</td>\n",
       "      <td>79.27</td>\n",
       "    </tr>\n",
       "    <tr>\n",
       "      <th>18</th>\n",
       "      <td>143.020636</td>\n",
       "      <td>145.10</td>\n",
       "    </tr>\n",
       "    <tr>\n",
       "      <th>19</th>\n",
       "      <td>301.196989</td>\n",
       "      <td>261.36</td>\n",
       "    </tr>\n",
       "    <tr>\n",
       "      <th>20</th>\n",
       "      <td>90.133948</td>\n",
       "      <td>85.26</td>\n",
       "    </tr>\n",
       "    <tr>\n",
       "      <th>21</th>\n",
       "      <td>268.448308</td>\n",
       "      <td>240.32</td>\n",
       "    </tr>\n",
       "    <tr>\n",
       "      <th>22</th>\n",
       "      <td>163.345677</td>\n",
       "      <td>148.92</td>\n",
       "    </tr>\n",
       "    <tr>\n",
       "      <th>23</th>\n",
       "      <td>52.950153</td>\n",
       "      <td>57.94</td>\n",
       "    </tr>\n",
       "    <tr>\n",
       "      <th>24</th>\n",
       "      <td>483.503762</td>\n",
       "      <td>474.60</td>\n",
       "    </tr>\n",
       "    <tr>\n",
       "      <th>25</th>\n",
       "      <td>472.284093</td>\n",
       "      <td>463.74</td>\n",
       "    </tr>\n",
       "    <tr>\n",
       "      <th>26</th>\n",
       "      <td>190.572117</td>\n",
       "      <td>191.12</td>\n",
       "    </tr>\n",
       "    <tr>\n",
       "      <th>27</th>\n",
       "      <td>245.875647</td>\n",
       "      <td>244.64</td>\n",
       "    </tr>\n",
       "    <tr>\n",
       "      <th>28</th>\n",
       "      <td>227.585824</td>\n",
       "      <td>204.78</td>\n",
       "    </tr>\n",
       "    <tr>\n",
       "      <th>29</th>\n",
       "      <td>274.096751</td>\n",
       "      <td>271.95</td>\n",
       "    </tr>\n",
       "    <tr>\n",
       "      <th>...</th>\n",
       "      <td>...</td>\n",
       "      <td>...</td>\n",
       "    </tr>\n",
       "    <tr>\n",
       "      <th>36572</th>\n",
       "      <td>94.422922</td>\n",
       "      <td>88.99</td>\n",
       "    </tr>\n",
       "    <tr>\n",
       "      <th>36573</th>\n",
       "      <td>53.476264</td>\n",
       "      <td>58.44</td>\n",
       "    </tr>\n",
       "    <tr>\n",
       "      <th>36574</th>\n",
       "      <td>428.421736</td>\n",
       "      <td>368.88</td>\n",
       "    </tr>\n",
       "    <tr>\n",
       "      <th>36575</th>\n",
       "      <td>139.059181</td>\n",
       "      <td>124.35</td>\n",
       "    </tr>\n",
       "    <tr>\n",
       "      <th>36576</th>\n",
       "      <td>482.751172</td>\n",
       "      <td>473.87</td>\n",
       "    </tr>\n",
       "    <tr>\n",
       "      <th>36577</th>\n",
       "      <td>421.367643</td>\n",
       "      <td>362.92</td>\n",
       "    </tr>\n",
       "    <tr>\n",
       "      <th>36578</th>\n",
       "      <td>13.332242</td>\n",
       "      <td>18.48</td>\n",
       "    </tr>\n",
       "    <tr>\n",
       "      <th>36579</th>\n",
       "      <td>183.269648</td>\n",
       "      <td>166.25</td>\n",
       "    </tr>\n",
       "    <tr>\n",
       "      <th>36580</th>\n",
       "      <td>468.922846</td>\n",
       "      <td>460.49</td>\n",
       "    </tr>\n",
       "    <tr>\n",
       "      <th>36581</th>\n",
       "      <td>464.127065</td>\n",
       "      <td>455.85</td>\n",
       "    </tr>\n",
       "    <tr>\n",
       "      <th>36582</th>\n",
       "      <td>446.411601</td>\n",
       "      <td>384.08</td>\n",
       "    </tr>\n",
       "    <tr>\n",
       "      <th>36583</th>\n",
       "      <td>60.046245</td>\n",
       "      <td>64.80</td>\n",
       "    </tr>\n",
       "    <tr>\n",
       "      <th>36584</th>\n",
       "      <td>280.878595</td>\n",
       "      <td>278.51</td>\n",
       "    </tr>\n",
       "    <tr>\n",
       "      <th>36585</th>\n",
       "      <td>326.035910</td>\n",
       "      <td>290.39</td>\n",
       "    </tr>\n",
       "    <tr>\n",
       "      <th>36586</th>\n",
       "      <td>211.735832</td>\n",
       "      <td>191.00</td>\n",
       "    </tr>\n",
       "    <tr>\n",
       "      <th>36587</th>\n",
       "      <td>141.935532</td>\n",
       "      <td>130.31</td>\n",
       "    </tr>\n",
       "    <tr>\n",
       "      <th>36588</th>\n",
       "      <td>288.077469</td>\n",
       "      <td>285.48</td>\n",
       "    </tr>\n",
       "    <tr>\n",
       "      <th>36589</th>\n",
       "      <td>252.259281</td>\n",
       "      <td>250.82</td>\n",
       "    </tr>\n",
       "    <tr>\n",
       "      <th>36590</th>\n",
       "      <td>105.640596</td>\n",
       "      <td>108.93</td>\n",
       "    </tr>\n",
       "    <tr>\n",
       "      <th>36591</th>\n",
       "      <td>472.870207</td>\n",
       "      <td>406.44</td>\n",
       "    </tr>\n",
       "    <tr>\n",
       "      <th>36592</th>\n",
       "      <td>141.625052</td>\n",
       "      <td>143.75</td>\n",
       "    </tr>\n",
       "    <tr>\n",
       "      <th>36593</th>\n",
       "      <td>13.742073</td>\n",
       "      <td>19.99</td>\n",
       "    </tr>\n",
       "    <tr>\n",
       "      <th>36594</th>\n",
       "      <td>64.039790</td>\n",
       "      <td>60.95</td>\n",
       "    </tr>\n",
       "    <tr>\n",
       "      <th>36595</th>\n",
       "      <td>166.060315</td>\n",
       "      <td>151.28</td>\n",
       "    </tr>\n",
       "    <tr>\n",
       "      <th>36596</th>\n",
       "      <td>188.952075</td>\n",
       "      <td>189.55</td>\n",
       "    </tr>\n",
       "    <tr>\n",
       "      <th>36597</th>\n",
       "      <td>212.100976</td>\n",
       "      <td>211.95</td>\n",
       "    </tr>\n",
       "    <tr>\n",
       "      <th>36598</th>\n",
       "      <td>356.764308</td>\n",
       "      <td>351.95</td>\n",
       "    </tr>\n",
       "    <tr>\n",
       "      <th>36599</th>\n",
       "      <td>234.693089</td>\n",
       "      <td>233.82</td>\n",
       "    </tr>\n",
       "    <tr>\n",
       "      <th>36600</th>\n",
       "      <td>261.849139</td>\n",
       "      <td>228.11</td>\n",
       "    </tr>\n",
       "    <tr>\n",
       "      <th>36601</th>\n",
       "      <td>239.940886</td>\n",
       "      <td>238.89</td>\n",
       "    </tr>\n",
       "  </tbody>\n",
       "</table>\n",
       "<p>36562 rows × 2 columns</p>\n",
       "</div>"
      ],
      "text/plain": [
       "       Journey Distance  Travel Time\n",
       "0            418.660032       411.85\n",
       "1             97.370189       100.92\n",
       "2            250.299910       224.54\n",
       "3            308.309599       274.98\n",
       "4            361.509730       321.24\n",
       "5             80.716718        75.04\n",
       "6            211.579932       211.45\n",
       "7            237.940275       207.91\n",
       "8            132.729189       119.00\n",
       "9            186.676940       169.21\n",
       "10           117.609903       120.51\n",
       "11           122.664520       125.40\n",
       "12           334.700444       297.93\n",
       "13            58.577724        63.38\n",
       "14           364.160217       314.57\n",
       "15           212.462851       191.63\n",
       "16           333.207315       288.41\n",
       "17            74.998089        79.27\n",
       "18           143.020636       145.10\n",
       "19           301.196989       261.36\n",
       "20            90.133948        85.26\n",
       "21           268.448308       240.32\n",
       "22           163.345677       148.92\n",
       "23            52.950153        57.94\n",
       "24           483.503762       474.60\n",
       "25           472.284093       463.74\n",
       "26           190.572117       191.12\n",
       "27           245.875647       244.64\n",
       "28           227.585824       204.78\n",
       "29           274.096751       271.95\n",
       "...                 ...          ...\n",
       "36572         94.422922        88.99\n",
       "36573         53.476264        58.44\n",
       "36574        428.421736       368.88\n",
       "36575        139.059181       124.35\n",
       "36576        482.751172       473.87\n",
       "36577        421.367643       362.92\n",
       "36578         13.332242        18.48\n",
       "36579        183.269648       166.25\n",
       "36580        468.922846       460.49\n",
       "36581        464.127065       455.85\n",
       "36582        446.411601       384.08\n",
       "36583         60.046245        64.80\n",
       "36584        280.878595       278.51\n",
       "36585        326.035910       290.39\n",
       "36586        211.735832       191.00\n",
       "36587        141.935532       130.31\n",
       "36588        288.077469       285.48\n",
       "36589        252.259281       250.82\n",
       "36590        105.640596       108.93\n",
       "36591        472.870207       406.44\n",
       "36592        141.625052       143.75\n",
       "36593         13.742073        19.99\n",
       "36594         64.039790        60.95\n",
       "36595        166.060315       151.28\n",
       "36596        188.952075       189.55\n",
       "36597        212.100976       211.95\n",
       "36598        356.764308       351.95\n",
       "36599        234.693089       233.82\n",
       "36600        261.849139       228.11\n",
       "36601        239.940886       238.89\n",
       "\n",
       "[36562 rows x 2 columns]"
      ]
     },
     "execution_count": 59,
     "metadata": {},
     "output_type": "execute_result"
    }
   ],
   "source": [
    "#linear fitting on dataframe\n",
    "lm_fitting_df = fix_tt2.copy()\n",
    "lm_fitting_df"
   ]
  },
  {
   "cell_type": "code",
   "execution_count": 60,
   "metadata": {},
   "outputs": [],
   "source": [
    "from sklearn.linear_model import LinearRegression\n",
    "lm_for_impute = LinearRegression()"
   ]
  },
  {
   "cell_type": "code",
   "execution_count": 61,
   "metadata": {},
   "outputs": [
    {
     "data": {
      "text/plain": [
       "LinearRegression(copy_X=True, fit_intercept=True, n_jobs=1, normalize=False)"
      ]
     },
     "execution_count": 61,
     "metadata": {},
     "output_type": "execute_result"
    }
   ],
   "source": [
    "lm_for_impute.fit(lm_fitting_df[[x for x in lm_fitting_df.columns if x != 'Travel Time']],lm_fitting_df['Travel Time']) "
   ]
  },
  {
   "cell_type": "code",
   "execution_count": 62,
   "metadata": {},
   "outputs": [
    {
     "data": {
      "text/plain": [
       "array([389.37778117,  95.75091605, 235.51342477, ..., 221.25034704,\n",
       "       246.06826789, 226.04631045])"
      ]
     },
     "execution_count": 62,
     "metadata": {},
     "output_type": "execute_result"
    }
   ],
   "source": [
    "lm_for_impute.predict(fix_tt.drop(['Travel Time'],axis=1))"
   ]
  },
  {
   "cell_type": "code",
   "execution_count": 63,
   "metadata": {},
   "outputs": [],
   "source": [
    "fix_tt['Travel Time'][fix_tt['Travel Time'].isnull()] = lm_for_impute.predict(fix_tt.drop(['Travel Time'],axis=1))"
   ]
  },
  {
   "cell_type": "code",
   "execution_count": 64,
   "metadata": {},
   "outputs": [
    {
     "data": {
      "text/plain": [
       "<matplotlib.axes._subplots.AxesSubplot at 0x17f07dd8>"
      ]
     },
     "execution_count": 64,
     "metadata": {},
     "output_type": "execute_result"
    },
    {
     "data": {
      "image/png": "[encoded data removed]",
      "text/plain": [
       "<Figure size 1080x720 with 1 Axes>"
      ]
     },
     "metadata": {},
     "output_type": "display_data"
    }
   ],
   "source": [
    "boxplot = pd.DataFrame({'imputed': fix_tt['Travel Time'],'full': main_df['Travel Time'],'dropped': fix_tt2['Travel Time']})\n",
    "boxplot.plot(kind='box')"
   ]
  },
  {
   "cell_type": "markdown",
   "metadata": {},
   "source": [
    "From the above boxplot we can observe that the length of the whiskers and the variance of the box is similar for all the boxplot."
   ]
  },
  {
   "cell_type": "code",
   "execution_count": 65,
   "metadata": {},
   "outputs": [],
   "source": [
    "main_df['Travel Time'] = fix_tt['Travel Time']"
   ]
  },
  {
   "cell_type": "code",
   "execution_count": 66,
   "metadata": {},
   "outputs": [
    {
     "data": {
      "text/plain": [
       "0"
      ]
     },
     "execution_count": 66,
     "metadata": {},
     "output_type": "execute_result"
    }
   ],
   "source": [
    "main_df['Travel Time'].isnull().sum()"
   ]
  },
  {
   "cell_type": "code",
   "execution_count": 67,
   "metadata": {},
   "outputs": [
    {
     "data": {
      "text/plain": [
       "<matplotlib.collections.PathCollection at 0x11f35c18>"
      ]
     },
     "execution_count": 67,
     "metadata": {},
     "output_type": "execute_result"
    },
    {
     "data": {
      "image/png": "[encoded data removed]",
      "text/plain": [
       "<Figure size 1080x720 with 1 Axes>"
      ]
     },
     "metadata": {},
     "output_type": "display_data"
    }
   ],
   "source": [
    "plt.scatter(main_df['Journey Distance'],main_df['Travel Time'])"
   ]
  },
  {
   "cell_type": "code",
   "execution_count": 68,
   "metadata": {},
   "outputs": [
    {
     "data": {
      "image/png": "[encoded data removed]",
      "text/plain": [
       "<Figure size 1080x720 with 1 Axes>"
      ]
     },
     "metadata": {},
     "output_type": "display_data"
    }
   ],
   "source": [
    "#Plotting between delivery fare and travel time\n",
    "main_df.plot(x='Delivery Fare', y='Travel Time', style='o')  \n",
    "plt.title('Travel Time vs Delivery Fare')  \n",
    "plt.xlabel('Travel Time')  \n",
    "plt.ylabel('Delivery Fare')  \n",
    "plt.show()  "
   ]
  },
  {
   "cell_type": "markdown",
   "metadata": {},
   "source": [
    "Here I have plotted scatterplot for my understanding to check how the relation is going on. After fixing travel time it is linearly postive but is not related with delivery fare. This is because yet Delivery fare has error values in it. There is a weak relatin between these two column."
   ]
  },
  {
   "cell_type": "code",
   "execution_count": null,
   "metadata": {},
   "outputs": [],
   "source": []
  },
  {
   "cell_type": "markdown",
   "metadata": {},
   "source": [
    "### 5.8 Fixing ID column"
   ]
  },
  {
   "cell_type": "markdown",
   "metadata": {},
   "source": [
    "ID column is fixed by dropping th NaN rows as they are just duplicates of the other rows. There for just drop the rows"
   ]
  },
  {
   "cell_type": "code",
   "execution_count": 69,
   "metadata": {},
   "outputs": [
    {
     "data": {
      "text/plain": [
       "NaN             22\n",
       "ID1188036398     2\n",
       "ID1886293632     2\n",
       "ID1852336779     2\n",
       "ID1793563091     2\n",
       "ID1191734100     2\n",
       "ID5901653379     2\n",
       "ID1256357508     2\n",
       "ID1316204931     2\n",
       "ID5857862460     2\n",
       "ID1557022514     2\n",
       "ID1810551572     2\n",
       "ID1828425470     2\n",
       "ID5112435502     2\n",
       "ID1800298976     2\n",
       "ID5561795077     2\n",
       "ID1919260200     2\n",
       "ID1355483588     2\n",
       "ID1364050553     2\n",
       "ID1990915307     2\n",
       "ID1764154590     2\n",
       "ID1642265037     2\n",
       "ID1627252691     2\n",
       "ID5692195072     2\n",
       "ID1547270099     2\n",
       "ID1187402609     2\n",
       "ID5214462835     2\n",
       "ID1595558126     2\n",
       "ID1411992435     2\n",
       "ID1875344441     2\n",
       "                ..\n",
       "ID1869383152     1\n",
       "ID1478272568     1\n",
       "ID5245768181     1\n",
       "ID1761066209     1\n",
       "ID5560849739     1\n",
       "ID1462433406     1\n",
       "ID1759372072     1\n",
       "ID1470272527     1\n",
       "ID1379905319     1\n",
       "ID1397315320     1\n",
       "ID1609131879     1\n",
       "ID1367126248     1\n",
       "ID5654794223     1\n",
       "ID1870716656     1\n",
       "ID1360330130     1\n",
       "ID5423874736     1\n",
       "ID5700541948     1\n",
       "ID5945771616     1\n",
       "ID1504852100     1\n",
       "ID1724939005     1\n",
       "ID1810351508     1\n",
       "ID5692488178     1\n",
       "ID1611521010     1\n",
       "ID1237422779     1\n",
       "ID1974468695     1\n",
       "ID5850655646     1\n",
       "ID1120274574     1\n",
       "ID5436089045     1\n",
       "ID1888882590     1\n",
       "ID1852172159     1\n",
       "Name: Id, Length: 36543, dtype: int64"
      ]
     },
     "execution_count": 69,
     "metadata": {},
     "output_type": "execute_result"
    }
   ],
   "source": [
    "#frequency count of ID's\n",
    "#using dropna=False , it also counts the missing values\n",
    "#there are 38 duplicate ID's\n",
    "main_df.Id.value_counts(dropna = False)"
   ]
  },
  {
   "cell_type": "code",
   "execution_count": 70,
   "metadata": {},
   "outputs": [],
   "source": [
    "#Removing the NAN from the Id column\n",
    "main_df.dropna(subset=['Id'],inplace=True)"
   ]
  },
  {
   "cell_type": "code",
   "execution_count": 71,
   "metadata": {},
   "outputs": [
    {
     "data": {
      "text/plain": [
       "0"
      ]
     },
     "execution_count": 71,
     "metadata": {},
     "output_type": "execute_result"
    }
   ],
   "source": [
    "#Checking if the NaN Id's are removed \n",
    "main_df['Id'].isnull().sum()"
   ]
  },
  {
   "cell_type": "code",
   "execution_count": 72,
   "metadata": {},
   "outputs": [
    {
     "data": {
      "text/plain": [
       "76"
      ]
     },
     "execution_count": 72,
     "metadata": {},
     "output_type": "execute_result"
    }
   ],
   "source": [
    "#Number of duplicate ID's\n",
    "main_df.Id.duplicated(keep=False).sum()"
   ]
  },
  {
   "cell_type": "code",
   "execution_count": null,
   "metadata": {},
   "outputs": [],
   "source": []
  },
  {
   "cell_type": "code",
   "execution_count": null,
   "metadata": {},
   "outputs": [],
   "source": []
  },
  {
   "cell_type": "code",
   "execution_count": null,
   "metadata": {},
   "outputs": [],
   "source": []
  },
  {
   "cell_type": "markdown",
   "metadata": {},
   "source": [
    "### 5.9: Fixing Drone Type"
   ]
  },
  {
   "cell_type": "markdown",
   "metadata": {},
   "source": [
    "Here i am trying to fix the drone type by calculating the speed using speed formula that is journey distance by travel time. After calculating the speed then mean of speed and mean of each drone type is fetched."
   ]
  },
  {
   "cell_type": "code",
   "execution_count": 73,
   "metadata": {},
   "outputs": [
    {
     "data": {
      "text/html": [
       "<div>\n",
       "<style scoped>\n",
       "    .dataframe tbody tr th:only-of-type {\n",
       "        vertical-align: middle;\n",
       "    }\n",
       "\n",
       "    .dataframe tbody tr th {\n",
       "        vertical-align: top;\n",
       "    }\n",
       "\n",
       "    .dataframe thead th {\n",
       "        text-align: right;\n",
       "    }\n",
       "</style>\n",
       "<table border=\"1\" class=\"dataframe\">\n",
       "  <thead>\n",
       "    <tr style=\"text-align: right;\">\n",
       "      <th></th>\n",
       "      <th>Id</th>\n",
       "      <th>Drone Type</th>\n",
       "      <th>Post Type</th>\n",
       "      <th>Package Weight</th>\n",
       "      <th>Origin Region</th>\n",
       "      <th>Destination Region</th>\n",
       "      <th>Origin Latitude</th>\n",
       "      <th>Origin Longitude</th>\n",
       "      <th>Destination Latitude</th>\n",
       "      <th>Destination Longitude</th>\n",
       "      <th>Journey Distance</th>\n",
       "      <th>Departure Date</th>\n",
       "      <th>Departure Time</th>\n",
       "      <th>Travel Time</th>\n",
       "      <th>Delivery Time</th>\n",
       "      <th>Delivery Fare</th>\n",
       "    </tr>\n",
       "  </thead>\n",
       "  <tbody>\n",
       "    <tr>\n",
       "      <th>4097</th>\n",
       "      <td>ID1632330400</td>\n",
       "      <td>NaN</td>\n",
       "      <td>0.0</td>\n",
       "      <td>19.033</td>\n",
       "      <td>1.0</td>\n",
       "      <td>34.0</td>\n",
       "      <td>-37.581005</td>\n",
       "      <td>145.468451</td>\n",
       "      <td>-38.547776</td>\n",
       "      <td>146.946002</td>\n",
       "      <td>168.372502</td>\n",
       "      <td>2018-04-28</td>\n",
       "      <td>22:54:04</td>\n",
       "      <td>153.29</td>\n",
       "      <td>1:27:21</td>\n",
       "      <td>139.97</td>\n",
       "    </tr>\n",
       "    <tr>\n",
       "      <th>8194</th>\n",
       "      <td>ID5468935282</td>\n",
       "      <td>NaN</td>\n",
       "      <td>1.0</td>\n",
       "      <td>36.590</td>\n",
       "      <td>45.0</td>\n",
       "      <td>19.0</td>\n",
       "      <td>-37.537543</td>\n",
       "      <td>148.019271</td>\n",
       "      <td>-38.599799</td>\n",
       "      <td>147.464461</td>\n",
       "      <td>127.852558</td>\n",
       "      <td>2018-06-12</td>\n",
       "      <td>10:51:56</td>\n",
       "      <td>130.42</td>\n",
       "      <td>13:02:21</td>\n",
       "      <td>115.97</td>\n",
       "    </tr>\n",
       "    <tr>\n",
       "      <th>8198</th>\n",
       "      <td>ID5479857745</td>\n",
       "      <td>NaN</td>\n",
       "      <td>1.0</td>\n",
       "      <td>7.406</td>\n",
       "      <td>14.0</td>\n",
       "      <td>40.0</td>\n",
       "      <td>-38.830398</td>\n",
       "      <td>143.476092</td>\n",
       "      <td>-38.547752</td>\n",
       "      <td>143.045128</td>\n",
       "      <td>48.909293</td>\n",
       "      <td>2018-05-26</td>\n",
       "      <td>17:50:46</td>\n",
       "      <td>54.03</td>\n",
       "      <td>18:44:47</td>\n",
       "      <td>121.32</td>\n",
       "    </tr>\n",
       "    <tr>\n",
       "      <th>10093</th>\n",
       "      <td>ID1779769807</td>\n",
       "      <td>NaN</td>\n",
       "      <td>0.0</td>\n",
       "      <td>38.621</td>\n",
       "      <td>28.0</td>\n",
       "      <td>3.0</td>\n",
       "      <td>-38.493716</td>\n",
       "      <td>143.641622</td>\n",
       "      <td>-37.642118</td>\n",
       "      <td>144.172774</td>\n",
       "      <td>105.608822</td>\n",
       "      <td>2018-07-28</td>\n",
       "      <td>03:43:04</td>\n",
       "      <td>98.72</td>\n",
       "      <td>5:21:47</td>\n",
       "      <td>133.25</td>\n",
       "    </tr>\n",
       "    <tr>\n",
       "      <th>10244</th>\n",
       "      <td>ID1957990234</td>\n",
       "      <td>NaN</td>\n",
       "      <td>0.0</td>\n",
       "      <td>7.921</td>\n",
       "      <td>12.0</td>\n",
       "      <td>6.0</td>\n",
       "      <td>-37.843164</td>\n",
       "      <td>146.767207</td>\n",
       "      <td>-36.601812</td>\n",
       "      <td>146.063977</td>\n",
       "      <td>151.591395</td>\n",
       "      <td>2018-01-11</td>\n",
       "      <td>14:23:51</td>\n",
       "      <td>138.70</td>\n",
       "      <td>16:42:32</td>\n",
       "      <td>112.29</td>\n",
       "    </tr>\n",
       "    <tr>\n",
       "      <th>11606</th>\n",
       "      <td>ID1223748479</td>\n",
       "      <td>NaN</td>\n",
       "      <td>0.0</td>\n",
       "      <td>19.526</td>\n",
       "      <td>13.0</td>\n",
       "      <td>39.0</td>\n",
       "      <td>-37.401633</td>\n",
       "      <td>144.634268</td>\n",
       "      <td>-36.693700</td>\n",
       "      <td>143.464309</td>\n",
       "      <td>130.439783</td>\n",
       "      <td>2018-06-18</td>\n",
       "      <td>07:36:41</td>\n",
       "      <td>132.93</td>\n",
       "      <td>9:49:36</td>\n",
       "      <td>77.59</td>\n",
       "    </tr>\n",
       "    <tr>\n",
       "      <th>18445</th>\n",
       "      <td>ID5306752673</td>\n",
       "      <td>NaN</td>\n",
       "      <td>1.0</td>\n",
       "      <td>25.725</td>\n",
       "      <td>47.0</td>\n",
       "      <td>45.0</td>\n",
       "      <td>-38.309157</td>\n",
       "      <td>144.921220</td>\n",
       "      <td>-37.609055</td>\n",
       "      <td>148.013418</td>\n",
       "      <td>282.347319</td>\n",
       "      <td>2018-06-03</td>\n",
       "      <td>05:44:36</td>\n",
       "      <td>252.40</td>\n",
       "      <td>9:57:00</td>\n",
       "      <td>187.16</td>\n",
       "    </tr>\n",
       "    <tr>\n",
       "      <th>22542</th>\n",
       "      <td>ID5948978963</td>\n",
       "      <td>NaN</td>\n",
       "      <td>1.0</td>\n",
       "      <td>21.883</td>\n",
       "      <td>45.0</td>\n",
       "      <td>41.0</td>\n",
       "      <td>-37.618464</td>\n",
       "      <td>148.100312</td>\n",
       "      <td>-38.036507</td>\n",
       "      <td>144.976515</td>\n",
       "      <td>278.559940</td>\n",
       "      <td>2018-06-09</td>\n",
       "      <td>22:53:55</td>\n",
       "      <td>276.27</td>\n",
       "      <td>3:30:11</td>\n",
       "      <td>154.63</td>\n",
       "    </tr>\n",
       "    <tr>\n",
       "      <th>28682</th>\n",
       "      <td>ID1575057434</td>\n",
       "      <td>NaN</td>\n",
       "      <td>0.0</td>\n",
       "      <td>41.513</td>\n",
       "      <td>37.0</td>\n",
       "      <td>43.0</td>\n",
       "      <td>-38.743422</td>\n",
       "      <td>142.809079</td>\n",
       "      <td>-36.731993</td>\n",
       "      <td>146.917006</td>\n",
       "      <td>425.265549</td>\n",
       "      <td>2018-02-27</td>\n",
       "      <td>19:58:10</td>\n",
       "      <td>418.24</td>\n",
       "      <td>2:56:24</td>\n",
       "      <td>107.08</td>\n",
       "    </tr>\n",
       "    <tr>\n",
       "      <th>32783</th>\n",
       "      <td>ID1711547395</td>\n",
       "      <td>NaN</td>\n",
       "      <td>0.0</td>\n",
       "      <td>25.767</td>\n",
       "      <td>25.0</td>\n",
       "      <td>20.0</td>\n",
       "      <td>-38.034362</td>\n",
       "      <td>148.134466</td>\n",
       "      <td>-36.693657</td>\n",
       "      <td>147.743389</td>\n",
       "      <td>153.201261</td>\n",
       "      <td>2018-01-13</td>\n",
       "      <td>11:50:12</td>\n",
       "      <td>154.95</td>\n",
       "      <td>14:25:08</td>\n",
       "      <td>79.45</td>\n",
       "    </tr>\n",
       "  </tbody>\n",
       "</table>\n",
       "</div>"
      ],
      "text/plain": [
       "                 Id  Drone Type  Post Type  Package Weight  Origin Region  \\\n",
       "4097   ID1632330400         NaN        0.0          19.033            1.0   \n",
       "8194   ID5468935282         NaN        1.0          36.590           45.0   \n",
       "8198   ID5479857745         NaN        1.0           7.406           14.0   \n",
       "10093  ID1779769807         NaN        0.0          38.621           28.0   \n",
       "10244  ID1957990234         NaN        0.0           7.921           12.0   \n",
       "11606  ID1223748479         NaN        0.0          19.526           13.0   \n",
       "18445  ID5306752673         NaN        1.0          25.725           47.0   \n",
       "22542  ID5948978963         NaN        1.0          21.883           45.0   \n",
       "28682  ID1575057434         NaN        0.0          41.513           37.0   \n",
       "32783  ID1711547395         NaN        0.0          25.767           25.0   \n",
       "\n",
       "       Destination Region  Origin Latitude  Origin Longitude  \\\n",
       "4097                 34.0       -37.581005        145.468451   \n",
       "8194                 19.0       -37.537543        148.019271   \n",
       "8198                 40.0       -38.830398        143.476092   \n",
       "10093                 3.0       -38.493716        143.641622   \n",
       "10244                 6.0       -37.843164        146.767207   \n",
       "11606                39.0       -37.401633        144.634268   \n",
       "18445                45.0       -38.309157        144.921220   \n",
       "22542                41.0       -37.618464        148.100312   \n",
       "28682                43.0       -38.743422        142.809079   \n",
       "32783                20.0       -38.034362        148.134466   \n",
       "\n",
       "       Destination Latitude  Destination Longitude  Journey Distance  \\\n",
       "4097             -38.547776             146.946002        168.372502   \n",
       "8194             -38.599799             147.464461        127.852558   \n",
       "8198             -38.547752             143.045128         48.909293   \n",
       "10093            -37.642118             144.172774        105.608822   \n",
       "10244            -36.601812             146.063977        151.591395   \n",
       "11606            -36.693700             143.464309        130.439783   \n",
       "18445            -37.609055             148.013418        282.347319   \n",
       "22542            -38.036507             144.976515        278.559940   \n",
       "28682            -36.731993             146.917006        425.265549   \n",
       "32783            -36.693657             147.743389        153.201261   \n",
       "\n",
       "      Departure Date Departure Time  Travel Time Delivery Time  Delivery Fare  \n",
       "4097      2018-04-28       22:54:04       153.29       1:27:21         139.97  \n",
       "8194      2018-06-12       10:51:56       130.42      13:02:21         115.97  \n",
       "8198      2018-05-26       17:50:46        54.03      18:44:47         121.32  \n",
       "10093     2018-07-28       03:43:04        98.72       5:21:47         133.25  \n",
       "10244     2018-01-11       14:23:51       138.70      16:42:32         112.29  \n",
       "11606     2018-06-18       07:36:41       132.93       9:49:36          77.59  \n",
       "18445     2018-06-03       05:44:36       252.40       9:57:00         187.16  \n",
       "22542     2018-06-09       22:53:55       276.27       3:30:11         154.63  \n",
       "28682     2018-02-27       19:58:10       418.24       2:56:24         107.08  \n",
       "32783     2018-01-13       11:50:12       154.95      14:25:08          79.45  "
      ]
     },
     "execution_count": 73,
     "metadata": {},
     "output_type": "execute_result"
    }
   ],
   "source": [
    "#getting the null values of drone type column\n",
    "drone_null = main_df[main_df['Drone Type'].isnull()]\n",
    "drone_null"
   ]
  },
  {
   "cell_type": "markdown",
   "metadata": {},
   "source": [
    "### Detecting Outlier"
   ]
  },
  {
   "cell_type": "code",
   "execution_count": 74,
   "metadata": {},
   "outputs": [
    {
     "data": {
      "text/html": [
       "<div>\n",
       "<style scoped>\n",
       "    .dataframe tbody tr th:only-of-type {\n",
       "        vertical-align: middle;\n",
       "    }\n",
       "\n",
       "    .dataframe tbody tr th {\n",
       "        vertical-align: top;\n",
       "    }\n",
       "\n",
       "    .dataframe thead th {\n",
       "        text-align: right;\n",
       "    }\n",
       "</style>\n",
       "<table border=\"1\" class=\"dataframe\">\n",
       "  <thead>\n",
       "    <tr style=\"text-align: right;\">\n",
       "      <th></th>\n",
       "      <th>Id</th>\n",
       "      <th>Drone Type</th>\n",
       "      <th>Post Type</th>\n",
       "      <th>Package Weight</th>\n",
       "      <th>Origin Region</th>\n",
       "      <th>Destination Region</th>\n",
       "      <th>Origin Latitude</th>\n",
       "      <th>Origin Longitude</th>\n",
       "      <th>Destination Latitude</th>\n",
       "      <th>Destination Longitude</th>\n",
       "      <th>Journey Distance</th>\n",
       "      <th>Departure Date</th>\n",
       "      <th>Departure Time</th>\n",
       "      <th>Travel Time</th>\n",
       "      <th>Delivery Time</th>\n",
       "      <th>Delivery Fare</th>\n",
       "    </tr>\n",
       "  </thead>\n",
       "  <tbody>\n",
       "    <tr>\n",
       "      <th>2275</th>\n",
       "      <td>ID5607710111</td>\n",
       "      <td>1.0</td>\n",
       "      <td>1.0</td>\n",
       "      <td>49.041</td>\n",
       "      <td>33.0</td>\n",
       "      <td>31.0</td>\n",
       "      <td>-38.017256</td>\n",
       "      <td>142.946560</td>\n",
       "      <td>-37.109871</td>\n",
       "      <td>148.345299</td>\n",
       "      <td>486.890071</td>\n",
       "      <td>2018-01-19</td>\n",
       "      <td>05:10:13</td>\n",
       "      <td>477.88</td>\n",
       "      <td>13:08:05</td>\n",
       "      <td>1153.62</td>\n",
       "    </tr>\n",
       "    <tr>\n",
       "      <th>4149</th>\n",
       "      <td>ID5932717914</td>\n",
       "      <td>1.0</td>\n",
       "      <td>1.0</td>\n",
       "      <td>51.520</td>\n",
       "      <td>45.0</td>\n",
       "      <td>5.0</td>\n",
       "      <td>-37.525085</td>\n",
       "      <td>148.091446</td>\n",
       "      <td>-37.347859</td>\n",
       "      <td>142.828248</td>\n",
       "      <td>465.565363</td>\n",
       "      <td>2018-07-01</td>\n",
       "      <td>18:43:33</td>\n",
       "      <td>457.24</td>\n",
       "      <td>2:20:47</td>\n",
       "      <td>1151.55</td>\n",
       "    </tr>\n",
       "    <tr>\n",
       "      <th>4350</th>\n",
       "      <td>ID1427270428</td>\n",
       "      <td>3.0</td>\n",
       "      <td>0.0</td>\n",
       "      <td>51.232</td>\n",
       "      <td>14.0</td>\n",
       "      <td>31.0</td>\n",
       "      <td>-38.908120</td>\n",
       "      <td>143.313832</td>\n",
       "      <td>-37.142722</td>\n",
       "      <td>148.384476</td>\n",
       "      <td>486.034226</td>\n",
       "      <td>2018-02-13</td>\n",
       "      <td>07:51:12</td>\n",
       "      <td>417.56</td>\n",
       "      <td>14:48:45</td>\n",
       "      <td>1210.46</td>\n",
       "    </tr>\n",
       "    <tr>\n",
       "      <th>7700</th>\n",
       "      <td>ID1170728706</td>\n",
       "      <td>2.0</td>\n",
       "      <td>0.0</td>\n",
       "      <td>51.832</td>\n",
       "      <td>20.0</td>\n",
       "      <td>33.0</td>\n",
       "      <td>-36.600650</td>\n",
       "      <td>147.764034</td>\n",
       "      <td>-37.923795</td>\n",
       "      <td>142.967280</td>\n",
       "      <td>449.698166</td>\n",
       "      <td>2018-05-13</td>\n",
       "      <td>06:54:49</td>\n",
       "      <td>397.93</td>\n",
       "      <td>13:32:44</td>\n",
       "      <td>1104.40</td>\n",
       "    </tr>\n",
       "    <tr>\n",
       "      <th>7808</th>\n",
       "      <td>ID1888409932</td>\n",
       "      <td>3.0</td>\n",
       "      <td>0.0</td>\n",
       "      <td>49.928</td>\n",
       "      <td>5.0</td>\n",
       "      <td>35.0</td>\n",
       "      <td>-37.549712</td>\n",
       "      <td>143.034471</td>\n",
       "      <td>-38.911234</td>\n",
       "      <td>148.057433</td>\n",
       "      <td>464.556363</td>\n",
       "      <td>2018-06-20</td>\n",
       "      <td>20:09:24</td>\n",
       "      <td>399.41</td>\n",
       "      <td>2:48:48</td>\n",
       "      <td>1145.39</td>\n",
       "    </tr>\n",
       "    <tr>\n",
       "      <th>11074</th>\n",
       "      <td>ID1251160464</td>\n",
       "      <td>1.0</td>\n",
       "      <td>0.0</td>\n",
       "      <td>51.896</td>\n",
       "      <td>35.0</td>\n",
       "      <td>39.0</td>\n",
       "      <td>-38.973443</td>\n",
       "      <td>147.995296</td>\n",
       "      <td>-36.724031</td>\n",
       "      <td>143.614786</td>\n",
       "      <td>459.215050</td>\n",
       "      <td>2018-02-13</td>\n",
       "      <td>05:29:47</td>\n",
       "      <td>451.10</td>\n",
       "      <td>13:00:53</td>\n",
       "      <td>1120.55</td>\n",
       "    </tr>\n",
       "    <tr>\n",
       "      <th>11328</th>\n",
       "      <td>ID5280122744</td>\n",
       "      <td>1.0</td>\n",
       "      <td>1.0</td>\n",
       "      <td>53.358</td>\n",
       "      <td>32.0</td>\n",
       "      <td>40.0</td>\n",
       "      <td>-38.437753</td>\n",
       "      <td>148.311135</td>\n",
       "      <td>-38.395874</td>\n",
       "      <td>142.997953</td>\n",
       "      <td>463.365366</td>\n",
       "      <td>2018-07-14</td>\n",
       "      <td>01:03:39</td>\n",
       "      <td>455.11</td>\n",
       "      <td>8:38:45</td>\n",
       "      <td>1198.45</td>\n",
       "    </tr>\n",
       "    <tr>\n",
       "      <th>15406</th>\n",
       "      <td>ID1605393002</td>\n",
       "      <td>1.0</td>\n",
       "      <td>0.0</td>\n",
       "      <td>53.188</td>\n",
       "      <td>32.0</td>\n",
       "      <td>40.0</td>\n",
       "      <td>-38.558357</td>\n",
       "      <td>148.294421</td>\n",
       "      <td>-38.611760</td>\n",
       "      <td>143.141312</td>\n",
       "      <td>448.376784</td>\n",
       "      <td>2018-05-12</td>\n",
       "      <td>19:25:51</td>\n",
       "      <td>440.61</td>\n",
       "      <td>2:46:27</td>\n",
       "      <td>1104.25</td>\n",
       "    </tr>\n",
       "    <tr>\n",
       "      <th>19212</th>\n",
       "      <td>ID1711699004</td>\n",
       "      <td>2.0</td>\n",
       "      <td>0.0</td>\n",
       "      <td>53.620</td>\n",
       "      <td>43.0</td>\n",
       "      <td>37.0</td>\n",
       "      <td>-36.566851</td>\n",
       "      <td>146.836053</td>\n",
       "      <td>-38.789212</td>\n",
       "      <td>142.780408</td>\n",
       "      <td>434.521217</td>\n",
       "      <td>2018-01-03</td>\n",
       "      <td>10:26:40</td>\n",
       "      <td>384.73</td>\n",
       "      <td>16:51:23</td>\n",
       "      <td>1103.33</td>\n",
       "    </tr>\n",
       "    <tr>\n",
       "      <th>19987</th>\n",
       "      <td>ID1148957687</td>\n",
       "      <td>3.0</td>\n",
       "      <td>0.0</td>\n",
       "      <td>50.949</td>\n",
       "      <td>39.0</td>\n",
       "      <td>25.0</td>\n",
       "      <td>-36.724214</td>\n",
       "      <td>143.412805</td>\n",
       "      <td>-38.040613</td>\n",
       "      <td>148.145029</td>\n",
       "      <td>443.421723</td>\n",
       "      <td>2018-02-24</td>\n",
       "      <td>11:10:08</td>\n",
       "      <td>381.55</td>\n",
       "      <td>17:31:41</td>\n",
       "      <td>1105.17</td>\n",
       "    </tr>\n",
       "    <tr>\n",
       "      <th>25208</th>\n",
       "      <td>ID5950805256</td>\n",
       "      <td>1.0</td>\n",
       "      <td>1.0</td>\n",
       "      <td>53.359</td>\n",
       "      <td>40.0</td>\n",
       "      <td>45.0</td>\n",
       "      <td>-38.387937</td>\n",
       "      <td>143.165262</td>\n",
       "      <td>-37.473881</td>\n",
       "      <td>147.963716</td>\n",
       "      <td>433.367221</td>\n",
       "      <td>2018-02-18</td>\n",
       "      <td>23:32:56</td>\n",
       "      <td>426.08</td>\n",
       "      <td>6:39:00</td>\n",
       "      <td>1123.45</td>\n",
       "    </tr>\n",
       "    <tr>\n",
       "      <th>25613</th>\n",
       "      <td>ID1514650411</td>\n",
       "      <td>1.0</td>\n",
       "      <td>0.0</td>\n",
       "      <td>51.636</td>\n",
       "      <td>42.0</td>\n",
       "      <td>28.0</td>\n",
       "      <td>-36.563068</td>\n",
       "      <td>148.264508</td>\n",
       "      <td>-38.553743</td>\n",
       "      <td>143.444566</td>\n",
       "      <td>479.503729</td>\n",
       "      <td>2018-07-14</td>\n",
       "      <td>09:38:03</td>\n",
       "      <td>470.73</td>\n",
       "      <td>17:28:46</td>\n",
       "      <td>1135.47</td>\n",
       "    </tr>\n",
       "    <tr>\n",
       "      <th>25624</th>\n",
       "      <td>ID1180400761</td>\n",
       "      <td>3.0</td>\n",
       "      <td>0.0</td>\n",
       "      <td>52.469</td>\n",
       "      <td>5.0</td>\n",
       "      <td>42.0</td>\n",
       "      <td>-37.435790</td>\n",
       "      <td>142.850482</td>\n",
       "      <td>-36.643963</td>\n",
       "      <td>148.162473</td>\n",
       "      <td>480.087171</td>\n",
       "      <td>2018-07-14</td>\n",
       "      <td>19:52:07</td>\n",
       "      <td>412.54</td>\n",
       "      <td>2:44:39</td>\n",
       "      <td>1234.76</td>\n",
       "    </tr>\n",
       "    <tr>\n",
       "      <th>29498</th>\n",
       "      <td>ID1611533484</td>\n",
       "      <td>2.0</td>\n",
       "      <td>0.0</td>\n",
       "      <td>53.953</td>\n",
       "      <td>39.0</td>\n",
       "      <td>32.0</td>\n",
       "      <td>-36.615270</td>\n",
       "      <td>143.585315</td>\n",
       "      <td>-38.610676</td>\n",
       "      <td>148.277545</td>\n",
       "      <td>469.524012</td>\n",
       "      <td>2018-03-14</td>\n",
       "      <td>16:22:12</td>\n",
       "      <td>415.17</td>\n",
       "      <td>23:17:22</td>\n",
       "      <td>1209.62</td>\n",
       "    </tr>\n",
       "    <tr>\n",
       "      <th>29898</th>\n",
       "      <td>ID5256122045</td>\n",
       "      <td>1.0</td>\n",
       "      <td>1.0</td>\n",
       "      <td>53.940</td>\n",
       "      <td>33.0</td>\n",
       "      <td>20.0</td>\n",
       "      <td>-38.046173</td>\n",
       "      <td>142.929120</td>\n",
       "      <td>-36.573892</td>\n",
       "      <td>147.762675</td>\n",
       "      <td>458.188064</td>\n",
       "      <td>2018-02-04</td>\n",
       "      <td>08:32:20</td>\n",
       "      <td>450.10</td>\n",
       "      <td>16:02:26</td>\n",
       "      <td>1175.30</td>\n",
       "    </tr>\n",
       "  </tbody>\n",
       "</table>\n",
       "</div>"
      ],
      "text/plain": [
       "                 Id  Drone Type  Post Type  Package Weight  Origin Region  \\\n",
       "2275   ID5607710111         1.0        1.0          49.041           33.0   \n",
       "4149   ID5932717914         1.0        1.0          51.520           45.0   \n",
       "4350   ID1427270428         3.0        0.0          51.232           14.0   \n",
       "7700   ID1170728706         2.0        0.0          51.832           20.0   \n",
       "7808   ID1888409932         3.0        0.0          49.928            5.0   \n",
       "11074  ID1251160464         1.0        0.0          51.896           35.0   \n",
       "11328  ID5280122744         1.0        1.0          53.358           32.0   \n",
       "15406  ID1605393002         1.0        0.0          53.188           32.0   \n",
       "19212  ID1711699004         2.0        0.0          53.620           43.0   \n",
       "19987  ID1148957687         3.0        0.0          50.949           39.0   \n",
       "25208  ID5950805256         1.0        1.0          53.359           40.0   \n",
       "25613  ID1514650411         1.0        0.0          51.636           42.0   \n",
       "25624  ID1180400761         3.0        0.0          52.469            5.0   \n",
       "29498  ID1611533484         2.0        0.0          53.953           39.0   \n",
       "29898  ID5256122045         1.0        1.0          53.940           33.0   \n",
       "\n",
       "       Destination Region  Origin Latitude  Origin Longitude  \\\n",
       "2275                 31.0       -38.017256        142.946560   \n",
       "4149                  5.0       -37.525085        148.091446   \n",
       "4350                 31.0       -38.908120        143.313832   \n",
       "7700                 33.0       -36.600650        147.764034   \n",
       "7808                 35.0       -37.549712        143.034471   \n",
       "11074                39.0       -38.973443        147.995296   \n",
       "11328                40.0       -38.437753        148.311135   \n",
       "15406                40.0       -38.558357        148.294421   \n",
       "19212                37.0       -36.566851        146.836053   \n",
       "19987                25.0       -36.724214        143.412805   \n",
       "25208                45.0       -38.387937        143.165262   \n",
       "25613                28.0       -36.563068        148.264508   \n",
       "25624                42.0       -37.435790        142.850482   \n",
       "29498                32.0       -36.615270        143.585315   \n",
       "29898                20.0       -38.046173        142.929120   \n",
       "\n",
       "       Destination Latitude  Destination Longitude  Journey Distance  \\\n",
       "2275             -37.109871             148.345299        486.890071   \n",
       "4149             -37.347859             142.828248        465.565363   \n",
       "4350             -37.142722             148.384476        486.034226   \n",
       "7700             -37.923795             142.967280        449.698166   \n",
       "7808             -38.911234             148.057433        464.556363   \n",
       "11074            -36.724031             143.614786        459.215050   \n",
       "11328            -38.395874             142.997953        463.365366   \n",
       "15406            -38.611760             143.141312        448.376784   \n",
       "19212            -38.789212             142.780408        434.521217   \n",
       "19987            -38.040613             148.145029        443.421723   \n",
       "25208            -37.473881             147.963716        433.367221   \n",
       "25613            -38.553743             143.444566        479.503729   \n",
       "25624            -36.643963             148.162473        480.087171   \n",
       "29498            -38.610676             148.277545        469.524012   \n",
       "29898            -36.573892             147.762675        458.188064   \n",
       "\n",
       "      Departure Date Departure Time  Travel Time Delivery Time  Delivery Fare  \n",
       "2275      2018-01-19       05:10:13       477.88      13:08:05        1153.62  \n",
       "4149      2018-07-01       18:43:33       457.24       2:20:47        1151.55  \n",
       "4350      2018-02-13       07:51:12       417.56      14:48:45        1210.46  \n",
       "7700      2018-05-13       06:54:49       397.93      13:32:44        1104.40  \n",
       "7808      2018-06-20       20:09:24       399.41       2:48:48        1145.39  \n",
       "11074     2018-02-13       05:29:47       451.10      13:00:53        1120.55  \n",
       "11328     2018-07-14       01:03:39       455.11       8:38:45        1198.45  \n",
       "15406     2018-05-12       19:25:51       440.61       2:46:27        1104.25  \n",
       "19212     2018-01-03       10:26:40       384.73      16:51:23        1103.33  \n",
       "19987     2018-02-24       11:10:08       381.55      17:31:41        1105.17  \n",
       "25208     2018-02-18       23:32:56       426.08       6:39:00        1123.45  \n",
       "25613     2018-07-14       09:38:03       470.73      17:28:46        1135.47  \n",
       "25624     2018-07-14       19:52:07       412.54       2:44:39        1234.76  \n",
       "29498     2018-03-14       16:22:12       415.17      23:17:22        1209.62  \n",
       "29898     2018-02-04       08:32:20       450.10      16:02:26        1175.30  "
      ]
     },
     "execution_count": 74,
     "metadata": {},
     "output_type": "execute_result"
    }
   ],
   "source": [
    "main_df[main_df['Delivery Fare']>1100]"
   ]
  },
  {
   "cell_type": "markdown",
   "metadata": {},
   "source": [
    "From above rows we can observe that the delivery fare which are greater than 1000 has package weight around 50 kgs and the journey distance is between 400-500 km but the travel time varies between the columns. There are also 2 hours travel time and 23 hours travel time for the same distance . So we can assume these values are incorrect."
   ]
  },
  {
   "cell_type": "markdown",
   "metadata": {},
   "source": [
    "### 5.9 : Departure  Time and Delivery Time"
   ]
  },
  {
   "cell_type": "markdown",
   "metadata": {},
   "source": [
    "Checking the departure time and delivery column. As there are no missing values in the columns I am just checking the format of the time. As these columns are not related with the other columns so they can be fixed individually if there are any errors. There I am just formatting the column to proper time format."
   ]
  },
  {
   "cell_type": "code",
   "execution_count": 75,
   "metadata": {},
   "outputs": [],
   "source": [
    "#formatting departure time\n",
    "main_df['Departure Time'] =  pd.to_datetime(main_df['Departure Time'],errors='coerce', format='%H:%M:%S')\n",
    "\n",
    "Departure_Time=[]\n",
    "for i in main_df['Departure Time']:\n",
    "    Departure_Time.append(i.time())\n",
    "main_df['Departure Time'] = Departure_Time\n"
   ]
  },
  {
   "cell_type": "code",
   "execution_count": 76,
   "metadata": {},
   "outputs": [],
   "source": [
    "#formatting delivery time\n",
    "main_df['Delivery Time'] =  pd.to_datetime(main_df['Delivery Time'],errors='coerce', format='%H:%M:%S')\n",
    "TimeStamp_list=[]\n",
    "for i in main_df['Delivery Time']:\n",
    "    TimeStamp_list.append(i.time())\n",
    "main_df['Delivery Time'] = TimeStamp_list"
   ]
  },
  {
   "cell_type": "markdown",
   "metadata": {},
   "source": [
    "### 5.10: Fixing Date"
   ]
  },
  {
   "cell_type": "markdown",
   "metadata": {},
   "source": [
    "There are invalid dates in the datasets which need to be fixed . While manually studying the csv file few invalid dates were observed. Here below i have found invalid dates in the Departure Date column."
   ]
  },
  {
   "cell_type": "code",
   "execution_count": 77,
   "metadata": {},
   "outputs": [
    {
     "data": {
      "text/plain": [
       "0    2018-07-04\n",
       "1    2018-07-10\n",
       "2    2018-01-09\n",
       "3    2018-05-13\n",
       "4    2018-05-06\n",
       "Name: Departure Date, dtype: object"
      ]
     },
     "execution_count": 77,
     "metadata": {},
     "output_type": "execute_result"
    }
   ],
   "source": [
    "#checking dates from Departure Date column\n",
    "main_df['Departure Date'].head()"
   ]
  },
  {
   "cell_type": "code",
   "execution_count": 78,
   "metadata": {},
   "outputs": [],
   "source": [
    "# checking format of the date\n",
    "import datetime\n",
    "\n",
    "def date_validation(year, month, day=1):\n",
    "    correct_date = None\n",
    "    try:\n",
    "        datetime.datetime(year=year, month=month, day=day)\n",
    "        correct_date = True\n",
    "    except ValueError:\n",
    "        correct_date = False\n",
    "    return correct_date\n",
    "\n",
    "   "
   ]
  },
  {
   "cell_type": "code",
   "execution_count": 79,
   "metadata": {},
   "outputs": [
    {
     "name": "stdout",
     "output_type": "stream",
     "text": [
      "2018-24-07\n",
      "2018-26-05\n",
      "2018-18-07\n",
      "2018-13-07\n",
      "2018-18-04\n",
      "2018-06-31\n",
      "2018-06-31\n",
      "2018-04-31\n",
      "2018-17-06\n",
      "2018-21-04\n",
      "2018-20-04\n",
      "2018-17-04\n",
      "2018-18-02\n",
      "2018-14-05\n",
      "2018-14-05\n",
      "2018-26-03\n",
      "2018-14-07\n",
      "2018-06-31\n",
      "2018-04-31\n",
      "2018-02-30\n",
      "2018-04-31\n",
      "2018-04-31\n",
      "2018-04-31\n",
      "2018-19-05\n",
      "2018-25-05\n",
      "2018-13-06\n",
      "2018-24-07\n",
      "2018-15-01\n",
      "2018-18-06\n",
      "2018-22-03\n",
      "2018-15-04\n",
      "2018-24-01\n",
      "2018-02-30\n",
      "2018-06-31\n",
      "2018-20-04\n",
      "2018-13-07\n",
      "2018-19-03\n",
      "2018-06-31\n",
      "2018-02-30\n",
      "2018-02-30\n",
      "2018-04-31\n",
      "2018-02-30\n",
      "2018-06-31\n",
      "2018-20-01\n",
      "2018-22-03\n",
      "2018-22-05\n",
      "2018-22-04\n",
      "2018-18-06\n",
      "2018-22-03\n",
      "2018-15-05\n",
      "2018-28-05\n",
      "2018-20-01\n",
      "2018-04-31\n",
      "2018-24-06\n",
      "2018-04-31\n",
      "2018-04-31\n",
      "2018-20-06\n",
      "2018-22-03\n",
      "2018-16-06\n",
      "2018-02-30\n",
      "2018-15-04\n",
      "2018-04-31\n",
      "2018-06-31\n",
      "2018-02-30\n",
      "2018-25-06\n",
      "2018-21-03\n",
      "2018-19-05\n",
      "2018-23-02\n",
      "2018-24-03\n",
      "2018-21-01\n",
      "2018-04-31\n",
      "2018-24-01\n",
      "2018-02-30\n",
      "2018-04-31\n",
      "2018-04-31\n",
      "2018-06-31\n",
      "2018-04-31\n",
      "2018-06-31\n",
      "2018-06-31\n",
      "2018-06-31\n",
      "2018-23-07\n",
      "2018-21-07\n",
      "2018-23-01\n",
      "2018-14-07\n",
      "2018-28-02\n",
      "2018-19-03\n",
      "2018-17-07\n",
      "2018-26-03\n",
      "2018-17-01\n",
      "2018-02-30\n",
      "2018-02-30\n",
      "2018-06-31\n",
      "2018-04-31\n",
      "2018-27-01\n",
      "2018-15-06\n",
      "2018-18-05\n",
      "2018-24-05\n",
      "2018-22-04\n",
      "2018-16-05\n",
      "2018-04-31\n",
      "2018-02-30\n",
      "2018-06-31\n",
      "2018-06-31\n",
      "2018-02-30\n",
      "2018-06-31\n",
      "2018-24-02\n",
      "2018-22-02\n",
      "2018-15-04\n",
      "2018-18-05\n",
      "2018-25-02\n",
      "2018-20-04\n",
      "2018-04-31\n",
      "2018-06-31\n",
      "2018-06-31\n",
      "2018-06-31\n",
      "2018-15-05\n",
      "2018-06-31\n",
      "2018-14-02\n",
      "2018-21-07\n",
      "2018-21-05\n",
      "2018-25-01\n",
      "2018-04-31\n",
      "2018-27-02\n",
      "2018-25-02\n",
      "2018-02-30\n",
      "2018-02-30\n",
      "2018-28-04\n",
      "2018-14-07\n",
      "2018-22-04\n",
      "2018-17-04\n",
      "2018-06-31\n",
      "2018-25-01\n",
      "2018-06-31\n",
      "2018-04-31\n",
      "2018-02-30\n",
      "2018-06-31\n",
      "2018-06-31\n",
      "2018-04-31\n",
      "2018-02-30\n",
      "2018-06-31\n",
      "2018-06-31\n",
      "2018-04-31\n",
      "2018-04-31\n",
      "2018-24-04\n",
      "2018-04-31\n",
      "2018-24-04\n",
      "2018-14-05\n",
      "2018-06-31\n",
      "2018-02-30\n",
      "2018-02-30\n",
      "2018-06-31\n",
      "2018-04-31\n",
      "2018-06-31\n",
      "2018-15-03\n",
      "2018-18-04\n",
      "2018-14-07\n",
      "2018-13-02\n",
      "2018-22-04\n",
      "2018-14-03\n",
      "2018-16-02\n",
      "2018-04-31\n",
      "2018-04-31\n",
      "2018-02-30\n",
      "2018-06-31\n",
      "2018-02-30\n",
      "2018-13-02\n",
      "2018-18-04\n",
      "2018-15-03\n",
      "2018-27-04\n",
      "2018-20-03\n",
      "2018-23-06\n",
      "2018-19-02\n",
      "2018-02-30\n",
      "2018-06-31\n",
      "2018-04-31\n",
      "2018-04-31\n",
      "2018-04-31\n",
      "2018-22-07\n",
      "2018-06-31\n",
      "2018-19-02\n",
      "2018-20-02\n",
      "2018-27-05\n",
      "2018-17-04\n",
      "2018-28-02\n",
      "2018-24-04\n",
      "2018-28-05\n",
      "2018-06-31\n",
      "2018-02-30\n",
      "2018-02-30\n",
      "2018-06-31\n",
      "2018-18-02\n",
      "2018-02-30\n",
      "2018-23-06\n",
      "2018-23-06\n",
      "2018-16-05\n",
      "2018-17-02\n",
      "2018-21-05\n",
      "2018-21-05\n",
      "2018-02-30\n",
      "2018-06-31\n",
      "2018-06-31\n",
      "2018-02-30\n",
      "2018-06-31\n",
      "2018-02-30\n",
      "2018-02-30\n",
      "2018-04-31\n",
      "2018-24-03\n",
      "2018-21-07\n",
      "2018-02-30\n",
      "2018-17-01\n",
      "2018-27-05\n",
      "2018-14-02\n",
      "2018-28-07\n",
      "2018-02-30\n",
      "2018-02-30\n",
      "2018-02-30\n",
      "2018-04-31\n",
      "2018-06-31\n"
     ]
    },
    {
     "ename": "KeyError",
     "evalue": "36543L",
     "output_type": "error",
     "traceback": [
      "\u001b[1;31m---------------------------------------------------------------------------\u001b[0m",
      "\u001b[1;31mKeyError\u001b[0m                                  Traceback (most recent call last)",
      "\u001b[1;32m<ipython-input-79-a38508ddaf19>\u001b[0m in \u001b[0;36m<module>\u001b[1;34m()\u001b[0m\n\u001b[0;32m      3\u001b[0m \u001b[1;32mfor\u001b[0m \u001b[0mi\u001b[0m \u001b[1;32min\u001b[0m \u001b[0mmain_df\u001b[0m\u001b[1;33m.\u001b[0m\u001b[0mvalues\u001b[0m\u001b[1;33m:\u001b[0m\u001b[1;33m\u001b[0m\u001b[0m\n\u001b[0;32m      4\u001b[0m     \u001b[1;32mtry\u001b[0m\u001b[1;33m:\u001b[0m\u001b[1;33m\u001b[0m\u001b[0m\n\u001b[1;32m----> 5\u001b[1;33m         \u001b[1;32mif\u001b[0m \u001b[0mdate_validation\u001b[0m\u001b[1;33m(\u001b[0m\u001b[0mint\u001b[0m\u001b[1;33m(\u001b[0m\u001b[0mmain_df\u001b[0m\u001b[1;33m[\u001b[0m\u001b[1;34m'Departure Date'\u001b[0m\u001b[1;33m]\u001b[0m\u001b[1;33m[\u001b[0m\u001b[0mk\u001b[0m\u001b[1;33m]\u001b[0m\u001b[1;33m.\u001b[0m\u001b[0msplit\u001b[0m\u001b[1;33m(\u001b[0m\u001b[1;34m'-'\u001b[0m\u001b[1;33m)\u001b[0m\u001b[1;33m[\u001b[0m\u001b[1;36m0\u001b[0m\u001b[1;33m]\u001b[0m\u001b[1;33m)\u001b[0m\u001b[1;33m,\u001b[0m\u001b[0mint\u001b[0m\u001b[1;33m(\u001b[0m\u001b[0mmain_df\u001b[0m\u001b[1;33m[\u001b[0m\u001b[1;34m'Departure Date'\u001b[0m\u001b[1;33m]\u001b[0m\u001b[1;33m[\u001b[0m\u001b[0mk\u001b[0m\u001b[1;33m]\u001b[0m\u001b[1;33m.\u001b[0m\u001b[0msplit\u001b[0m\u001b[1;33m(\u001b[0m\u001b[1;34m'-'\u001b[0m\u001b[1;33m)\u001b[0m\u001b[1;33m[\u001b[0m\u001b[1;36m1\u001b[0m\u001b[1;33m]\u001b[0m\u001b[1;33m)\u001b[0m\u001b[1;33m,\u001b[0m\u001b[0mint\u001b[0m\u001b[1;33m(\u001b[0m\u001b[0mmain_df\u001b[0m\u001b[1;33m[\u001b[0m\u001b[1;34m'Departure Date'\u001b[0m\u001b[1;33m]\u001b[0m\u001b[1;33m[\u001b[0m\u001b[0mk\u001b[0m\u001b[1;33m]\u001b[0m\u001b[1;33m.\u001b[0m\u001b[0msplit\u001b[0m\u001b[1;33m(\u001b[0m\u001b[1;34m'-'\u001b[0m\u001b[1;33m)\u001b[0m\u001b[1;33m[\u001b[0m\u001b[1;36m2\u001b[0m\u001b[1;33m]\u001b[0m\u001b[1;33m)\u001b[0m\u001b[1;33m)\u001b[0m \u001b[1;33m==\u001b[0m \u001b[0mFalse\u001b[0m\u001b[1;33m:\u001b[0m\u001b[1;33m\u001b[0m\u001b[0m\n\u001b[0m\u001b[0;32m      6\u001b[0m              \u001b[1;32mprint\u001b[0m\u001b[1;33m(\u001b[0m\u001b[0mi\u001b[0m\u001b[1;33m[\u001b[0m\u001b[1;36m11\u001b[0m\u001b[1;33m]\u001b[0m\u001b[1;33m)\u001b[0m\u001b[1;33m\u001b[0m\u001b[0m\n\u001b[0;32m      7\u001b[0m         \u001b[0mk\u001b[0m\u001b[1;33m+=\u001b[0m\u001b[1;36m1\u001b[0m\u001b[1;33m\u001b[0m\u001b[0m\n",
      "\u001b[1;32mC:\\Users\\spes0001\\AppData\\Local\\Continuum\\anaconda2\\lib\\site-packages\\pandas\\core\\series.pyc\u001b[0m in \u001b[0;36m__getitem__\u001b[1;34m(self, key)\u001b[0m\n\u001b[0;32m    764\u001b[0m         \u001b[0mkey\u001b[0m \u001b[1;33m=\u001b[0m \u001b[0mcom\u001b[0m\u001b[1;33m.\u001b[0m\u001b[0m_apply_if_callable\u001b[0m\u001b[1;33m(\u001b[0m\u001b[0mkey\u001b[0m\u001b[1;33m,\u001b[0m \u001b[0mself\u001b[0m\u001b[1;33m)\u001b[0m\u001b[1;33m\u001b[0m\u001b[0m\n\u001b[0;32m    765\u001b[0m         \u001b[1;32mtry\u001b[0m\u001b[1;33m:\u001b[0m\u001b[1;33m\u001b[0m\u001b[0m\n\u001b[1;32m--> 766\u001b[1;33m             \u001b[0mresult\u001b[0m \u001b[1;33m=\u001b[0m \u001b[0mself\u001b[0m\u001b[1;33m.\u001b[0m\u001b[0mindex\u001b[0m\u001b[1;33m.\u001b[0m\u001b[0mget_value\u001b[0m\u001b[1;33m(\u001b[0m\u001b[0mself\u001b[0m\u001b[1;33m,\u001b[0m \u001b[0mkey\u001b[0m\u001b[1;33m)\u001b[0m\u001b[1;33m\u001b[0m\u001b[0m\n\u001b[0m\u001b[0;32m    767\u001b[0m \u001b[1;33m\u001b[0m\u001b[0m\n\u001b[0;32m    768\u001b[0m             \u001b[1;32mif\u001b[0m \u001b[1;32mnot\u001b[0m \u001b[0mis_scalar\u001b[0m\u001b[1;33m(\u001b[0m\u001b[0mresult\u001b[0m\u001b[1;33m)\u001b[0m\u001b[1;33m:\u001b[0m\u001b[1;33m\u001b[0m\u001b[0m\n",
      "\u001b[1;32mC:\\Users\\spes0001\\AppData\\Local\\Continuum\\anaconda2\\lib\\site-packages\\pandas\\core\\indexes\\base.pyc\u001b[0m in \u001b[0;36mget_value\u001b[1;34m(self, series, key)\u001b[0m\n\u001b[0;32m   3101\u001b[0m         \u001b[1;32mtry\u001b[0m\u001b[1;33m:\u001b[0m\u001b[1;33m\u001b[0m\u001b[0m\n\u001b[0;32m   3102\u001b[0m             return self._engine.get_value(s, k,\n\u001b[1;32m-> 3103\u001b[1;33m                                           tz=getattr(series.dtype, 'tz', None))\n\u001b[0m\u001b[0;32m   3104\u001b[0m         \u001b[1;32mexcept\u001b[0m \u001b[0mKeyError\u001b[0m \u001b[1;32mas\u001b[0m \u001b[0me1\u001b[0m\u001b[1;33m:\u001b[0m\u001b[1;33m\u001b[0m\u001b[0m\n\u001b[0;32m   3105\u001b[0m             \u001b[1;32mif\u001b[0m \u001b[0mlen\u001b[0m\u001b[1;33m(\u001b[0m\u001b[0mself\u001b[0m\u001b[1;33m)\u001b[0m \u001b[1;33m>\u001b[0m \u001b[1;36m0\u001b[0m \u001b[1;32mand\u001b[0m \u001b[0mself\u001b[0m\u001b[1;33m.\u001b[0m\u001b[0minferred_type\u001b[0m \u001b[1;32min\u001b[0m \u001b[1;33m[\u001b[0m\u001b[1;34m'integer'\u001b[0m\u001b[1;33m,\u001b[0m \u001b[1;34m'boolean'\u001b[0m\u001b[1;33m]\u001b[0m\u001b[1;33m:\u001b[0m\u001b[1;33m\u001b[0m\u001b[0m\n",
      "\u001b[1;32mpandas\\_libs\\index.pyx\u001b[0m in \u001b[0;36mpandas._libs.index.IndexEngine.get_value\u001b[1;34m()\u001b[0m\n",
      "\u001b[1;32mpandas\\_libs\\index.pyx\u001b[0m in \u001b[0;36mpandas._libs.index.IndexEngine.get_value\u001b[1;34m()\u001b[0m\n",
      "\u001b[1;32mpandas\\_libs\\index.pyx\u001b[0m in \u001b[0;36mpandas._libs.index.IndexEngine.get_loc\u001b[1;34m()\u001b[0m\n",
      "\u001b[1;32mpandas\\_libs\\hashtable_class_helper.pxi\u001b[0m in \u001b[0;36mpandas._libs.hashtable.Int64HashTable.get_item\u001b[1;34m()\u001b[0m\n",
      "\u001b[1;32mpandas\\_libs\\hashtable_class_helper.pxi\u001b[0m in \u001b[0;36mpandas._libs.hashtable.Int64HashTable.get_item\u001b[1;34m()\u001b[0m\n",
      "\u001b[1;31mKeyError\u001b[0m: 36543L"
     ]
    }
   ],
   "source": [
    "# checking the incorrect date.\n",
    "k=0\n",
    "for i in main_df.values:\n",
    "    try:\n",
    "        if date_validation(int(main_df['Departure Date'][k].split('-')[0]),int(main_df['Departure Date'][k].split('-')[1]),int(main_df['Departure Date'][k].split('-')[2])) == False:\n",
    "             print(i[11])\n",
    "        k+=1\n",
    "    except IndexError:\n",
    "        continue"
   ]
  },
  {
   "cell_type": "markdown",
   "metadata": {},
   "source": [
    "From the above, I have found the invalid dates in the Departure Date column by exceptional handling. Using a function date_validation, i have check the format of date and fetch the invalid dates. Since there is no Delivery Date in dataset where i can relate the Departure Date column, so Departure Date is an independent column where I am unable relate on what basis I have to fix the invalid dates. Therefore I have just identified the invalid dates in dataset. "
   ]
  },
  {
   "cell_type": "markdown",
   "metadata": {},
   "source": [
    "## 6: Detecting Outlier"
   ]
  },
  {
   "cell_type": "markdown",
   "metadata": {},
   "source": [
    "I used boxplot (boxes and whiskers) plot from matplotlib to investigate possible data outliers inthe given dataset. Once outliers are detected, we can either ﬁlter them out or impute them with other proper values. To decide upon the suitable action, analysis is required, either manually or automatically, to distinguish between diﬀerent outlier types. In general, we need to distinguish between a genuine outlier that represents interesting/diﬀerent pattern in data and other outliers that are caused by underlying glitches"
   ]
  },
  {
   "cell_type": "code",
   "execution_count": 80,
   "metadata": {},
   "outputs": [
    {
     "data": {
      "image/png": "[encoded data removed]",
      "text/plain": [
       "<Figure size 1080x720 with 1 Axes>"
      ]
     },
     "metadata": {},
     "output_type": "display_data"
    }
   ],
   "source": [
    "check_out = main_df.boxplot(column='Delivery Fare')"
   ]
  },
  {
   "cell_type": "markdown",
   "metadata": {},
   "source": [
    "Generating a solution csv file by fetching the fixed columns in it."
   ]
  },
  {
   "cell_type": "code",
   "execution_count": 81,
   "metadata": {},
   "outputs": [],
   "source": [
    "main_df.to_csv(\"30060567_solution.csv\", encoding='utf-8', index=False)"
   ]
  },
  {
   "cell_type": "markdown",
   "metadata": {},
   "source": [
    "## 7: Summary"
   ]
  },
  {
   "cell_type": "markdown",
   "metadata": {},
   "source": [
    "After analysing and finding errors then fixing the errors by doing graphical and non graphical EDA we get a clean dataset. Most of the errors in the dataset have been found and fixed. I  have fixed Package weight, Post Type, Origin Region, Destination Region, Origin Longitude, Origin Longitude, Destination longitude, Destination Latitude, Delivery Time, Departure Time and Travel Time. Drone Type , Delivery Fare column couldn't be fixed. As there are some columns left for fixing so the IDs duplicates couldn't be removed and the outliers are also not removed.  "
   ]
  },
  {
   "cell_type": "markdown",
   "metadata": {},
   "source": [
    "## 8: References"
   ]
  },
  {
   "cell_type": "markdown",
   "metadata": {},
   "source": [
    "1.Key, K. (2018). Map making in Python with Basemap. [online] Research Computing in Earth Sciences. Available at:   https://rabernat.github.io/research_computing/intro-to-basemap.html [Accessed 3 Oct. 2018].\n",
    "\n",
    "2.Learning, M., code), A. and Singh, A. (2018). A Practical Introduction to K-Nearest Neighbor for Regression. [online] Analytics Vidhya. Available at: https://www.analyticsvidhya.com/blog/2018/08/k-nearest-neighbor-introduction-regression-python/ [Accessed 3 Oct. 2018].\n",
    "\n",
    "3.points), H. (2018). Haversine Formula in Python (Bearing and Distance between two GPS points). [online] Stack Overflow. Available at: https://stackoverflow.com/questions/4913349/haversine-formula-in-python-bearing-and-distance-between-two-gps-points [Accessed 3 Oct. 2018].\n",
    "\n",
    "4.Tutorial Week6 - Data Auditing\n",
    "\n",
    "5.Tutorial Week7 - Missing Value Mean Imputation\n",
    "\n",
    "6.Tutorial Week8 "
   ]
  },
  {
   "cell_type": "code",
   "execution_count": null,
   "metadata": {},
   "outputs": [],
   "source": []
  }
 ],
 "metadata": {
  "kernelspec": {
   "display_name": "Python 2",
   "language": "python",
   "name": "python2"
  },
  "language_info": {
   "codemirror_mode": {
    "name": "ipython",
    "version": 2
   },
   "file_extension": ".py",
   "mimetype": "text/x-python",
   "name": "python",
   "nbconvert_exporter": "python",
   "pygments_lexer": "ipython2",
   "version": "2.7.15"
  }
 },
 "nbformat": 4,
 "nbformat_minor": 2
}
